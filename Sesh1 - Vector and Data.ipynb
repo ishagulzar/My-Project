{
 "cells": [
  {
   "cell_type": "markdown",
   "id": "40a64e67",
   "metadata": {
    "id": "40a64e67"
   },
   "source": [
    "### Getting help"
   ]
  },
  {
   "cell_type": "code",
   "execution_count": 3,
   "id": "3ab7bbb6",
   "metadata": {
    "id": "3ab7bbb6"
   },
   "outputs": [
    {
     "name": "stdout",
     "output_type": "stream",
     "text": [
      "Object `mean # same as help(mean)` not found.\n"
     ]
    }
   ],
   "source": [
    "# If we know what function we need help with, then type:\n",
    "?mean # same as help(mean)"
   ]
  },
  {
   "cell_type": "code",
   "execution_count": 4,
   "id": "f8ea66cc",
   "metadata": {
    "id": "f8ea66cc",
    "outputId": "653f9a29-79fd-4b69-bb31-69574b5fa7ec"
   },
   "outputs": [
    {
     "ename": "NameError",
     "evalue": "name 'example' is not defined",
     "output_type": "error",
     "traceback": [
      "\u001b[1;31m---------------------------------------------------------------------------\u001b[0m",
      "\u001b[1;31mNameError\u001b[0m                                 Traceback (most recent call last)",
      "\u001b[1;32m~\\AppData\\Local\\Temp\\ipykernel_6672\\1330730639.py\u001b[0m in \u001b[0;36m<module>\u001b[1;34m\u001b[0m\n\u001b[0;32m      1\u001b[0m \u001b[1;31m# If we just want to see an example\u001b[0m\u001b[1;33m\u001b[0m\u001b[1;33m\u001b[0m\u001b[0m\n\u001b[1;32m----> 2\u001b[1;33m \u001b[0mexample\u001b[0m\u001b[1;33m(\u001b[0m\u001b[0mmean\u001b[0m\u001b[1;33m)\u001b[0m\u001b[1;33m\u001b[0m\u001b[1;33m\u001b[0m\u001b[0m\n\u001b[0m",
      "\u001b[1;31mNameError\u001b[0m: name 'example' is not defined"
     ]
    }
   ],
   "source": [
    "# If we just want to see an example\n",
    "example(mean)"
   ]
  },
  {
   "cell_type": "code",
   "execution_count": null,
   "id": "7b69616f",
   "metadata": {
    "id": "7b69616f",
    "outputId": "8a2064ba-110f-4a58-a84a-da2b42c2d1aa"
   },
   "outputs": [
    {
     "name": "stderr",
     "output_type": "stream",
     "text": [
      "starting httpd help server ... done\n"
     ]
    }
   ],
   "source": [
    "#Often we don't know exactly what we are looking for\n",
    "??\"fitting linear model\" "
   ]
  },
  {
   "cell_type": "code",
   "execution_count": null,
   "id": "4c6f880f",
   "metadata": {
    "id": "4c6f880f"
   },
   "outputs": [],
   "source": [
    "# Alternate way of doing this is:\n",
    "help.search(\"fitting linear model\")"
   ]
  },
  {
   "cell_type": "raw",
   "id": "8878c984",
   "metadata": {
    "id": "8878c984"
   },
   "source": [
    "R has five basic or “atomic” classes of objects:\n",
    "\n",
    "• character\n",
    "• numeric (real numbers)\n",
    "• integer\n",
    "• complex\n",
    "• logical (True/False)"
   ]
  },
  {
   "cell_type": "raw",
   "id": "70c7eac5",
   "metadata": {
    "id": "70c7eac5"
   },
   "source": [
    "R operators\n",
    "\n",
    "+ add\n",
    "- subtract\n",
    "* muliply\n",
    "^ raise to power\n",
    "/ divide\n",
    "! NOT\n",
    "& AND\n",
    "| OR\n",
    "%% Modulus\n",
    "== compare\n",
    "<=, >=, != relational operators\n",
    "\n",
    "..\n",
    "there are many more operators"
   ]
  },
  {
   "cell_type": "markdown",
   "id": "5bcf0ee7",
   "metadata": {
    "id": "5bcf0ee7"
   },
   "source": [
    "## R as a Calculator"
   ]
  },
  {
   "cell_type": "code",
   "execution_count": null,
   "id": "04689fff",
   "metadata": {
    "id": "04689fff",
    "outputId": "9161eea6-2de1-46a0-c58f-1053f5dd4645"
   },
   "outputs": [
    {
     "data": {
      "text/html": [
       "5"
      ],
      "text/latex": [
       "5"
      ],
      "text/markdown": [
       "5"
      ],
      "text/plain": [
       "[1] 5"
      ]
     },
     "metadata": {},
     "output_type": "display_data"
    }
   ],
   "source": [
    "2 + 3"
   ]
  },
  {
   "cell_type": "code",
   "execution_count": null,
   "id": "60833f7d",
   "metadata": {
    "id": "60833f7d",
    "outputId": "69ac4215-3f00-42cb-de6c-815f42af341f"
   },
   "outputs": [
    {
     "data": {
      "text/html": [
       "1.4142135623731"
      ],
      "text/latex": [
       "1.4142135623731"
      ],
      "text/markdown": [
       "1.4142135623731"
      ],
      "text/plain": [
       "[1] 1.414214"
      ]
     },
     "metadata": {},
     "output_type": "display_data"
    }
   ],
   "source": [
    "sqrt(2)"
   ]
  },
  {
   "cell_type": "code",
   "execution_count": null,
   "id": "a2fe8af4",
   "metadata": {
    "id": "a2fe8af4",
    "outputId": "6cf1750f-0720-467e-d31c-1e18f3765eb9"
   },
   "outputs": [
    {
     "data": {
      "text/html": [
       "<ol class=list-inline>\n",
       "\t<li>0</li>\n",
       "\t<li>0.555555555555556</li>\n",
       "\t<li>1.11111111111111</li>\n",
       "\t<li>1.66666666666667</li>\n",
       "\t<li>2.22222222222222</li>\n",
       "\t<li>2.77777777777778</li>\n",
       "\t<li>3.33333333333333</li>\n",
       "\t<li>3.88888888888889</li>\n",
       "\t<li>4.44444444444444</li>\n",
       "\t<li>5</li>\n",
       "</ol>\n"
      ],
      "text/latex": [
       "\\begin{enumerate*}\n",
       "\\item 0\n",
       "\\item 0.555555555555556\n",
       "\\item 1.11111111111111\n",
       "\\item 1.66666666666667\n",
       "\\item 2.22222222222222\n",
       "\\item 2.77777777777778\n",
       "\\item 3.33333333333333\n",
       "\\item 3.88888888888889\n",
       "\\item 4.44444444444444\n",
       "\\item 5\n",
       "\\end{enumerate*}\n"
      ],
      "text/markdown": [
       "1. 0\n",
       "2. 0.555555555555556\n",
       "3. 1.11111111111111\n",
       "4. 1.66666666666667\n",
       "5. 2.22222222222222\n",
       "6. 2.77777777777778\n",
       "7. 3.33333333333333\n",
       "8. 3.88888888888889\n",
       "9. 4.44444444444444\n",
       "10. 5\n",
       "\n",
       "\n"
      ],
      "text/plain": [
       " [1] 0.0000000 0.5555556 1.1111111 1.6666667 2.2222222 2.7777778 3.3333333\n",
       " [8] 3.8888889 4.4444444 5.0000000"
      ]
     },
     "metadata": {},
     "output_type": "display_data"
    }
   ],
   "source": [
    "seq(0, 5, length=10)"
   ]
  },
  {
   "cell_type": "code",
   "execution_count": null,
   "id": "1421b573",
   "metadata": {
    "id": "1421b573",
    "outputId": "4b10c87c-fbc2-400c-dd6c-705231047e39"
   },
   "outputs": [
    {
     "data": {
      "image/png": "[encoded data removed]",
      "text/plain": [
       "plot without title"
      ]
     },
     "metadata": {},
     "output_type": "display_data"
    }
   ],
   "source": [
    "plot(sin(seq(0, 2*pi, length=100)))"
   ]
  },
  {
   "cell_type": "code",
   "execution_count": null,
   "id": "00c13409",
   "metadata": {
    "id": "00c13409",
    "outputId": "10dd2236-09da-4c82-d790-2e271ead97f7"
   },
   "outputs": [
    {
     "data": {
      "text/html": [
       "1.94591014905531"
      ],
      "text/latex": [
       "1.94591014905531"
      ],
      "text/markdown": [
       "1.94591014905531"
      ],
      "text/plain": [
       "[1] 1.94591"
      ]
     },
     "metadata": {},
     "output_type": "display_data"
    }
   ],
   "source": [
    "log(7)"
   ]
  },
  {
   "cell_type": "code",
   "execution_count": null,
   "id": "535aa3ab",
   "metadata": {
    "id": "535aa3ab",
    "outputId": "2175a9f1-ab4e-454a-c695-9d3b25ebc4f5"
   },
   "outputs": [
    {
     "data": {
      "text/html": [
       "0.845098040014257"
      ],
      "text/latex": [
       "0.845098040014257"
      ],
      "text/markdown": [
       "0.845098040014257"
      ],
      "text/plain": [
       "[1] 0.845098"
      ]
     },
     "metadata": {},
     "output_type": "display_data"
    }
   ],
   "source": [
    "log10(7)"
   ]
  },
  {
   "cell_type": "code",
   "execution_count": null,
   "id": "422052e1",
   "metadata": {
    "id": "422052e1",
    "outputId": "874847b8-05c6-4ede-e3b0-88a92f2bd960"
   },
   "outputs": [
    {
     "data": {
      "text/html": [
       "8"
      ],
      "text/latex": [
       "8"
      ],
      "text/markdown": [
       "8"
      ],
      "text/plain": [
       "[1] 8"
      ]
     },
     "metadata": {},
     "output_type": "display_data"
    }
   ],
   "source": [
    "2^3"
   ]
  },
  {
   "cell_type": "code",
   "execution_count": null,
   "id": "1989402c",
   "metadata": {
    "id": "1989402c",
    "outputId": "b54ada02-ea52-4f78-ea15-5276c301bb74"
   },
   "outputs": [
    {
     "data": {
      "text/html": [
       "1"
      ],
      "text/latex": [
       "1"
      ],
      "text/markdown": [
       "1"
      ],
      "text/plain": [
       "[1] 1"
      ]
     },
     "metadata": {},
     "output_type": "display_data"
    }
   ],
   "source": [
    "sin(pi/2)"
   ]
  },
  {
   "cell_type": "code",
   "execution_count": null,
   "id": "034860a4",
   "metadata": {
    "id": "034860a4",
    "outputId": "b6c520c2-5973-48de-86e2-7350573d6735"
   },
   "outputs": [
    {
     "data": {
      "text/html": [
       "3.14159265358979"
      ],
      "text/latex": [
       "3.14159265358979"
      ],
      "text/markdown": [
       "3.14159265358979"
      ],
      "text/plain": [
       "[1] 3.141593"
      ]
     },
     "metadata": {},
     "output_type": "display_data"
    }
   ],
   "source": [
    "pi"
   ]
  },
  {
   "cell_type": "code",
   "execution_count": null,
   "id": "994966d6",
   "metadata": {
    "id": "994966d6"
   },
   "outputs": [],
   "source": [
    "options(digits=22)"
   ]
  },
  {
   "cell_type": "code",
   "execution_count": null,
   "id": "54609138",
   "metadata": {
    "id": "54609138",
    "outputId": "b002a546-3c3d-41b1-a70e-5a4d0eaffba6"
   },
   "outputs": [
    {
     "data": {
      "text/html": [
       "3.14159265358979"
      ],
      "text/latex": [
       "3.14159265358979"
      ],
      "text/markdown": [
       "3.14159265358979"
      ],
      "text/plain": [
       "[1] 3.1415926535897931"
      ]
     },
     "metadata": {},
     "output_type": "display_data"
    }
   ],
   "source": [
    "pi"
   ]
  },
  {
   "cell_type": "code",
   "execution_count": null,
   "id": "c66b0498",
   "metadata": {
    "id": "c66b0498",
    "outputId": "994dc200-8bc8-4ad5-8213-5a14b21e696f"
   },
   "outputs": [
    {
     "data": {
      "text/html": [
       "3.66666666666667"
      ],
      "text/latex": [
       "3.66666666666667"
      ],
      "text/markdown": [
       "3.66666666666667"
      ],
      "text/plain": [
       "[1] 3.6666666666666665"
      ]
     },
     "metadata": {},
     "output_type": "display_data"
    }
   ],
   "source": [
    "# division and reminder\n",
    "11 / 3"
   ]
  },
  {
   "cell_type": "code",
   "execution_count": null,
   "id": "c1c3249e",
   "metadata": {
    "id": "c1c3249e",
    "outputId": "c3c0423a-1883-4e71-8ef6-0697f91e55bf"
   },
   "outputs": [
    {
     "data": {
      "text/html": [
       "2"
      ],
      "text/latex": [
       "2"
      ],
      "text/markdown": [
       "2"
      ],
      "text/plain": [
       "[1] 2"
      ]
     },
     "metadata": {},
     "output_type": "display_data"
    }
   ],
   "source": [
    "11 %% 3"
   ]
  },
  {
   "cell_type": "code",
   "execution_count": null,
   "id": "d2c1cae2",
   "metadata": {
    "id": "d2c1cae2",
    "outputId": "f4de9cf5-0b8c-48cf-a03c-5391c3fab169"
   },
   "outputs": [
    {
     "data": {
      "text/html": [
       "3"
      ],
      "text/latex": [
       "3"
      ],
      "text/markdown": [
       "3"
      ],
      "text/plain": [
       "[1] 3"
      ]
     },
     "metadata": {},
     "output_type": "display_data"
    }
   ],
   "source": [
    "11 %/% 3"
   ]
  },
  {
   "cell_type": "code",
   "execution_count": null,
   "id": "b5073008",
   "metadata": {
    "id": "b5073008"
   },
   "outputs": [],
   "source": [
    "# Exercise\n",
    "# Try add, subtraction, multiplication, division of two numbers with decimals, get the quotient and the reminder\n",
    "# calculate the sqrt of your two digit roll number"
   ]
  },
  {
   "cell_type": "markdown",
   "id": "8b1a8f75",
   "metadata": {
    "id": "8b1a8f75"
   },
   "source": [
    "\n",
    "In R we have objects which are functions and objects which are data."
   ]
  },
  {
   "cell_type": "markdown",
   "id": "2d2f69fd",
   "metadata": {
    "id": "2d2f69fd"
   },
   "source": [
    "### Data examples"
   ]
  },
  {
   "cell_type": "code",
   "execution_count": null,
   "id": "63dd3f74",
   "metadata": {
    "id": "63dd3f74",
    "outputId": "abad1c2c-35b1-4c7e-fdae-798abfb5a806"
   },
   "outputs": [
    {
     "data": {
      "text/html": [
       "'numeric'"
      ],
      "text/latex": [
       "'numeric'"
      ],
      "text/markdown": [
       "'numeric'"
      ],
      "text/plain": [
       "[1] \"numeric\""
      ]
     },
     "metadata": {},
     "output_type": "display_data"
    }
   ],
   "source": [
    "# integer \n",
    "class(42)"
   ]
  },
  {
   "cell_type": "code",
   "execution_count": null,
   "id": "6b0d26b2",
   "metadata": {
    "id": "6b0d26b2",
    "outputId": "a59a1534-6c31-480e-de77-41fc950a42af"
   },
   "outputs": [
    {
     "data": {
      "text/html": [
       "'numeric'"
      ],
      "text/latex": [
       "'numeric'"
      ],
      "text/markdown": [
       "'numeric'"
      ],
      "text/plain": [
       "[1] \"numeric\""
      ]
     },
     "metadata": {},
     "output_type": "display_data"
    }
   ],
   "source": [
    "# numeric\n",
    "class(3.14)"
   ]
  },
  {
   "cell_type": "code",
   "execution_count": null,
   "id": "468cfe47",
   "metadata": {
    "id": "468cfe47",
    "outputId": "f299cbf7-60b6-4127-dc26-1eb70e92b2b1"
   },
   "outputs": [
    {
     "data": {
      "text/html": [
       "<ol class=list-inline>\n",
       "\t<li>1</li>\n",
       "\t<li>2</li>\n",
       "\t<li>3</li>\n",
       "\t<li>4</li>\n",
       "\t<li>5</li>\n",
       "</ol>\n"
      ],
      "text/latex": [
       "\\begin{enumerate*}\n",
       "\\item 1\n",
       "\\item 2\n",
       "\\item 3\n",
       "\\item 4\n",
       "\\item 5\n",
       "\\end{enumerate*}\n"
      ],
      "text/markdown": [
       "1. 1\n",
       "2. 2\n",
       "3. 3\n",
       "4. 4\n",
       "5. 5\n",
       "\n",
       "\n"
      ],
      "text/plain": [
       "[1] 1 2 3 4 5"
      ]
     },
     "metadata": {},
     "output_type": "display_data"
    }
   ],
   "source": [
    "1:5"
   ]
  },
  {
   "cell_type": "code",
   "execution_count": null,
   "id": "b2ad2675",
   "metadata": {
    "id": "b2ad2675",
    "outputId": "3e781725-cac4-4ca2-ae80-482769dce1d8"
   },
   "outputs": [
    {
     "data": {
      "text/html": [
       "Inf"
      ],
      "text/latex": [
       "Inf"
      ],
      "text/markdown": [
       "Inf"
      ],
      "text/plain": [
       "[1] Inf"
      ]
     },
     "metadata": {},
     "output_type": "display_data"
    }
   ],
   "source": [
    "1/0"
   ]
  },
  {
   "cell_type": "code",
   "execution_count": null,
   "id": "4cb143b9",
   "metadata": {
    "id": "4cb143b9",
    "outputId": "fc14eb10-66c2-43d4-dd20-f1efddaa8c75"
   },
   "outputs": [
    {
     "data": {
      "text/html": [
       "0"
      ],
      "text/latex": [
       "0"
      ],
      "text/markdown": [
       "0"
      ],
      "text/plain": [
       "[1] 0"
      ]
     },
     "metadata": {},
     "output_type": "display_data"
    }
   ],
   "source": [
    "1/Inf"
   ]
  },
  {
   "cell_type": "code",
   "execution_count": null,
   "id": "ee963643",
   "metadata": {
    "id": "ee963643",
    "outputId": "067f0ce7-295b-4dc7-ee1f-f1b973ebafc3"
   },
   "outputs": [
    {
     "data": {
      "text/html": [
       "NaN"
      ],
      "text/latex": [
       "NaN"
      ],
      "text/markdown": [
       "NaN"
      ],
      "text/plain": [
       "[1] NaN"
      ]
     },
     "metadata": {},
     "output_type": "display_data"
    }
   ],
   "source": [
    "NaN * 2"
   ]
  },
  {
   "cell_type": "code",
   "execution_count": null,
   "id": "ede2b40d",
   "metadata": {
    "id": "ede2b40d"
   },
   "outputs": [],
   "source": [
    "# Exercise\n",
    "# try to get a series from -10 to +10"
   ]
  },
  {
   "cell_type": "code",
   "execution_count": null,
   "id": "71947d2f",
   "metadata": {
    "id": "71947d2f"
   },
   "outputs": [],
   "source": []
  },
  {
   "cell_type": "code",
   "execution_count": null,
   "id": "fd4141d0",
   "metadata": {
    "id": "fd4141d0",
    "outputId": "3b03057f-3237-4656-e7fc-79f1bf6f6f19"
   },
   "outputs": [
    {
     "data": {
      "text/html": [
       "'character'"
      ],
      "text/latex": [
       "'character'"
      ],
      "text/markdown": [
       "'character'"
      ],
      "text/plain": [
       "[1] \"character\""
      ]
     },
     "metadata": {},
     "output_type": "display_data"
    }
   ],
   "source": [
    "# check data type using \n",
    "class(\"R\")"
   ]
  },
  {
   "cell_type": "code",
   "execution_count": null,
   "id": "555cbdf2",
   "metadata": {
    "id": "555cbdf2",
    "outputId": "c64d1a30-90f3-40f1-827c-6e0f9815e07d"
   },
   "outputs": [
    {
     "data": {
      "text/html": [
       "FALSE"
      ],
      "text/latex": [
       "FALSE"
      ],
      "text/markdown": [
       "FALSE"
      ],
      "text/plain": [
       "[1] FALSE"
      ]
     },
     "metadata": {},
     "output_type": "display_data"
    }
   ],
   "source": [
    "# logical\n",
    "lis = 1 == 2\n",
    "lis"
   ]
  },
  {
   "cell_type": "code",
   "execution_count": null,
   "id": "be50990d",
   "metadata": {
    "id": "be50990d",
    "outputId": "b9015298-4ab3-44f2-ce65-3fc51edfbda0"
   },
   "outputs": [
    {
     "data": {
      "text/html": [
       "TRUE"
      ],
      "text/latex": [
       "TRUE"
      ],
      "text/markdown": [
       "TRUE"
      ],
      "text/plain": [
       "[1] TRUE"
      ]
     },
     "metadata": {},
     "output_type": "display_data"
    }
   ],
   "source": [
    "T == TRUE"
   ]
  },
  {
   "cell_type": "code",
   "execution_count": null,
   "id": "d93c17d1",
   "metadata": {
    "id": "d93c17d1",
    "outputId": "f783ca2c-5e35-406b-ab0b-1914574292c8"
   },
   "outputs": [
    {
     "data": {
      "text/html": [
       "2"
      ],
      "text/latex": [
       "2"
      ],
      "text/markdown": [
       "2"
      ],
      "text/plain": [
       "[1] 2"
      ]
     },
     "metadata": {},
     "output_type": "display_data"
    }
   ],
   "source": [
    "TRUE * 2 # TRUE evaluates to 1 just like in Python and False to 0"
   ]
  },
  {
   "cell_type": "code",
   "execution_count": null,
   "id": "6044b672",
   "metadata": {
    "id": "6044b672",
    "outputId": "8b59f36c-5683-4256-89fc-fdd13a408c6c"
   },
   "outputs": [
    {
     "data": {
      "text/html": [
       "1"
      ],
      "text/latex": [
       "1"
      ],
      "text/markdown": [
       "1"
      ],
      "text/plain": [
       "[1] 1"
      ]
     },
     "metadata": {},
     "output_type": "display_data"
    }
   ],
   "source": [
    "TRUE + FALSE"
   ]
  },
  {
   "cell_type": "code",
   "execution_count": null,
   "id": "f18012e5",
   "metadata": {
    "id": "f18012e5",
    "outputId": "3e4f1bc7-adf3-43f1-9e8e-f6db6c5f52cd"
   },
   "outputs": [
    {
     "data": {
      "text/html": [
       "'logical'"
      ],
      "text/latex": [
       "'logical'"
      ],
      "text/markdown": [
       "'logical'"
      ],
      "text/plain": [
       "[1] \"logical\""
      ]
     },
     "metadata": {},
     "output_type": "display_data"
    }
   ],
   "source": [
    "class(lis)"
   ]
  },
  {
   "cell_type": "markdown",
   "id": "bf0f5681",
   "metadata": {
    "id": "bf0f5681"
   },
   "source": [
    "### variables"
   ]
  },
  {
   "cell_type": "code",
   "execution_count": null,
   "id": "319a23a2",
   "metadata": {
    "id": "319a23a2",
    "outputId": "e2133dc7-53b8-4d14-b5c2-38705c3c6888"
   },
   "outputs": [
    {
     "data": {
      "text/html": [
       "<table>\n",
       "<tbody>\n",
       "\t<tr><td>1 </td><td>5 </td><td> 9</td></tr>\n",
       "\t<tr><td>2 </td><td>6 </td><td>10</td></tr>\n",
       "\t<tr><td>3 </td><td>7 </td><td>11</td></tr>\n",
       "\t<tr><td>4 </td><td>8 </td><td>12</td></tr>\n",
       "</tbody>\n",
       "</table>\n"
      ],
      "text/latex": [
       "\\begin{tabular}{lll}\n",
       "\t 1  & 5  &  9\\\\\n",
       "\t 2  & 6  & 10\\\\\n",
       "\t 3  & 7  & 11\\\\\n",
       "\t 4  & 8  & 12\\\\\n",
       "\\end{tabular}\n"
      ],
      "text/markdown": [
       "\n",
       "| 1  | 5  |  9 |\n",
       "| 2  | 6  | 10 |\n",
       "| 3  | 7  | 11 |\n",
       "| 4  | 8  | 12 |\n",
       "\n"
      ],
      "text/plain": [
       "     [,1] [,2] [,3]\n",
       "[1,] 1    5     9  \n",
       "[2,] 2    6    10  \n",
       "[3,] 3    7    11  \n",
       "[4,] 4    8    12  "
      ]
     },
     "metadata": {},
     "output_type": "display_data"
    }
   ],
   "source": [
    "m <- matrix(1:12, nrow=4, ncol=3)\n",
    "m"
   ]
  },
  {
   "cell_type": "code",
   "execution_count": null,
   "id": "9d7fc2b7",
   "metadata": {
    "id": "9d7fc2b7",
    "outputId": "492e8474-fa0f-4948-9b94-af80c57b0de3"
   },
   "outputs": [
    {
     "data": {
      "text/html": [
       "'matrix'"
      ],
      "text/latex": [
       "'matrix'"
      ],
      "text/markdown": [
       "'matrix'"
      ],
      "text/plain": [
       "[1] \"matrix\""
      ]
     },
     "metadata": {},
     "output_type": "display_data"
    }
   ],
   "source": [
    "class(m)"
   ]
  },
  {
   "cell_type": "code",
   "execution_count": null,
   "id": "826d6e39",
   "metadata": {
    "id": "826d6e39",
    "outputId": "722ca7c8-e958-48bd-de7c-c8e14ff1b54f"
   },
   "outputs": [
    {
     "data": {
      "text/html": [
       "<table>\n",
       "<thead><tr><th scope=col>a</th><th scope=col>tmt</th></tr></thead>\n",
       "<tbody>\n",
       "\t<tr><td>1</td><td>a</td></tr>\n",
       "\t<tr><td>2</td><td>b</td></tr>\n",
       "\t<tr><td>3</td><td>a</td></tr>\n",
       "\t<tr><td>4</td><td>b</td></tr>\n",
       "\t<tr><td>5</td><td>a</td></tr>\n",
       "</tbody>\n",
       "</table>\n"
      ],
      "text/latex": [
       "\\begin{tabular}{r|ll}\n",
       " a & tmt\\\\\n",
       "\\hline\n",
       "\t 1 & a\\\\\n",
       "\t 2 & b\\\\\n",
       "\t 3 & a\\\\\n",
       "\t 4 & b\\\\\n",
       "\t 5 & a\\\\\n",
       "\\end{tabular}\n"
      ],
      "text/markdown": [
       "\n",
       "| a | tmt |\n",
       "|---|---|\n",
       "| 1 | a |\n",
       "| 2 | b |\n",
       "| 3 | a |\n",
       "| 4 | b |\n",
       "| 5 | a |\n",
       "\n"
      ],
      "text/plain": [
       "  a tmt\n",
       "1 1 a  \n",
       "2 2 b  \n",
       "3 3 a  \n",
       "4 4 b  \n",
       "5 5 a  "
      ]
     },
     "metadata": {},
     "output_type": "display_data"
    }
   ],
   "source": [
    "df <- data.frame(a=1:5, tmt=c(\"a\",\"b\",\"a\",\"b\",\"a\"))\n",
    "df"
   ]
  },
  {
   "cell_type": "code",
   "execution_count": null,
   "id": "ea907456",
   "metadata": {
    "id": "ea907456",
    "outputId": "78dd3866-5b19-46e6-ca7e-24a57352d0b4"
   },
   "outputs": [
    {
     "data": {
      "text/html": [
       "<ol class=list-inline>\n",
       "\t<li>a</li>\n",
       "\t<li>b</li>\n",
       "\t<li>a</li>\n",
       "\t<li>b</li>\n",
       "\t<li>a</li>\n",
       "</ol>\n",
       "\n",
       "<details>\n",
       "\t<summary style=display:list-item;cursor:pointer>\n",
       "\t\t<strong>Levels</strong>:\n",
       "\t</summary>\n",
       "\t<ol class=list-inline>\n",
       "\t\t<li>'a'</li>\n",
       "\t\t<li>'b'</li>\n",
       "\t</ol>\n",
       "</details>"
      ],
      "text/latex": [
       "\\begin{enumerate*}\n",
       "\\item a\n",
       "\\item b\n",
       "\\item a\n",
       "\\item b\n",
       "\\item a\n",
       "\\end{enumerate*}\n",
       "\n",
       "\\emph{Levels}: \\begin{enumerate*}\n",
       "\\item 'a'\n",
       "\\item 'b'\n",
       "\\end{enumerate*}\n"
      ],
      "text/markdown": [
       "1. a\n",
       "2. b\n",
       "3. a\n",
       "4. b\n",
       "5. a\n",
       "\n",
       "\n",
       "\n",
       "**Levels**: 1. 'a'\n",
       "2. 'b'\n",
       "\n",
       "\n"
      ],
      "text/plain": [
       "[1] a b a b a\n",
       "Levels: a b"
      ]
     },
     "metadata": {},
     "output_type": "display_data"
    }
   ],
   "source": [
    "# to get a column, it is not '.'\n",
    "# df.tmt\n",
    "# use $\n",
    "df$tmt"
   ]
  },
  {
   "cell_type": "code",
   "execution_count": null,
   "id": "fb3e4092",
   "metadata": {
    "id": "fb3e4092",
    "outputId": "4b9cd475-9871-4b32-e459-d3969679e5b1"
   },
   "outputs": [
    {
     "data": {
      "text/html": [
       "'data.frame'"
      ],
      "text/latex": [
       "'data.frame'"
      ],
      "text/markdown": [
       "'data.frame'"
      ],
      "text/plain": [
       "[1] \"data.frame\""
      ]
     },
     "metadata": {},
     "output_type": "display_data"
    }
   ],
   "source": [
    "class(df)"
   ]
  },
  {
   "cell_type": "code",
   "execution_count": null,
   "id": "0229b162",
   "metadata": {
    "id": "0229b162",
    "outputId": "2513c843-d2c6-45f5-ccc5-c1adb126f8a6"
   },
   "outputs": [
    {
     "data": {
      "text/html": [
       "<dl>\n",
       "\t<dt>$x</dt>\n",
       "\t\t<dd>2</dd>\n",
       "\t<dt>$y</dt>\n",
       "\t\t<dd>'abc'</dd>\n",
       "\t<dt>$z</dt>\n",
       "\t\t<dd><ol class=list-inline>\n",
       "\t<li>1</li>\n",
       "\t<li>2</li>\n",
       "\t<li>3</li>\n",
       "\t<li>4</li>\n",
       "\t<li>5</li>\n",
       "\t<li>6</li>\n",
       "\t<li>7</li>\n",
       "\t<li>8</li>\n",
       "\t<li>9</li>\n",
       "\t<li>10</li>\n",
       "</ol>\n",
       "</dd>\n",
       "</dl>\n"
      ],
      "text/latex": [
       "\\begin{description}\n",
       "\\item[\\$x] 2\n",
       "\\item[\\$y] 'abc'\n",
       "\\item[\\$z] \\begin{enumerate*}\n",
       "\\item 1\n",
       "\\item 2\n",
       "\\item 3\n",
       "\\item 4\n",
       "\\item 5\n",
       "\\item 6\n",
       "\\item 7\n",
       "\\item 8\n",
       "\\item 9\n",
       "\\item 10\n",
       "\\end{enumerate*}\n",
       "\n",
       "\\end{description}\n"
      ],
      "text/markdown": [
       "$x\n",
       ":   2\n",
       "$y\n",
       ":   'abc'\n",
       "$z\n",
       ":   1. 1\n",
       "2. 2\n",
       "3. 3\n",
       "4. 4\n",
       "5. 5\n",
       "6. 6\n",
       "7. 7\n",
       "8. 8\n",
       "9. 9\n",
       "10. 10\n",
       "\n",
       "\n",
       "\n",
       "\n",
       "\n"
      ],
      "text/plain": [
       "$x\n",
       "[1] 2\n",
       "\n",
       "$y\n",
       "[1] \"abc\"\n",
       "\n",
       "$z\n",
       " [1]  1  2  3  4  5  6  7  8  9 10\n"
      ]
     },
     "metadata": {},
     "output_type": "display_data"
    }
   ],
   "source": [
    "lis = list(x=2, y=\"abc\", z=1:10)\n",
    "lis"
   ]
  },
  {
   "cell_type": "code",
   "execution_count": null,
   "id": "88c5bffb",
   "metadata": {
    "id": "88c5bffb",
    "outputId": "51b5c0b0-81f0-4c09-f9dd-62d05238ae32"
   },
   "outputs": [
    {
     "data": {
      "text/html": [
       "<strong>$x</strong> = 2"
      ],
      "text/latex": [
       "\\textbf{\\$x} = 2"
      ],
      "text/markdown": [
       "**$x** = 2"
      ],
      "text/plain": [
       "$x\n",
       "[1] 2\n"
      ]
     },
     "metadata": {},
     "output_type": "display_data"
    }
   ],
   "source": [
    "lis[1]"
   ]
  },
  {
   "cell_type": "code",
   "execution_count": null,
   "id": "0028d2e6",
   "metadata": {
    "id": "0028d2e6"
   },
   "outputs": [],
   "source": [
    "class(lis)"
   ]
  },
  {
   "cell_type": "code",
   "execution_count": null,
   "id": "1fe8f259",
   "metadata": {
    "id": "1fe8f259",
    "outputId": "7fbfeaba-567d-435c-b8ee-94afa494d97e"
   },
   "outputs": [
    {
     "data": {
      "text/html": [
       "<ol class=list-inline>\n",
       "\t<li>1</li>\n",
       "\t<li>2</li>\n",
       "\t<li>3</li>\n",
       "\t<li>4</li>\n",
       "\t<li>5</li>\n",
       "\t<li>6</li>\n",
       "\t<li>7</li>\n",
       "\t<li>8</li>\n",
       "\t<li>9</li>\n",
       "\t<li>10</li>\n",
       "</ol>\n"
      ],
      "text/latex": [
       "\\begin{enumerate*}\n",
       "\\item 1\n",
       "\\item 2\n",
       "\\item 3\n",
       "\\item 4\n",
       "\\item 5\n",
       "\\item 6\n",
       "\\item 7\n",
       "\\item 8\n",
       "\\item 9\n",
       "\\item 10\n",
       "\\end{enumerate*}\n"
      ],
      "text/markdown": [
       "1. 1\n",
       "2. 2\n",
       "3. 3\n",
       "4. 4\n",
       "5. 5\n",
       "6. 6\n",
       "7. 7\n",
       "8. 8\n",
       "9. 9\n",
       "10. 10\n",
       "\n",
       "\n"
      ],
      "text/plain": [
       " [1]  1  2  3  4  5  6  7  8  9 10"
      ]
     },
     "metadata": {},
     "output_type": "display_data"
    }
   ],
   "source": [
    "lis$z"
   ]
  },
  {
   "cell_type": "markdown",
   "id": "b2a9b24e",
   "metadata": {
    "id": "b2a9b24e"
   },
   "source": [
    "### Names"
   ]
  },
  {
   "cell_type": "raw",
   "id": "83a2afcd",
   "metadata": {
    "id": "83a2afcd"
   },
   "source": [
    "R objects can have names, which is very useful for writing readable code and self-describing objects.\n",
    "Here is an example of assigning names to an integer vector."
   ]
  },
  {
   "cell_type": "code",
   "execution_count": null,
   "id": "29aa65d6",
   "metadata": {
    "id": "29aa65d6",
    "outputId": "76204744-5b25-43c6-fb4d-649451638de2"
   },
   "outputs": [
    {
     "data": {
      "text/plain": [
       "NULL"
      ]
     },
     "metadata": {},
     "output_type": "display_data"
    }
   ],
   "source": [
    "x <- 1:3\n",
    "names(x)"
   ]
  },
  {
   "cell_type": "code",
   "execution_count": null,
   "id": "e0b7f2a4",
   "metadata": {
    "id": "e0b7f2a4",
    "outputId": "eab0b0de-c5d2-4522-ef5b-5cfe8d70ec58"
   },
   "outputs": [
    {
     "data": {
      "text/html": [
       "3"
      ],
      "text/latex": [
       "3"
      ],
      "text/markdown": [
       "3"
      ],
      "text/plain": [
       "[1] 3"
      ]
     },
     "metadata": {},
     "output_type": "display_data"
    }
   ],
   "source": [
    "x[3]"
   ]
  },
  {
   "cell_type": "code",
   "execution_count": null,
   "id": "c09e482d",
   "metadata": {
    "id": "c09e482d",
    "outputId": "af438f90-1f5c-4917-eeb5-6643bf51b7ef"
   },
   "outputs": [
    {
     "data": {
      "text/html": [
       "<dl class=dl-horizontal>\n",
       "\t<dt>New York</dt>\n",
       "\t\t<dd>1</dd>\n",
       "\t<dt>Seattle</dt>\n",
       "\t\t<dd>2</dd>\n",
       "\t<dt>Los Angeles</dt>\n",
       "\t\t<dd>3</dd>\n",
       "</dl>\n"
      ],
      "text/latex": [
       "\\begin{description*}\n",
       "\\item[New York] 1\n",
       "\\item[Seattle] 2\n",
       "\\item[Los Angeles] 3\n",
       "\\end{description*}\n"
      ],
      "text/markdown": [
       "New York\n",
       ":   1Seattle\n",
       ":   2Los Angeles\n",
       ":   3\n",
       "\n"
      ],
      "text/plain": [
       "   New York     Seattle Los Angeles \n",
       "          1           2           3 "
      ]
     },
     "metadata": {},
     "output_type": "display_data"
    }
   ],
   "source": [
    "names(x) <- c(\"New York\", \"Seattle\", \"Los Angeles\")\n",
    "x"
   ]
  },
  {
   "cell_type": "code",
   "execution_count": null,
   "id": "75ec3cc6",
   "metadata": {
    "id": "75ec3cc6",
    "outputId": "dca3b1cf-459e-4677-d2fb-b6ae4ae6f4ca"
   },
   "outputs": [
    {
     "data": {
      "text/html": [
       "<ol class=list-inline>\n",
       "\t<li>'New York'</li>\n",
       "\t<li>'Seattle'</li>\n",
       "\t<li>'Los Angeles'</li>\n",
       "</ol>\n"
      ],
      "text/latex": [
       "\\begin{enumerate*}\n",
       "\\item 'New York'\n",
       "\\item 'Seattle'\n",
       "\\item 'Los Angeles'\n",
       "\\end{enumerate*}\n"
      ],
      "text/markdown": [
       "1. 'New York'\n",
       "2. 'Seattle'\n",
       "3. 'Los Angeles'\n",
       "\n",
       "\n"
      ],
      "text/plain": [
       "[1] \"New York\"    \"Seattle\"     \"Los Angeles\""
      ]
     },
     "metadata": {},
     "output_type": "display_data"
    }
   ],
   "source": [
    "names(x)"
   ]
  },
  {
   "cell_type": "markdown",
   "id": "29729fca",
   "metadata": {
    "id": "29729fca"
   },
   "source": [
    "### Vectors"
   ]
  },
  {
   "cell_type": "markdown",
   "id": "ba998d58",
   "metadata": {
    "id": "ba998d58"
   },
   "source": [
    "A vector is a sequence of data elements of the same basic type. \n",
    "\n",
    "Members in a vector are officially called components.\n",
    "\n",
    "Types: logical, integer, double, complex and character\n",
    "\n",
    "Notice that when input was mixed types, R coerced everything to be of a same type"
   ]
  },
  {
   "cell_type": "code",
   "execution_count": null,
   "id": "895641cd",
   "metadata": {
    "id": "895641cd",
    "outputId": "d3ef9d7f-2939-41db-be8e-1d6d2fa8e57f"
   },
   "outputs": [
    {
     "data": {
      "text/html": [
       "<ol class=list-inline>\n",
       "\t<li>0</li>\n",
       "\t<li>1</li>\n",
       "\t<li>2</li>\n",
       "\t<li>3</li>\n",
       "\t<li>4</li>\n",
       "\t<li>5</li>\n",
       "\t<li>6</li>\n",
       "\t<li>7</li>\n",
       "\t<li>8</li>\n",
       "\t<li>9</li>\n",
       "\t<li>10</li>\n",
       "</ol>\n"
      ],
      "text/latex": [
       "\\begin{enumerate*}\n",
       "\\item 0\n",
       "\\item 1\n",
       "\\item 2\n",
       "\\item 3\n",
       "\\item 4\n",
       "\\item 5\n",
       "\\item 6\n",
       "\\item 7\n",
       "\\item 8\n",
       "\\item 9\n",
       "\\item 10\n",
       "\\end{enumerate*}\n"
      ],
      "text/markdown": [
       "1. 0\n",
       "2. 1\n",
       "3. 2\n",
       "4. 3\n",
       "5. 4\n",
       "6. 5\n",
       "7. 6\n",
       "8. 7\n",
       "9. 8\n",
       "10. 9\n",
       "11. 10\n",
       "\n",
       "\n"
      ],
      "text/plain": [
       " [1]  0  1  2  3  4  5  6  7  8  9 10"
      ]
     },
     "metadata": {},
     "output_type": "display_data"
    }
   ],
   "source": [
    "arr <- 0:10\n",
    "arr"
   ]
  },
  {
   "cell_type": "code",
   "execution_count": null,
   "id": "360548f7",
   "metadata": {
    "id": "360548f7",
    "outputId": "61117636-31ee-4eaf-ad22-dcf6086f10c4"
   },
   "outputs": [
    {
     "data": {
      "text/html": [
       "<ol class=list-inline>\n",
       "\t<li>0</li>\n",
       "\t<li>1</li>\n",
       "\t<li>2</li>\n",
       "</ol>\n"
      ],
      "text/latex": [
       "\\begin{enumerate*}\n",
       "\\item 0\n",
       "\\item 1\n",
       "\\item 2\n",
       "\\end{enumerate*}\n"
      ],
      "text/markdown": [
       "1. 0\n",
       "2. 1\n",
       "3. 2\n",
       "\n",
       "\n"
      ],
      "text/plain": [
       "[1] 0 1 2"
      ]
     },
     "metadata": {},
     "output_type": "display_data"
    }
   ],
   "source": [
    "arr[1:3]"
   ]
  },
  {
   "cell_type": "code",
   "execution_count": null,
   "id": "9b9aed32",
   "metadata": {
    "id": "9b9aed32"
   },
   "outputs": [],
   "source": [
    "# The c() function can be used to create vectors of objects by concatenating things together.\n",
    "x <- c(0.5, 0.6) ## numeric\n",
    "x <- c(TRUE, FALSE) ## logical\n",
    "x <- c(T, F) ## logical\n",
    "x <- c(\"a\", \"b\", \"c\") ## character\n",
    "x <- 9:29 ## integer\n",
    "x <- c(1+0i, 2+4i) ## complex"
   ]
  },
  {
   "cell_type": "code",
   "execution_count": null,
   "id": "7eb8999e",
   "metadata": {
    "id": "7eb8999e"
   },
   "outputs": [],
   "source": [
    "# with a length and type\n",
    "a <- vector(\"character\", length = 5)\n",
    "b <- vector(\"numeric\",   length = 5)\n",
    "c <- vector(\"integer\",   length = 5)\n",
    "d <- vector(\"logical\",   length = 5)"
   ]
  },
  {
   "cell_type": "code",
   "execution_count": null,
   "id": "cbe7c905",
   "metadata": {
    "id": "cbe7c905",
    "outputId": "042308b6-340f-4dd2-f7d3-86c369463063"
   },
   "outputs": [
    {
     "data": {
      "text/html": [
       "<ol class=list-inline>\n",
       "\t<li>''</li>\n",
       "\t<li>''</li>\n",
       "\t<li>''</li>\n",
       "\t<li>''</li>\n",
       "\t<li>''</li>\n",
       "</ol>\n"
      ],
      "text/latex": [
       "\\begin{enumerate*}\n",
       "\\item ''\n",
       "\\item ''\n",
       "\\item ''\n",
       "\\item ''\n",
       "\\item ''\n",
       "\\end{enumerate*}\n"
      ],
      "text/markdown": [
       "1. ''\n",
       "2. ''\n",
       "3. ''\n",
       "4. ''\n",
       "5. ''\n",
       "\n",
       "\n"
      ],
      "text/plain": [
       "[1] \"\" \"\" \"\" \"\" \"\""
      ]
     },
     "metadata": {},
     "output_type": "display_data"
    }
   ],
   "source": [
    "a"
   ]
  },
  {
   "cell_type": "code",
   "execution_count": null,
   "id": "06d0a045",
   "metadata": {
    "id": "06d0a045",
    "outputId": "6bb1573a-9ee2-43b1-f90f-fef4f2cbda91"
   },
   "outputs": [
    {
     "data": {
      "text/html": [
       "<ol class=list-inline>\n",
       "\t<li>0</li>\n",
       "\t<li>0</li>\n",
       "\t<li>0</li>\n",
       "\t<li>0</li>\n",
       "\t<li>0</li>\n",
       "</ol>\n"
      ],
      "text/latex": [
       "\\begin{enumerate*}\n",
       "\\item 0\n",
       "\\item 0\n",
       "\\item 0\n",
       "\\item 0\n",
       "\\item 0\n",
       "\\end{enumerate*}\n"
      ],
      "text/markdown": [
       "1. 0\n",
       "2. 0\n",
       "3. 0\n",
       "4. 0\n",
       "5. 0\n",
       "\n",
       "\n"
      ],
      "text/plain": [
       "[1] 0 0 0 0 0"
      ]
     },
     "metadata": {},
     "output_type": "display_data"
    }
   ],
   "source": [
    "b"
   ]
  },
  {
   "cell_type": "code",
   "execution_count": null,
   "id": "f2b7ee11",
   "metadata": {
    "id": "f2b7ee11",
    "outputId": "bc95c6da-bc3a-4f09-b981-9e520939f973"
   },
   "outputs": [
    {
     "data": {
      "text/html": [
       "<ol class=list-inline>\n",
       "\t<li>0</li>\n",
       "\t<li>0</li>\n",
       "\t<li>0</li>\n",
       "\t<li>0</li>\n",
       "\t<li>0</li>\n",
       "</ol>\n"
      ],
      "text/latex": [
       "\\begin{enumerate*}\n",
       "\\item 0\n",
       "\\item 0\n",
       "\\item 0\n",
       "\\item 0\n",
       "\\item 0\n",
       "\\end{enumerate*}\n"
      ],
      "text/markdown": [
       "1. 0\n",
       "2. 0\n",
       "3. 0\n",
       "4. 0\n",
       "5. 0\n",
       "\n",
       "\n"
      ],
      "text/plain": [
       "[1] 0 0 0 0 0"
      ]
     },
     "metadata": {},
     "output_type": "display_data"
    }
   ],
   "source": [
    "c"
   ]
  },
  {
   "cell_type": "code",
   "execution_count": null,
   "id": "322d196e",
   "metadata": {
    "id": "322d196e",
    "outputId": "a80bfec6-30a1-43d1-bff8-1e3e884b75b6"
   },
   "outputs": [
    {
     "data": {
      "text/html": [
       "<ol class=list-inline>\n",
       "\t<li>FALSE</li>\n",
       "\t<li>FALSE</li>\n",
       "\t<li>FALSE</li>\n",
       "\t<li>FALSE</li>\n",
       "\t<li>FALSE</li>\n",
       "</ol>\n"
      ],
      "text/latex": [
       "\\begin{enumerate*}\n",
       "\\item FALSE\n",
       "\\item FALSE\n",
       "\\item FALSE\n",
       "\\item FALSE\n",
       "\\item FALSE\n",
       "\\end{enumerate*}\n"
      ],
      "text/markdown": [
       "1. FALSE\n",
       "2. FALSE\n",
       "3. FALSE\n",
       "4. FALSE\n",
       "5. FALSE\n",
       "\n",
       "\n"
      ],
      "text/plain": [
       "[1] FALSE FALSE FALSE FALSE FALSE"
      ]
     },
     "metadata": {},
     "output_type": "display_data"
    }
   ],
   "source": [
    "d"
   ]
  },
  {
   "cell_type": "code",
   "execution_count": null,
   "id": "696ac23a",
   "metadata": {
    "id": "696ac23a"
   },
   "outputs": [],
   "source": [
    "# Vector of numbers:\n",
    "c(1,2)"
   ]
  },
  {
   "cell_type": "code",
   "execution_count": null,
   "id": "b7241dd4",
   "metadata": {
    "id": "b7241dd4",
    "outputId": "b659ce88-bfdb-4054-8d5c-a9aa0ec5a220"
   },
   "outputs": [
    {
     "data": {
      "text/html": [
       "<ol class=list-inline>\n",
       "\t<li>1</li>\n",
       "\t<li>2</li>\n",
       "</ol>\n"
      ],
      "text/latex": [
       "\\begin{enumerate*}\n",
       "\\item 1\n",
       "\\item 2\n",
       "\\end{enumerate*}\n"
      ],
      "text/markdown": [
       "1. 1\n",
       "2. 2\n",
       "\n",
       "\n"
      ],
      "text/plain": [
       "[1] 1 2"
      ]
     },
     "metadata": {},
     "output_type": "display_data"
    }
   ],
   "source": [
    "x <- c(1,2)\n",
    "x"
   ]
  },
  {
   "cell_type": "code",
   "execution_count": null,
   "id": "edd45b3c",
   "metadata": {
    "id": "edd45b3c",
    "outputId": "b75a162c-3244-496c-fd73-1fc01c42932c"
   },
   "outputs": [
    {
     "data": {
      "text/html": [
       "'numeric'"
      ],
      "text/latex": [
       "'numeric'"
      ],
      "text/markdown": [
       "'numeric'"
      ],
      "text/plain": [
       "[1] \"numeric\""
      ]
     },
     "metadata": {},
     "output_type": "display_data"
    }
   ],
   "source": [
    "class(x)"
   ]
  },
  {
   "cell_type": "code",
   "execution_count": null,
   "id": "a8fc35ff",
   "metadata": {
    "id": "a8fc35ff",
    "outputId": "f0833f84-5539-4f1d-8f49-13d8f86beb77"
   },
   "outputs": [
    {
     "data": {
      "text/html": [
       "'integer'"
      ],
      "text/latex": [
       "'integer'"
      ],
      "text/markdown": [
       "'integer'"
      ],
      "text/plain": [
       "[1] \"integer\""
      ]
     },
     "metadata": {},
     "output_type": "display_data"
    }
   ],
   "source": [
    "# to create integer type add 'L'\n",
    "x <- c(1L,2L)\n",
    "class(x)"
   ]
  },
  {
   "cell_type": "code",
   "execution_count": null,
   "id": "a4244171",
   "metadata": {
    "id": "a4244171",
    "outputId": "3cb8966f-8a0c-4d39-f08c-3705ba2ad672"
   },
   "outputs": [
    {
     "data": {
      "text/html": [
       "<ol class=list-inline>\n",
       "\t<li>'1.7'</li>\n",
       "\t<li>'a'</li>\n",
       "</ol>\n"
      ],
      "text/latex": [
       "\\begin{enumerate*}\n",
       "\\item '1.7'\n",
       "\\item 'a'\n",
       "\\end{enumerate*}\n"
      ],
      "text/markdown": [
       "1. '1.7'\n",
       "2. 'a'\n",
       "\n",
       "\n"
      ],
      "text/plain": [
       "[1] \"1.7\" \"a\"  "
      ]
     },
     "metadata": {},
     "output_type": "display_data"
    }
   ],
   "source": [
    "# mixing classes in a vector results in coercion to same class ike these:\n",
    "c(1.7, \"a\") ## to character"
   ]
  },
  {
   "cell_type": "code",
   "execution_count": null,
   "id": "a4a4bc2c",
   "metadata": {
    "id": "a4a4bc2c",
    "outputId": "c42093b0-24e1-4751-c563-6586bf5f5839"
   },
   "outputs": [
    {
     "data": {
      "text/html": [
       "<ol class=list-inline>\n",
       "\t<li>1</li>\n",
       "\t<li>2</li>\n",
       "</ol>\n"
      ],
      "text/latex": [
       "\\begin{enumerate*}\n",
       "\\item 1\n",
       "\\item 2\n",
       "\\end{enumerate*}\n"
      ],
      "text/markdown": [
       "1. 1\n",
       "2. 2\n",
       "\n",
       "\n"
      ],
      "text/plain": [
       "[1] 1 2"
      ]
     },
     "metadata": {},
     "output_type": "display_data"
    }
   ],
   "source": [
    "c(TRUE, 2) ## to numeric"
   ]
  },
  {
   "cell_type": "code",
   "execution_count": null,
   "id": "c105352f",
   "metadata": {
    "id": "c105352f",
    "outputId": "116e04b0-b983-4b8a-ff39-06c545cce188"
   },
   "outputs": [
    {
     "data": {
      "text/html": [
       "<ol class=list-inline>\n",
       "\t<li>'a'</li>\n",
       "\t<li>'TRUE'</li>\n",
       "</ol>\n"
      ],
      "text/latex": [
       "\\begin{enumerate*}\n",
       "\\item 'a'\n",
       "\\item 'TRUE'\n",
       "\\end{enumerate*}\n"
      ],
      "text/markdown": [
       "1. 'a'\n",
       "2. 'TRUE'\n",
       "\n",
       "\n"
      ],
      "text/plain": [
       "[1] \"a\"    \"TRUE\""
      ]
     },
     "metadata": {},
     "output_type": "display_data"
    }
   ],
   "source": [
    "c(\"a\", TRUE) ## to character"
   ]
  },
  {
   "cell_type": "code",
   "execution_count": null,
   "id": "15096afb",
   "metadata": {
    "id": "15096afb",
    "outputId": "39192a75-55ef-4757-9418-6f8f1921b8cd"
   },
   "outputs": [
    {
     "data": {
      "text/html": [
       "<ol class=list-inline>\n",
       "\t<li>1</li>\n",
       "\t<li>1.2</li>\n",
       "\t<li>3.14159265358979</li>\n",
       "\t<li>2.71828182845905</li>\n",
       "</ol>\n"
      ],
      "text/latex": [
       "\\begin{enumerate*}\n",
       "\\item 1\n",
       "\\item 1.2\n",
       "\\item 3.14159265358979\n",
       "\\item 2.71828182845905\n",
       "\\end{enumerate*}\n"
      ],
      "text/markdown": [
       "1. 1\n",
       "2. 1.2\n",
       "3. 3.14159265358979\n",
       "4. 2.71828182845905\n",
       "\n",
       "\n"
      ],
      "text/plain": [
       "[1] 1.0000000000000000 1.2000000000000000 3.1415926535897931 2.7182818284590451"
      ]
     },
     "metadata": {},
     "output_type": "display_data"
    }
   ],
   "source": [
    "# Notice that R just turned everything into double!\n",
    "c(1,1.2,pi,exp(1))"
   ]
  },
  {
   "cell_type": "code",
   "execution_count": null,
   "id": "9ffe9d15",
   "metadata": {
    "id": "9ffe9d15",
    "outputId": "ec783945-f93b-4da4-df30-41bd119378c1"
   },
   "outputs": [
    {
     "data": {
      "text/html": [
       "<ol class=list-inline>\n",
       "\t<li>TRUE</li>\n",
       "\t<li>FALSE</li>\n",
       "</ol>\n"
      ],
      "text/latex": [
       "\\begin{enumerate*}\n",
       "\\item TRUE\n",
       "\\item FALSE\n",
       "\\end{enumerate*}\n"
      ],
      "text/markdown": [
       "1. TRUE\n",
       "2. FALSE\n",
       "\n",
       "\n"
      ],
      "text/plain": [
       "[1]  TRUE FALSE"
      ]
     },
     "metadata": {},
     "output_type": "display_data"
    }
   ],
   "source": [
    "# We can have vectors of other things too, e.g:\n",
    "c(TRUE,1==2)"
   ]
  },
  {
   "cell_type": "code",
   "execution_count": null,
   "id": "32885713",
   "metadata": {
    "id": "32885713",
    "outputId": "996c8e41-d8e1-4eca-a16e-8e95ec078f62"
   },
   "outputs": [
    {
     "data": {
      "text/html": [
       "<ol class=list-inline>\n",
       "\t<li>'a'</li>\n",
       "\t<li>'5'</li>\n",
       "\t<li>'FALSE'</li>\n",
       "</ol>\n"
      ],
      "text/latex": [
       "\\begin{enumerate*}\n",
       "\\item 'a'\n",
       "\\item '5'\n",
       "\\item 'FALSE'\n",
       "\\end{enumerate*}\n"
      ],
      "text/markdown": [
       "1. 'a'\n",
       "2. '5'\n",
       "3. 'FALSE'\n",
       "\n",
       "\n"
      ],
      "text/plain": [
       "[1] \"a\"     \"5\"     \"FALSE\""
      ]
     },
     "metadata": {},
     "output_type": "display_data"
    }
   ],
   "source": [
    "c(\"a\",5,1==2)"
   ]
  },
  {
   "cell_type": "code",
   "execution_count": null,
   "id": "75475acf",
   "metadata": {
    "id": "75475acf"
   },
   "outputs": [],
   "source": [
    "# to explicitly convert there are the \"as.\"\" functions available"
   ]
  },
  {
   "cell_type": "code",
   "execution_count": null,
   "id": "c851bb55",
   "metadata": {
    "id": "c851bb55",
    "outputId": "e83591f1-ea2b-4504-ed01-4b54dda85fdb"
   },
   "outputs": [
    {
     "data": {
      "text/html": [
       "<ol class=list-inline>\n",
       "\t<li>'1'</li>\n",
       "\t<li>'2'</li>\n",
       "\t<li>'3'</li>\n",
       "\t<li>'4'</li>\n",
       "\t<li>'5'</li>\n",
       "\t<li>'6'</li>\n",
       "\t<li>'7'</li>\n",
       "\t<li>'8'</li>\n",
       "\t<li>'9'</li>\n",
       "\t<li>'10'</li>\n",
       "</ol>\n"
      ],
      "text/latex": [
       "\\begin{enumerate*}\n",
       "\\item '1'\n",
       "\\item '2'\n",
       "\\item '3'\n",
       "\\item '4'\n",
       "\\item '5'\n",
       "\\item '6'\n",
       "\\item '7'\n",
       "\\item '8'\n",
       "\\item '9'\n",
       "\\item '10'\n",
       "\\end{enumerate*}\n"
      ],
      "text/markdown": [
       "1. '1'\n",
       "2. '2'\n",
       "3. '3'\n",
       "4. '4'\n",
       "5. '5'\n",
       "6. '6'\n",
       "7. '7'\n",
       "8. '8'\n",
       "9. '9'\n",
       "10. '10'\n",
       "\n",
       "\n"
      ],
      "text/plain": [
       " [1] \"1\"  \"2\"  \"3\"  \"4\"  \"5\"  \"6\"  \"7\"  \"8\"  \"9\"  \"10\""
      ]
     },
     "metadata": {},
     "output_type": "display_data"
    }
   ],
   "source": [
    "x <- 1:10\n",
    "as.character(x)"
   ]
  },
  {
   "cell_type": "code",
   "execution_count": null,
   "id": "92cb7429",
   "metadata": {
    "id": "92cb7429",
    "outputId": "7b05b66e-f4f5-46d3-c547-a4c01f1b1223"
   },
   "outputs": [
    {
     "data": {
      "text/html": [
       "7"
      ],
      "text/latex": [
       "7"
      ],
      "text/markdown": [
       "7"
      ],
      "text/plain": [
       "[1] 7"
      ]
     },
     "metadata": {},
     "output_type": "display_data"
    }
   ],
   "source": [
    "# others available are as.numeric, as.logical\n",
    "as.numeric(\"7\")"
   ]
  },
  {
   "cell_type": "code",
   "execution_count": null,
   "id": "3de0500a",
   "metadata": {
    "id": "3de0500a"
   },
   "outputs": [],
   "source": [
    "# Exercise\n",
    "# what happens when coercion fails?\n",
    "# try converting character to numeric for e.g."
   ]
  },
  {
   "cell_type": "code",
   "execution_count": null,
   "id": "286f6bf2",
   "metadata": {
    "id": "286f6bf2",
    "outputId": "3b76126a-f227-460d-b05a-cb7e361b34c6"
   },
   "outputs": [
    {
     "data": {
      "text/html": [
       "FALSE"
      ],
      "text/latex": [
       "FALSE"
      ],
      "text/markdown": [
       "FALSE"
      ],
      "text/plain": [
       "[1] FALSE"
      ]
     },
     "metadata": {},
     "output_type": "display_data"
    }
   ],
   "source": [
    "# to check the class of variables use\n",
    "is.character(1:10)"
   ]
  },
  {
   "cell_type": "markdown",
   "id": "62003d6d",
   "metadata": {
    "id": "62003d6d"
   },
   "source": [
    "#### subsetting vectors"
   ]
  },
  {
   "cell_type": "code",
   "execution_count": null,
   "id": "7de1efd7",
   "metadata": {
    "id": "7de1efd7",
    "outputId": "a82cf82b-c0da-4720-e006-ec943e36106c"
   },
   "outputs": [
    {
     "data": {
      "text/html": [
       "<ol class=list-inline>\n",
       "\t<li>1</li>\n",
       "\t<li>5</li>\n",
       "\t<li>0</li>\n",
       "</ol>\n"
      ],
      "text/latex": [
       "\\begin{enumerate*}\n",
       "\\item 1\n",
       "\\item 5\n",
       "\\item 0\n",
       "\\end{enumerate*}\n"
      ],
      "text/markdown": [
       "1. 1\n",
       "2. 5\n",
       "3. 0\n",
       "\n",
       "\n"
      ],
      "text/plain": [
       "[1] 1 5 0"
      ]
     },
     "metadata": {},
     "output_type": "display_data"
    }
   ],
   "source": [
    "v <- c(1,5,0,8,1,9,4,7)\n",
    "v[1:3]"
   ]
  },
  {
   "cell_type": "code",
   "execution_count": null,
   "id": "682a0ccb",
   "metadata": {
    "id": "682a0ccb",
    "outputId": "cecbdd2d-9a92-4dc9-aa90-9a8c080fc118"
   },
   "outputs": [
    {
     "data": {
      "text/html": [
       "<ol class=list-inline>\n",
       "\t<li>1</li>\n",
       "\t<li>0</li>\n",
       "\t<li>8</li>\n",
       "\t<li>1</li>\n",
       "\t<li>9</li>\n",
       "\t<li>4</li>\n",
       "\t<li>7</li>\n",
       "</ol>\n"
      ],
      "text/latex": [
       "\\begin{enumerate*}\n",
       "\\item 1\n",
       "\\item 0\n",
       "\\item 8\n",
       "\\item 1\n",
       "\\item 9\n",
       "\\item 4\n",
       "\\item 7\n",
       "\\end{enumerate*}\n"
      ],
      "text/markdown": [
       "1. 1\n",
       "2. 0\n",
       "3. 8\n",
       "4. 1\n",
       "5. 9\n",
       "6. 4\n",
       "7. 7\n",
       "\n",
       "\n"
      ],
      "text/plain": [
       "[1] 1 0 8 1 9 4 7"
      ]
     },
     "metadata": {},
     "output_type": "display_data"
    }
   ],
   "source": [
    "v[-2]"
   ]
  },
  {
   "cell_type": "code",
   "execution_count": null,
   "id": "e5c876e5",
   "metadata": {
    "id": "e5c876e5",
    "outputId": "1219d9e7-4dc1-49d1-84e2-dfe36dd89d07"
   },
   "outputs": [
    {
     "data": {
      "text/html": [
       "<ol class=list-inline>\n",
       "\t<li>9</li>\n",
       "\t<li>1</li>\n",
       "\t<li>5</li>\n",
       "</ol>\n"
      ],
      "text/latex": [
       "\\begin{enumerate*}\n",
       "\\item 9\n",
       "\\item 1\n",
       "\\item 5\n",
       "\\end{enumerate*}\n"
      ],
      "text/markdown": [
       "1. 9\n",
       "2. 1\n",
       "3. 5\n",
       "\n",
       "\n"
      ],
      "text/plain": [
       "[1] 9 1 5"
      ]
     },
     "metadata": {},
     "output_type": "display_data"
    }
   ],
   "source": [
    "v[c(6, 1, 2)]"
   ]
  },
  {
   "cell_type": "code",
   "execution_count": null,
   "id": "7e2ec52d",
   "metadata": {
    "id": "7e2ec52d",
    "outputId": "5eb83fc0-1b87-4c75-c4c4-ddaf4dba2b77"
   },
   "outputs": [
    {
     "data": {
      "text/html": [
       "<ol class=list-inline>\n",
       "\t<li>FALSE</li>\n",
       "\t<li>TRUE</li>\n",
       "\t<li>FALSE</li>\n",
       "\t<li>TRUE</li>\n",
       "\t<li>FALSE</li>\n",
       "\t<li>TRUE</li>\n",
       "\t<li>TRUE</li>\n",
       "\t<li>TRUE</li>\n",
       "</ol>\n"
      ],
      "text/latex": [
       "\\begin{enumerate*}\n",
       "\\item FALSE\n",
       "\\item TRUE\n",
       "\\item FALSE\n",
       "\\item TRUE\n",
       "\\item FALSE\n",
       "\\item TRUE\n",
       "\\item TRUE\n",
       "\\item TRUE\n",
       "\\end{enumerate*}\n"
      ],
      "text/markdown": [
       "1. FALSE\n",
       "2. TRUE\n",
       "3. FALSE\n",
       "4. TRUE\n",
       "5. FALSE\n",
       "6. TRUE\n",
       "7. TRUE\n",
       "8. TRUE\n",
       "\n",
       "\n"
      ],
      "text/plain": [
       "[1] FALSE  TRUE FALSE  TRUE FALSE  TRUE  TRUE  TRUE"
      ]
     },
     "metadata": {},
     "output_type": "display_data"
    }
   ],
   "source": [
    "v > 2"
   ]
  },
  {
   "cell_type": "code",
   "execution_count": null,
   "id": "650f4470",
   "metadata": {
    "id": "650f4470",
    "outputId": "14dc9d2d-5436-4bd2-c220-d305092f6eec"
   },
   "outputs": [
    {
     "data": {
      "text/html": [
       "<ol class=list-inline>\n",
       "\t<li>5</li>\n",
       "\t<li>8</li>\n",
       "\t<li>9</li>\n",
       "\t<li>4</li>\n",
       "\t<li>7</li>\n",
       "</ol>\n"
      ],
      "text/latex": [
       "\\begin{enumerate*}\n",
       "\\item 5\n",
       "\\item 8\n",
       "\\item 9\n",
       "\\item 4\n",
       "\\item 7\n",
       "\\end{enumerate*}\n"
      ],
      "text/markdown": [
       "1. 5\n",
       "2. 8\n",
       "3. 9\n",
       "4. 4\n",
       "5. 7\n",
       "\n",
       "\n"
      ],
      "text/plain": [
       "[1] 5 8 9 4 7"
      ]
     },
     "metadata": {},
     "output_type": "display_data"
    }
   ],
   "source": [
    "v[v>2]"
   ]
  },
  {
   "cell_type": "markdown",
   "id": "016ec0ae",
   "metadata": {
    "id": "016ec0ae"
   },
   "source": [
    "### Matrix"
   ]
  },
  {
   "cell_type": "raw",
   "id": "570524a3",
   "metadata": {
    "id": "570524a3"
   },
   "source": [
    "Attributes\n",
    "• names, dimnames\n",
    "• dimensions (e.g. matrices, arrays)\n",
    "• class (e.g. integer, numeric)\n",
    "• length\n",
    "• other user-defined attributes/metadata"
   ]
  },
  {
   "cell_type": "code",
   "execution_count": null,
   "id": "40c610cb",
   "metadata": {
    "id": "40c610cb",
    "outputId": "ecdc286c-3f67-4dc4-d2a7-ecbfa3fa5176"
   },
   "outputs": [
    {
     "data": {
      "text/html": [
       "<table>\n",
       "<thead><tr><th></th><th scope=col>col1</th><th scope=col>col2</th><th scope=col>col3</th></tr></thead>\n",
       "<tbody>\n",
       "\t<tr><th scope=row>row1</th><td>1 </td><td>5 </td><td> 9</td></tr>\n",
       "\t<tr><th scope=row>row2</th><td>2 </td><td>6 </td><td>10</td></tr>\n",
       "\t<tr><th scope=row>row3</th><td>3 </td><td>7 </td><td>11</td></tr>\n",
       "\t<tr><th scope=row>row4</th><td>4 </td><td>8 </td><td>12</td></tr>\n",
       "</tbody>\n",
       "</table>\n"
      ],
      "text/latex": [
       "\\begin{tabular}{r|lll}\n",
       "  & col1 & col2 & col3\\\\\n",
       "\\hline\n",
       "\trow1 & 1  & 5  &  9\\\\\n",
       "\trow2 & 2  & 6  & 10\\\\\n",
       "\trow3 & 3  & 7  & 11\\\\\n",
       "\trow4 & 4  & 8  & 12\\\\\n",
       "\\end{tabular}\n"
      ],
      "text/markdown": [
       "\n",
       "| <!--/--> | col1 | col2 | col3 |\n",
       "|---|---|---|---|\n",
       "| row1 | 1  | 5  |  9 |\n",
       "| row2 | 2  | 6  | 10 |\n",
       "| row3 | 3  | 7  | 11 |\n",
       "| row4 | 4  | 8  | 12 |\n",
       "\n"
      ],
      "text/plain": [
       "     col1 col2 col3\n",
       "row1 1    5     9  \n",
       "row2 2    6    10  \n",
       "row3 3    7    11  \n",
       "row4 4    8    12  "
      ]
     },
     "metadata": {},
     "output_type": "display_data"
    }
   ],
   "source": [
    "# Matrices are a special case of two-dimensional arrays i.e.  Matrices are arrays with a dim attribute of length 2\n",
    "\n",
    "#ncol = 3 works the same\n",
    "\n",
    "matrix(1:12,nrow = 4, dimnames = list(c(\"row1\", \"row2\", \"row3\", \"row4\"),c(\"col1\", \"col2\", \"col3\")))"
   ]
  },
  {
   "cell_type": "code",
   "execution_count": null,
   "id": "8db4ca27",
   "metadata": {
    "id": "8db4ca27",
    "outputId": "b82b67e1-d791-4a0b-cc56-b417b9b0b7a0"
   },
   "outputs": [
    {
     "data": {
      "text/html": [
       "<table>\n",
       "<thead><tr><th scope=col>x</th><th scope=col>y</th></tr></thead>\n",
       "<tbody>\n",
       "\t<tr><td>1 </td><td>10</td></tr>\n",
       "\t<tr><td>2 </td><td>11</td></tr>\n",
       "\t<tr><td>3 </td><td>12</td></tr>\n",
       "</tbody>\n",
       "</table>\n"
      ],
      "text/latex": [
       "\\begin{tabular}{ll}\n",
       " x & y\\\\\n",
       "\\hline\n",
       "\t 1  & 10\\\\\n",
       "\t 2  & 11\\\\\n",
       "\t 3  & 12\\\\\n",
       "\\end{tabular}\n"
      ],
      "text/markdown": [
       "\n",
       "| x | y |\n",
       "|---|---|\n",
       "| 1  | 10 |\n",
       "| 2  | 11 |\n",
       "| 3  | 12 |\n",
       "\n"
      ],
      "text/plain": [
       "     x y \n",
       "[1,] 1 10\n",
       "[2,] 2 11\n",
       "[3,] 3 12"
      ]
     },
     "metadata": {},
     "output_type": "display_data"
    }
   ],
   "source": [
    "# there are many ways of creating matrices. Here is one more way:\n",
    "\n",
    "x <- 1:3\n",
    "y <- 10:12\n",
    "cbind(x, y)"
   ]
  },
  {
   "cell_type": "code",
   "execution_count": null,
   "id": "37100a5b",
   "metadata": {
    "id": "37100a5b",
    "outputId": "3dba4cca-7777-45ed-cf6b-e45ab4025536"
   },
   "outputs": [
    {
     "data": {
      "text/html": [
       "<table>\n",
       "<tbody>\n",
       "\t<tr><th scope=row>x</th><td> 1</td><td> 2</td><td> 3</td></tr>\n",
       "\t<tr><th scope=row>y</th><td>10</td><td>11</td><td>12</td></tr>\n",
       "</tbody>\n",
       "</table>\n"
      ],
      "text/latex": [
       "\\begin{tabular}{r|lll}\n",
       "\tx &  1 &  2 &  3\\\\\n",
       "\ty & 10 & 11 & 12\\\\\n",
       "\\end{tabular}\n"
      ],
      "text/markdown": [
       "\n",
       "| x |  1 |  2 |  3 |\n",
       "| y | 10 | 11 | 12 |\n",
       "\n"
      ],
      "text/plain": [
       "  [,1] [,2] [,3]\n",
       "x  1    2    3  \n",
       "y 10   11   12  "
      ]
     },
     "metadata": {},
     "output_type": "display_data"
    }
   ],
   "source": [
    "rbind(x, y)"
   ]
  },
  {
   "cell_type": "markdown",
   "id": "fd40d33f",
   "metadata": {
    "id": "fd40d33f"
   },
   "source": [
    "#### Subsetting a Matrix"
   ]
  },
  {
   "cell_type": "code",
   "execution_count": null,
   "id": "025e57b4",
   "metadata": {
    "id": "025e57b4",
    "outputId": "dcc64662-4f25-428e-d486-c4828a3549e2"
   },
   "outputs": [
    {
     "data": {
      "text/html": [
       "<table>\n",
       "<tbody>\n",
       "\t<tr><td>1</td><td>3</td><td>5</td></tr>\n",
       "\t<tr><td>2</td><td>4</td><td>6</td></tr>\n",
       "</tbody>\n",
       "</table>\n"
      ],
      "text/latex": [
       "\\begin{tabular}{lll}\n",
       "\t 1 & 3 & 5\\\\\n",
       "\t 2 & 4 & 6\\\\\n",
       "\\end{tabular}\n"
      ],
      "text/markdown": [
       "\n",
       "| 1 | 3 | 5 |\n",
       "| 2 | 4 | 6 |\n",
       "\n"
      ],
      "text/plain": [
       "     [,1] [,2] [,3]\n",
       "[1,] 1    3    5   \n",
       "[2,] 2    4    6   "
      ]
     },
     "metadata": {},
     "output_type": "display_data"
    }
   ],
   "source": [
    "x <- matrix(1:6, 2, 3)\n",
    "x"
   ]
  },
  {
   "cell_type": "code",
   "execution_count": null,
   "id": "fe23985e",
   "metadata": {
    "id": "fe23985e",
    "outputId": "18127aa6-c2fc-43ef-f615-a290efb083b9"
   },
   "outputs": [
    {
     "data": {
      "text/html": [
       "3"
      ],
      "text/latex": [
       "3"
      ],
      "text/markdown": [
       "3"
      ],
      "text/plain": [
       "[1] 3"
      ]
     },
     "metadata": {},
     "output_type": "display_data"
    }
   ],
   "source": [
    "x[1, 2]"
   ]
  },
  {
   "cell_type": "code",
   "execution_count": null,
   "id": "852d27b1",
   "metadata": {
    "id": "852d27b1",
    "outputId": "181b9d69-d5bb-4cfb-d165-7ae5ec11d7c7"
   },
   "outputs": [
    {
     "data": {
      "text/html": [
       "2"
      ],
      "text/latex": [
       "2"
      ],
      "text/markdown": [
       "2"
      ],
      "text/plain": [
       "[1] 2"
      ]
     },
     "metadata": {},
     "output_type": "display_data"
    }
   ],
   "source": [
    "x[2, 1]"
   ]
  },
  {
   "cell_type": "code",
   "execution_count": null,
   "id": "cac101d3",
   "metadata": {
    "id": "cac101d3",
    "outputId": "5239679f-088f-42b2-d118-d9738965faeb"
   },
   "outputs": [
    {
     "data": {
      "text/html": [
       "<ol class=list-inline>\n",
       "\t<li>1</li>\n",
       "\t<li>3</li>\n",
       "\t<li>5</li>\n",
       "</ol>\n"
      ],
      "text/latex": [
       "\\begin{enumerate*}\n",
       "\\item 1\n",
       "\\item 3\n",
       "\\item 5\n",
       "\\end{enumerate*}\n"
      ],
      "text/markdown": [
       "1. 1\n",
       "2. 3\n",
       "3. 5\n",
       "\n",
       "\n"
      ],
      "text/plain": [
       "[1] 1 3 5"
      ]
     },
     "metadata": {},
     "output_type": "display_data"
    }
   ],
   "source": [
    "# Indices can also be missing. This behavior is used to access entire rows or columns of a matrix.\n",
    "x[1, ] ## Extract the first row"
   ]
  },
  {
   "cell_type": "code",
   "execution_count": null,
   "id": "974b80d0",
   "metadata": {
    "id": "974b80d0",
    "outputId": "eb01c38b-ddcb-47ec-93cb-65faff754025"
   },
   "outputs": [
    {
     "data": {
      "text/html": [
       "<ol class=list-inline>\n",
       "\t<li>3</li>\n",
       "\t<li>4</li>\n",
       "</ol>\n"
      ],
      "text/latex": [
       "\\begin{enumerate*}\n",
       "\\item 3\n",
       "\\item 4\n",
       "\\end{enumerate*}\n"
      ],
      "text/markdown": [
       "1. 3\n",
       "2. 4\n",
       "\n",
       "\n"
      ],
      "text/plain": [
       "[1] 3 4"
      ]
     },
     "metadata": {},
     "output_type": "display_data"
    }
   ],
   "source": [
    "x[, 2] ## Extract the second column"
   ]
  },
  {
   "cell_type": "markdown",
   "id": "feb1deeb",
   "metadata": {
    "id": "feb1deeb"
   },
   "source": [
    "### arrays"
   ]
  },
  {
   "cell_type": "markdown",
   "id": "d0740227",
   "metadata": {
    "id": "d0740227"
   },
   "source": [
    "The vector variables that we have looked at so far are one-dimensional objects, since they have length but no other dimensions. \n",
    "\n",
    "Arrays hold multidimensional rectangular data. \n",
    "\n",
    "“Rectangular” means that each row is the same length, and likewise for each column and other dimensions. \n"
   ]
  },
  {
   "cell_type": "code",
   "execution_count": null,
   "id": "a19b62e8",
   "metadata": {
    "id": "a19b62e8",
    "outputId": "6a32985d-08e0-4108-d52a-c088a701e294"
   },
   "outputs": [
    {
     "data": {
      "text/html": [
       "<table>\n",
       "<tbody>\n",
       "\t<tr><th scope=row>a</th><td>1 </td><td>3 </td><td>5 </td><td>7 </td><td> 9</td></tr>\n",
       "\t<tr><th scope=row>b</th><td>2 </td><td>4 </td><td>6 </td><td>8 </td><td>10</td></tr>\n",
       "</tbody>\n",
       "</table>\n"
      ],
      "text/latex": [
       "\\begin{tabular}{r|lllll}\n",
       "\ta & 1  & 3  & 5  & 7  &  9\\\\\n",
       "\tb & 2  & 4  & 6  & 8  & 10\\\\\n",
       "\\end{tabular}\n"
      ],
      "text/markdown": [
       "\n",
       "| a | 1  | 3  | 5  | 7  |  9 |\n",
       "| b | 2  | 4  | 6  | 8  | 10 |\n",
       "\n"
      ],
      "text/plain": [
       "  [,1] [,2] [,3] [,4] [,5]\n",
       "a 1    3    5    7     9  \n",
       "b 2    4    6    8    10  "
      ]
     },
     "metadata": {},
     "output_type": "display_data"
    }
   ],
   "source": [
    "array(c(1:10), dim = c(2,5), dimnames = list(c(\"a\",\"b\")))"
   ]
  },
  {
   "cell_type": "code",
   "execution_count": null,
   "id": "d0b71eb5",
   "metadata": {
    "id": "d0b71eb5",
    "outputId": "244383a9-1e61-44c4-abdd-36070cc7e040"
   },
   "outputs": [
    {
     "data": {
      "text/html": [
       "<table>\n",
       "<thead><tr><th></th><th scope=col>a</th><th scope=col>b</th><th scope=col>c</th><th scope=col>d</th><th scope=col>e</th></tr></thead>\n",
       "<tbody>\n",
       "\t<tr><th scope=row>a</th><td>1 </td><td>3 </td><td>5 </td><td>7 </td><td> 9</td></tr>\n",
       "\t<tr><th scope=row>b</th><td>2 </td><td>4 </td><td>6 </td><td>8 </td><td>10</td></tr>\n",
       "</tbody>\n",
       "</table>\n"
      ],
      "text/latex": [
       "\\begin{tabular}{r|lllll}\n",
       "  & a & b & c & d & e\\\\\n",
       "\\hline\n",
       "\ta & 1  & 3  & 5  & 7  &  9\\\\\n",
       "\tb & 2  & 4  & 6  & 8  & 10\\\\\n",
       "\\end{tabular}\n"
      ],
      "text/markdown": [
       "\n",
       "| <!--/--> | a | b | c | d | e |\n",
       "|---|---|---|---|---|---|\n",
       "| a | 1  | 3  | 5  | 7  |  9 |\n",
       "| b | 2  | 4  | 6  | 8  | 10 |\n",
       "\n"
      ],
      "text/plain": [
       "  a b c d e \n",
       "a 1 3 5 7  9\n",
       "b 2 4 6 8 10"
      ]
     },
     "metadata": {},
     "output_type": "display_data"
    }
   ],
   "source": [
    "array(c(1:10), dim = c(2,5), dimnames = list(c(\"a\",\"b\"),c(\"a\",\"b\",\"c\",\"d\",\"e\")))"
   ]
  },
  {
   "cell_type": "code",
   "execution_count": null,
   "id": "d9139745",
   "metadata": {
    "id": "d9139745",
    "outputId": "e71948db-576d-45cb-fef9-062a5f9d3312"
   },
   "outputs": [
    {
     "data": {
      "text/html": [
       "<table>\n",
       "<thead><tr><th></th><th scope=col>A</th><th scope=col>B</th><th scope=col>C</th><th scope=col>D</th></tr></thead>\n",
       "<tbody>\n",
       "\t<tr><th scope=row>a</th><td>1 </td><td>4 </td><td>7 </td><td>10</td></tr>\n",
       "\t<tr><th scope=row>b</th><td>2 </td><td>5 </td><td>8 </td><td>11</td></tr>\n",
       "\t<tr><th scope=row>c</th><td>3 </td><td>6 </td><td>9 </td><td>12</td></tr>\n",
       "</tbody>\n",
       "</table>\n"
      ],
      "text/latex": [
       "\\begin{tabular}{r|llll}\n",
       "  & A & B & C & D\\\\\n",
       "\\hline\n",
       "\ta & 1  & 4  & 7  & 10\\\\\n",
       "\tb & 2  & 5  & 8  & 11\\\\\n",
       "\tc & 3  & 6  & 9  & 12\\\\\n",
       "\\end{tabular}\n"
      ],
      "text/markdown": [
       "\n",
       "| <!--/--> | A | B | C | D |\n",
       "|---|---|---|---|---|\n",
       "| a | 1  | 4  | 7  | 10 |\n",
       "| b | 2  | 5  | 8  | 11 |\n",
       "| c | 3  | 6  | 9  | 12 |\n",
       "\n"
      ],
      "text/plain": [
       "  A B C D \n",
       "a 1 4 7 10\n",
       "b 2 5 8 11\n",
       "c 3 6 9 12"
      ]
     },
     "metadata": {},
     "output_type": "display_data"
    }
   ],
   "source": [
    "# use letters as names - notice upper and lower case\n",
    "array(1:12, dim = c(3, 4), dimnames = list(letters[1:3], LETTERS[1:4]))"
   ]
  },
  {
   "cell_type": "code",
   "execution_count": null,
   "id": "60894237",
   "metadata": {
    "id": "60894237"
   },
   "outputs": [],
   "source": [
    "# Exercise\n",
    "# print the first 10 english letters in lower case \n",
    "# print the last 10 LETTERS in upper case\n",
    "# print the letters between 22nd to 24th LETTERS in upper case\n",
    "# (hint: use head and tail)"
   ]
  },
  {
   "cell_type": "code",
   "execution_count": null,
   "id": "5b5478e0",
   "metadata": {
    "id": "5b5478e0",
    "outputId": "3b6d2e81-1739-439f-a699-c5d714d3dfcb"
   },
   "outputs": [
    {
     "data": {
      "text/html": [
       "<ol class=list-inline>\n",
       "\t<li>'Q'</li>\n",
       "\t<li>'R'</li>\n",
       "\t<li>'S'</li>\n",
       "\t<li>'T'</li>\n",
       "\t<li>'U'</li>\n",
       "\t<li>'V'</li>\n",
       "\t<li>'W'</li>\n",
       "\t<li>'X'</li>\n",
       "\t<li>'Y'</li>\n",
       "\t<li>'Z'</li>\n",
       "</ol>\n"
      ],
      "text/latex": [
       "\\begin{enumerate*}\n",
       "\\item 'Q'\n",
       "\\item 'R'\n",
       "\\item 'S'\n",
       "\\item 'T'\n",
       "\\item 'U'\n",
       "\\item 'V'\n",
       "\\item 'W'\n",
       "\\item 'X'\n",
       "\\item 'Y'\n",
       "\\item 'Z'\n",
       "\\end{enumerate*}\n"
      ],
      "text/markdown": [
       "1. 'Q'\n",
       "2. 'R'\n",
       "3. 'S'\n",
       "4. 'T'\n",
       "5. 'U'\n",
       "6. 'V'\n",
       "7. 'W'\n",
       "8. 'X'\n",
       "9. 'Y'\n",
       "10. 'Z'\n",
       "\n",
       "\n"
      ],
      "text/plain": [
       " [1] \"Q\" \"R\" \"S\" \"T\" \"U\" \"V\" \"W\" \"X\" \"Y\" \"Z\""
      ]
     },
     "metadata": {},
     "output_type": "display_data"
    }
   ],
   "source": [
    "tail(LETTERS,10)"
   ]
  },
  {
   "cell_type": "code",
   "execution_count": null,
   "id": "c5613169",
   "metadata": {
    "id": "c5613169",
    "outputId": "6cba552a-dbb3-4a53-9b9c-83001a15766c"
   },
   "outputs": [
    {
     "data": {
      "text/html": [
       "<table>\n",
       "<thead><tr><th></th><th scope=col>Jan</th><th scope=col>Feb</th><th scope=col>Mar</th><th scope=col>Apr</th><th scope=col>May</th><th scope=col>Jun</th><th scope=col>Jul</th><th scope=col>Aug</th><th scope=col>Sep</th><th scope=col>Oct</th><th scope=col>Nov</th><th scope=col>Dec</th></tr></thead>\n",
       "<tbody>\n",
       "\t<tr><th scope=row>A</th><td>1 </td><td>3 </td><td>5 </td><td>7 </td><td> 9</td><td>11</td><td>13</td><td>15</td><td>17</td><td>19</td><td>21</td><td>23</td></tr>\n",
       "\t<tr><th scope=row>B</th><td>2 </td><td>4 </td><td>6 </td><td>8 </td><td>10</td><td>12</td><td>14</td><td>16</td><td>18</td><td>20</td><td>22</td><td>24</td></tr>\n",
       "</tbody>\n",
       "</table>\n"
      ],
      "text/latex": [
       "\\begin{tabular}{r|llllllllllll}\n",
       "  & Jan & Feb & Mar & Apr & May & Jun & Jul & Aug & Sep & Oct & Nov & Dec\\\\\n",
       "\\hline\n",
       "\tA & 1  & 3  & 5  & 7  &  9 & 11 & 13 & 15 & 17 & 19 & 21 & 23\\\\\n",
       "\tB & 2  & 4  & 6  & 8  & 10 & 12 & 14 & 16 & 18 & 20 & 22 & 24\\\\\n",
       "\\end{tabular}\n"
      ],
      "text/markdown": [
       "\n",
       "| <!--/--> | Jan | Feb | Mar | Apr | May | Jun | Jul | Aug | Sep | Oct | Nov | Dec |\n",
       "|---|---|---|---|---|---|---|---|---|---|---|---|---|\n",
       "| A | 1  | 3  | 5  | 7  |  9 | 11 | 13 | 15 | 17 | 19 | 21 | 23 |\n",
       "| B | 2  | 4  | 6  | 8  | 10 | 12 | 14 | 16 | 18 | 20 | 22 | 24 |\n",
       "\n"
      ],
      "text/plain": [
       "  Jan Feb Mar Apr May Jun Jul Aug Sep Oct Nov Dec\n",
       "A 1   3   5   7    9  11  13  15  17  19  21  23 \n",
       "B 2   4   6   8   10  12  14  16  18  20  22  24 "
      ]
     },
     "metadata": {},
     "output_type": "display_data"
    }
   ],
   "source": [
    "# get months names as col names\n",
    "array(1:24, dim = c(2, 12), dimnames = list(LETTERS[1:2],month.abb[1:12]))"
   ]
  },
  {
   "cell_type": "code",
   "execution_count": null,
   "id": "eb7c2a78",
   "metadata": {
    "id": "eb7c2a78",
    "outputId": "1a3f1735-366b-4092-f52c-b26e6f91b01e"
   },
   "outputs": [
    {
     "data": {
      "text/html": [
       "<ol class=list-inline>\n",
       "\t<li>'Dec'</li>\n",
       "\t<li>'Oct'</li>\n",
       "\t<li>'Aug'</li>\n",
       "\t<li>'Jun'</li>\n",
       "\t<li>'Apr'</li>\n",
       "\t<li>'Feb'</li>\n",
       "</ol>\n"
      ],
      "text/latex": [
       "\\begin{enumerate*}\n",
       "\\item 'Dec'\n",
       "\\item 'Oct'\n",
       "\\item 'Aug'\n",
       "\\item 'Jun'\n",
       "\\item 'Apr'\n",
       "\\item 'Feb'\n",
       "\\end{enumerate*}\n"
      ],
      "text/markdown": [
       "1. 'Dec'\n",
       "2. 'Oct'\n",
       "3. 'Aug'\n",
       "4. 'Jun'\n",
       "5. 'Apr'\n",
       "6. 'Feb'\n",
       "\n",
       "\n"
      ],
      "text/plain": [
       "[1] \"Dec\" \"Oct\" \"Aug\" \"Jun\" \"Apr\" \"Feb\""
      ]
     },
     "metadata": {},
     "output_type": "display_data"
    }
   ],
   "source": [
    "# play with month names\n",
    "# month.abb is the three-letter abbreviations for the English month names\n",
    "mnth <- c(12, 10, 8, 6, 4, 2)\n",
    "month.abb[mnth]\n"
   ]
  },
  {
   "cell_type": "code",
   "execution_count": null,
   "id": "15d9cf08",
   "metadata": {
    "id": "15d9cf08",
    "outputId": "10b86b09-4d79-4598-b176-40316f2eb8a9"
   },
   "outputs": [
    {
     "data": {
      "text/html": [
       "'Wednesday'"
      ],
      "text/latex": [
       "'Wednesday'"
      ],
      "text/markdown": [
       "'Wednesday'"
      ],
      "text/plain": [
       "[1] \"Wednesday\""
      ]
     },
     "metadata": {},
     "output_type": "display_data"
    }
   ],
   "source": [
    "# detour: day of the week\n",
    "dt = \"15-08-1947\"\n",
    "weekdays(as.Date(dt))\n",
    "\n",
    "# there are many other ways"
   ]
  },
  {
   "cell_type": "code",
   "execution_count": null,
   "id": "e606c307",
   "metadata": {
    "id": "e606c307",
    "outputId": "f4073b4f-596e-4b2b-da12-f4bd9ed8f89c"
   },
   "outputs": [
    {
     "name": "stdout",
     "output_type": "stream",
     "text": [
      ", , 1\n",
      "\n",
      "     [,1] [,2] [,3]\n",
      "[1,]    1    5    9\n",
      "[2,]    2    6   10\n",
      "[3,]    3    7   11\n",
      "[4,]    4    8   12\n",
      "\n",
      ", , 2\n",
      "\n",
      "     [,1] [,2] [,3]\n",
      "[1,]   13   17   21\n",
      "[2,]   14   18   22\n",
      "[3,]   15   19   23\n",
      "[4,]   16   20   24\n",
      "\n"
     ]
    }
   ],
   "source": [
    "# higher order arrays\n",
    "print(array(c(1:24), dim=c(4,3,2)))"
   ]
  },
  {
   "cell_type": "code",
   "execution_count": null,
   "id": "7186dbda",
   "metadata": {
    "id": "7186dbda",
    "outputId": "162871bc-9535-47ad-82a8-a66bcae81009"
   },
   "outputs": [
    {
     "name": "stdout",
     "output_type": "stream",
     "text": [
      ", , 1\n",
      "\n",
      "     [,1] [,2] [,3]\n",
      "[1,]    1    4    1\n",
      "[2,]    2    5    2\n",
      "[3,]    3    6    3\n",
      "\n",
      ", , 2\n",
      "\n",
      "     [,1] [,2] [,3]\n",
      "[1,]    4    1    4\n",
      "[2,]    5    2    5\n",
      "[3,]    6    3    6\n",
      "\n"
     ]
    }
   ],
   "source": [
    "# Create vector\n",
    "data1 <- c(1,2,3,4,5,6)\n",
    " \n",
    "# pass this vector as input to the array.\n",
    "# 3 rows,3 columns and 2 arrays\n",
    "result <- array(data1, dim = c(3,3,2))\n",
    "print(result)"
   ]
  },
  {
   "cell_type": "markdown",
   "id": "4f08293e",
   "metadata": {
    "id": "4f08293e"
   },
   "source": [
    "dim() returns dimensions, \n",
    "nrow() and ncol() give rows and col of the matrix or array, \n",
    "length() gives the total length for vectors, arrays and matrices"
   ]
  },
  {
   "cell_type": "code",
   "execution_count": null,
   "id": "810e38eb",
   "metadata": {
    "id": "810e38eb"
   },
   "outputs": [],
   "source": [
    "arr = array(c(1:10), dim = c(2,5))"
   ]
  },
  {
   "cell_type": "code",
   "execution_count": null,
   "id": "4027de0a",
   "metadata": {
    "id": "4027de0a",
    "outputId": "f56e7cc0-188d-4d1d-90e4-f701996e8b47"
   },
   "outputs": [
    {
     "name": "stdout",
     "output_type": "stream",
     "text": [
      "2,5"
     ]
    }
   ],
   "source": [
    "cat(nrow(arr), ncol(arr), sep=\",\")"
   ]
  },
  {
   "cell_type": "code",
   "execution_count": null,
   "id": "1a25ba4d",
   "metadata": {
    "id": "1a25ba4d",
    "outputId": "0966ee82-068a-4dd9-e51f-542a629dd639"
   },
   "outputs": [
    {
     "data": {
      "text/html": [
       "<ol class=list-inline>\n",
       "\t<li>2</li>\n",
       "\t<li>5</li>\n",
       "</ol>\n"
      ],
      "text/latex": [
       "\\begin{enumerate*}\n",
       "\\item 2\n",
       "\\item 5\n",
       "\\end{enumerate*}\n"
      ],
      "text/markdown": [
       "1. 2\n",
       "2. 5\n",
       "\n",
       "\n"
      ],
      "text/plain": [
       "[1] 2 5"
      ]
     },
     "metadata": {},
     "output_type": "display_data"
    }
   ],
   "source": [
    "dim(arr)"
   ]
  },
  {
   "cell_type": "code",
   "execution_count": null,
   "id": "4b24b3e2",
   "metadata": {
    "id": "4b24b3e2",
    "outputId": "cabdb06a-a408-4c50-d1a5-efb034686077"
   },
   "outputs": [
    {
     "data": {
      "text/html": [
       "2"
      ],
      "text/latex": [
       "2"
      ],
      "text/markdown": [
       "2"
      ],
      "text/plain": [
       "[1] 2"
      ]
     },
     "metadata": {},
     "output_type": "display_data"
    }
   ],
   "source": [
    "# get the 3 of rows sliced from dim\n",
    "dim(arr)[1]"
   ]
  },
  {
   "cell_type": "code",
   "execution_count": null,
   "id": "c27ed08d",
   "metadata": {
    "id": "c27ed08d",
    "outputId": "cfb1cf3f-1727-46a4-b49f-a28defc402d8"
   },
   "outputs": [
    {
     "data": {
      "text/html": [
       "2"
      ],
      "text/latex": [
       "2"
      ],
      "text/markdown": [
       "2"
      ],
      "text/plain": [
       "[1] 2"
      ]
     },
     "metadata": {},
     "output_type": "display_data"
    }
   ],
   "source": [
    "nrow(arr)"
   ]
  },
  {
   "cell_type": "code",
   "execution_count": null,
   "id": "5a72beb8",
   "metadata": {
    "id": "5a72beb8",
    "outputId": "035b12bb-1c5a-4089-f622-2136d0e15e69"
   },
   "outputs": [
    {
     "data": {
      "text/html": [
       "5"
      ],
      "text/latex": [
       "5"
      ],
      "text/markdown": [
       "5"
      ],
      "text/plain": [
       "[1] 5"
      ]
     },
     "metadata": {},
     "output_type": "display_data"
    }
   ],
   "source": [
    "ncol(arr)"
   ]
  },
  {
   "cell_type": "code",
   "execution_count": null,
   "id": "85f8ae2d",
   "metadata": {
    "id": "85f8ae2d",
    "outputId": "3ccc45e0-37b9-4d86-a007-ae7a822f3159"
   },
   "outputs": [
    {
     "data": {
      "text/html": [
       "10"
      ],
      "text/latex": [
       "10"
      ],
      "text/markdown": [
       "10"
      ],
      "text/plain": [
       "[1] 10"
      ]
     },
     "metadata": {},
     "output_type": "display_data"
    }
   ],
   "source": [
    "length(arr)"
   ]
  },
  {
   "cell_type": "code",
   "execution_count": null,
   "id": "b4e4caf2",
   "metadata": {
    "id": "b4e4caf2",
    "outputId": "7f5a9ed9-c6d0-4be0-f297-bd5fd3e2e8f7"
   },
   "outputs": [
    {
     "data": {
      "text/html": [
       "<strong>$dim</strong> = <ol class=list-inline>\n",
       "\t<li>2</li>\n",
       "\t<li>5</li>\n",
       "</ol>\n"
      ],
      "text/latex": [
       "\\textbf{\\$dim} = \\begin{enumerate*}\n",
       "\\item 2\n",
       "\\item 5\n",
       "\\end{enumerate*}\n"
      ],
      "text/markdown": [
       "**$dim** = 1. 2\n",
       "2. 5\n",
       "\n",
       "\n"
      ],
      "text/plain": [
       "$dim\n",
       "[1] 2 5\n"
      ]
     },
     "metadata": {},
     "output_type": "display_data"
    }
   ],
   "source": [
    "# attribute is itself an integer vector of length 2 (number of rows, number of columns)\n",
    "attributes(arr)"
   ]
  },
  {
   "cell_type": "code",
   "execution_count": null,
   "id": "92f66515",
   "metadata": {
    "id": "92f66515",
    "outputId": "666d0f93-0ee1-4197-dac3-b8294608df21"
   },
   "outputs": [
    {
     "data": {
      "text/html": [
       "<strong>$dim</strong> = <ol class=list-inline>\n",
       "\t<li>2</li>\n",
       "\t<li>5</li>\n",
       "</ol>\n"
      ],
      "text/latex": [
       "\\textbf{\\$dim} = \\begin{enumerate*}\n",
       "\\item 2\n",
       "\\item 5\n",
       "\\end{enumerate*}\n"
      ],
      "text/markdown": [
       "**$dim** = 1. 2\n",
       "2. 5\n",
       "\n",
       "\n"
      ],
      "text/plain": [
       "$dim\n",
       "[1] 2 5\n"
      ]
     },
     "metadata": {},
     "output_type": "display_data"
    }
   ],
   "source": [
    "attributes(arr)"
   ]
  },
  {
   "cell_type": "markdown",
   "id": "d2b57f2f",
   "metadata": {
    "id": "d2b57f2f"
   },
   "source": [
    "### displaying them in a line"
   ]
  },
  {
   "cell_type": "code",
   "execution_count": null,
   "id": "7ae53f48",
   "metadata": {
    "id": "7ae53f48",
    "outputId": "df16d780-5fe0-4185-cdc9-7087440b47dc"
   },
   "outputs": [
    {
     "name": "stdout",
     "output_type": "stream",
     "text": [
      "5,2,2,5,10"
     ]
    }
   ],
   "source": [
    "cat(ncol(arr), nrow(arr), dim(arr), length(arr), sep=\",\")"
   ]
  },
  {
   "cell_type": "code",
   "execution_count": null,
   "id": "82d3bd93",
   "metadata": {
    "id": "82d3bd93",
    "outputId": "4aaa5fd4-c757-43b3-929a-f36ca9aa6c7a"
   },
   "outputs": [
    {
     "name": "stdout",
     "output_type": "stream",
     "text": [
      "The answer is 5 or 10"
     ]
    }
   ],
   "source": [
    "#define character string\n",
    "init_text <- \"The answer is\"\n",
    "\n",
    "#define numeric variables\n",
    "val1 <- 5\n",
    "val2 <- 10\n",
    "\n",
    "#print character string and numeric variables on the same line\n",
    "cat(init_text, val1, \"or\", val2)"
   ]
  },
  {
   "cell_type": "markdown",
   "id": "f537bf67",
   "metadata": {
    "id": "f537bf67"
   },
   "source": [
    "### assignments"
   ]
  },
  {
   "cell_type": "code",
   "execution_count": null,
   "id": "06cb4cb4",
   "metadata": {
    "id": "06cb4cb4"
   },
   "outputs": [],
   "source": [
    "x <- 5"
   ]
  },
  {
   "cell_type": "code",
   "execution_count": null,
   "id": "947679ad",
   "metadata": {
    "id": "947679ad",
    "outputId": "c302b93a-4d19-4898-e2ac-5a5814dcf4e4"
   },
   "outputs": [
    {
     "data": {
      "text/html": [
       "5"
      ],
      "text/latex": [
       "5"
      ],
      "text/markdown": [
       "5"
      ],
      "text/plain": [
       "[1] 5"
      ]
     },
     "metadata": {},
     "output_type": "display_data"
    }
   ],
   "source": [
    "x"
   ]
  },
  {
   "cell_type": "code",
   "execution_count": null,
   "id": "31b87348",
   "metadata": {
    "id": "31b87348",
    "outputId": "21205648-ca46-4aec-b42d-d616f15245d4"
   },
   "outputs": [
    {
     "data": {
      "text/html": [
       "'numeric'"
      ],
      "text/latex": [
       "'numeric'"
      ],
      "text/markdown": [
       "'numeric'"
      ],
      "text/plain": [
       "[1] \"numeric\""
      ]
     },
     "metadata": {},
     "output_type": "display_data"
    }
   ],
   "source": [
    "class(x)"
   ]
  },
  {
   "cell_type": "code",
   "execution_count": null,
   "id": "723d8515",
   "metadata": {
    "id": "723d8515"
   },
   "outputs": [],
   "source": [
    "# x=5 can be used; not recommended"
   ]
  },
  {
   "cell_type": "code",
   "execution_count": null,
   "id": "934f86b2",
   "metadata": {
    "id": "934f86b2",
    "outputId": "1b8e1793-0a46-41be-ccfa-8274e4140a5d"
   },
   "outputs": [
    {
     "data": {
      "text/html": [
       "25"
      ],
      "text/latex": [
       "25"
      ],
      "text/markdown": [
       "25"
      ],
      "text/plain": [
       "[1] 25"
      ]
     },
     "metadata": {},
     "output_type": "display_data"
    }
   ],
   "source": [
    "x*x"
   ]
  },
  {
   "cell_type": "code",
   "execution_count": null,
   "id": "6df0ae99",
   "metadata": {
    "id": "6df0ae99"
   },
   "outputs": [],
   "source": [
    "y <- x+5"
   ]
  },
  {
   "cell_type": "code",
   "execution_count": null,
   "id": "9559ff80",
   "metadata": {
    "id": "9559ff80",
    "outputId": "c37bdecb-1cdf-4451-b6a0-122415f83c10"
   },
   "outputs": [
    {
     "data": {
      "text/html": [
       "<ol class=list-inline>\n",
       "\t<li>'a'</li>\n",
       "\t<li>'arr'</li>\n",
       "\t<li>'b'</li>\n",
       "\t<li>'c'</li>\n",
       "\t<li>'d'</li>\n",
       "\t<li>'df'</li>\n",
       "\t<li>'init_text'</li>\n",
       "\t<li>'lis'</li>\n",
       "\t<li>'m'</li>\n",
       "\t<li>'v'</li>\n",
       "\t<li>'val1'</li>\n",
       "\t<li>'val2'</li>\n",
       "\t<li>'x'</li>\n",
       "\t<li>'y'</li>\n",
       "</ol>\n"
      ],
      "text/latex": [
       "\\begin{enumerate*}\n",
       "\\item 'a'\n",
       "\\item 'arr'\n",
       "\\item 'b'\n",
       "\\item 'c'\n",
       "\\item 'd'\n",
       "\\item 'df'\n",
       "\\item 'init\\_text'\n",
       "\\item 'lis'\n",
       "\\item 'm'\n",
       "\\item 'v'\n",
       "\\item 'val1'\n",
       "\\item 'val2'\n",
       "\\item 'x'\n",
       "\\item 'y'\n",
       "\\end{enumerate*}\n"
      ],
      "text/markdown": [
       "1. 'a'\n",
       "2. 'arr'\n",
       "3. 'b'\n",
       "4. 'c'\n",
       "5. 'd'\n",
       "6. 'df'\n",
       "7. 'init_text'\n",
       "8. 'lis'\n",
       "9. 'm'\n",
       "10. 'v'\n",
       "11. 'val1'\n",
       "12. 'val2'\n",
       "13. 'x'\n",
       "14. 'y'\n",
       "\n",
       "\n"
      ],
      "text/plain": [
       " [1] \"a\"         \"arr\"       \"b\"         \"c\"         \"d\"         \"df\"       \n",
       " [7] \"init_text\" \"lis\"       \"m\"         \"v\"         \"val1\"      \"val2\"     \n",
       "[13] \"x\"         \"y\"        "
      ]
     },
     "metadata": {},
     "output_type": "display_data"
    }
   ],
   "source": [
    "ls() # display all variables"
   ]
  },
  {
   "cell_type": "code",
   "execution_count": null,
   "id": "3f6ea183",
   "metadata": {
    "id": "3f6ea183"
   },
   "outputs": [],
   "source": [
    "rm(x) # remove this variable"
   ]
  },
  {
   "cell_type": "code",
   "execution_count": null,
   "id": "579eae0b",
   "metadata": {
    "id": "579eae0b",
    "outputId": "5f43998c-c673-4d05-b0fe-464a14df2009"
   },
   "outputs": [
    {
     "data": {
      "text/html": [
       "<ol class=list-inline>\n",
       "\t<li>'a'</li>\n",
       "\t<li>'arr'</li>\n",
       "\t<li>'b'</li>\n",
       "\t<li>'c'</li>\n",
       "\t<li>'d'</li>\n",
       "\t<li>'df'</li>\n",
       "\t<li>'init_text'</li>\n",
       "\t<li>'lis'</li>\n",
       "\t<li>'m'</li>\n",
       "\t<li>'v'</li>\n",
       "\t<li>'val1'</li>\n",
       "\t<li>'val2'</li>\n",
       "\t<li>'y'</li>\n",
       "</ol>\n"
      ],
      "text/latex": [
       "\\begin{enumerate*}\n",
       "\\item 'a'\n",
       "\\item 'arr'\n",
       "\\item 'b'\n",
       "\\item 'c'\n",
       "\\item 'd'\n",
       "\\item 'df'\n",
       "\\item 'init\\_text'\n",
       "\\item 'lis'\n",
       "\\item 'm'\n",
       "\\item 'v'\n",
       "\\item 'val1'\n",
       "\\item 'val2'\n",
       "\\item 'y'\n",
       "\\end{enumerate*}\n"
      ],
      "text/markdown": [
       "1. 'a'\n",
       "2. 'arr'\n",
       "3. 'b'\n",
       "4. 'c'\n",
       "5. 'd'\n",
       "6. 'df'\n",
       "7. 'init_text'\n",
       "8. 'lis'\n",
       "9. 'm'\n",
       "10. 'v'\n",
       "11. 'val1'\n",
       "12. 'val2'\n",
       "13. 'y'\n",
       "\n",
       "\n"
      ],
      "text/plain": [
       " [1] \"a\"         \"arr\"       \"b\"         \"c\"         \"d\"         \"df\"       \n",
       " [7] \"init_text\" \"lis\"       \"m\"         \"v\"         \"val1\"      \"val2\"     \n",
       "[13] \"y\"        "
      ]
     },
     "metadata": {},
     "output_type": "display_data"
    }
   ],
   "source": [
    "ls()"
   ]
  },
  {
   "cell_type": "markdown",
   "id": "2e78a279",
   "metadata": {
    "id": "2e78a279"
   },
   "source": [
    "### Easily initialize and run Stats"
   ]
  },
  {
   "cell_type": "code",
   "execution_count": null,
   "id": "a0d85ff8",
   "metadata": {
    "id": "a0d85ff8"
   },
   "outputs": [],
   "source": [
    "x<-rnorm(100)"
   ]
  },
  {
   "cell_type": "code",
   "execution_count": null,
   "id": "5d4a18e2",
   "metadata": {
    "id": "5d4a18e2",
    "outputId": "0545fc38-1b35-460d-9669-60b6fe7d671c"
   },
   "outputs": [
    {
     "data": {
      "text/html": [
       "<ol class=list-inline>\n",
       "\t<li>-0.396926200695069</li>\n",
       "\t<li>-1.76036590556222</li>\n",
       "\t<li>0.160697080589977</li>\n",
       "\t<li>1.11181033180946</li>\n",
       "\t<li>-0.585217672894221</li>\n",
       "\t<li>0.73533222039928</li>\n",
       "</ol>\n"
      ],
      "text/latex": [
       "\\begin{enumerate*}\n",
       "\\item -0.396926200695069\n",
       "\\item -1.76036590556222\n",
       "\\item 0.160697080589977\n",
       "\\item 1.11181033180946\n",
       "\\item -0.585217672894221\n",
       "\\item 0.73533222039928\n",
       "\\end{enumerate*}\n"
      ],
      "text/markdown": [
       "1. -0.396926200695069\n",
       "2. -1.76036590556222\n",
       "3. 0.160697080589977\n",
       "4. 1.11181033180946\n",
       "5. -0.585217672894221\n",
       "6. 0.73533222039928\n",
       "\n",
       "\n"
      ],
      "text/plain": [
       "[1] -0.39692620069506906 -1.76036590556221939  0.16069708058997706\n",
       "[4]  1.11181033180946232 -0.58521767289422066  0.73533222039927970"
      ]
     },
     "metadata": {},
     "output_type": "display_data"
    }
   ],
   "source": [
    "head(x)"
   ]
  },
  {
   "cell_type": "code",
   "execution_count": null,
   "id": "76000d21",
   "metadata": {
    "id": "76000d21",
    "outputId": "5137fc7e-e9ab-4ec9-b607-5ff89f81564d"
   },
   "outputs": [
    {
     "data": {
      "text/html": [
       "0.124662284006407"
      ],
      "text/latex": [
       "0.124662284006407"
      ],
      "text/markdown": [
       "0.124662284006407"
      ],
      "text/plain": [
       "[1] 0.12466228400640744"
      ]
     },
     "metadata": {},
     "output_type": "display_data"
    }
   ],
   "source": [
    "mean(x)"
   ]
  },
  {
   "cell_type": "code",
   "execution_count": null,
   "id": "3c9e9d52",
   "metadata": {
    "id": "3c9e9d52",
    "outputId": "96ea4b70-6089-46a4-eb79-03250aa348ec"
   },
   "outputs": [
    {
     "data": {
      "text/html": [
       "1.03305688026748"
      ],
      "text/latex": [
       "1.03305688026748"
      ],
      "text/markdown": [
       "1.03305688026748"
      ],
      "text/plain": [
       "[1] 1.0330568802674751"
      ]
     },
     "metadata": {},
     "output_type": "display_data"
    }
   ],
   "source": [
    "sd(x)"
   ]
  },
  {
   "cell_type": "code",
   "execution_count": null,
   "id": "ad2c210a",
   "metadata": {
    "id": "ad2c210a",
    "outputId": "ea3d27b0-dbac-41cd-93d9-68c3486a39b7"
   },
   "outputs": [
    {
     "data": {
      "text/html": [
       "-2.36560959989814"
      ],
      "text/latex": [
       "-2.36560959989814"
      ],
      "text/markdown": [
       "-2.36560959989814"
      ],
      "text/plain": [
       "[1] -2.3656095998981366"
      ]
     },
     "metadata": {},
     "output_type": "display_data"
    }
   ],
   "source": [
    "min(x)"
   ]
  },
  {
   "cell_type": "code",
   "execution_count": null,
   "id": "6f5f64f2",
   "metadata": {
    "id": "6f5f64f2",
    "outputId": "6546d04a-6f02-4e57-9362-beda9d556c49"
   },
   "outputs": [
    {
     "data": {
      "text/html": [
       "3.09704306046818"
      ],
      "text/latex": [
       "3.09704306046818"
      ],
      "text/markdown": [
       "3.09704306046818"
      ],
      "text/plain": [
       "[1] 3.0970430604681751"
      ]
     },
     "metadata": {},
     "output_type": "display_data"
    }
   ],
   "source": [
    "max(x)"
   ]
  },
  {
   "cell_type": "markdown",
   "id": "6a0cf922",
   "metadata": {
    "id": "6a0cf922"
   },
   "source": [
    "### Lists"
   ]
  },
  {
   "cell_type": "code",
   "execution_count": null,
   "id": "61245df0",
   "metadata": {
    "id": "61245df0",
    "outputId": "2c36f971-9640-4a50-ff59-0189e133a70a"
   },
   "outputs": [
    {
     "data": {
      "text/html": [
       "<dl>\n",
       "\t<dt>$`Los Angeles`</dt>\n",
       "\t\t<dd>1</dd>\n",
       "\t<dt>$Boston</dt>\n",
       "\t\t<dd>2</dd>\n",
       "\t<dt>$London</dt>\n",
       "\t\t<dd>3</dd>\n",
       "</dl>\n"
      ],
      "text/latex": [
       "\\begin{description}\n",
       "\\item[\\$`Los Angeles`] 1\n",
       "\\item[\\$Boston] 2\n",
       "\\item[\\$London] 3\n",
       "\\end{description}\n"
      ],
      "text/markdown": [
       "$`Los Angeles`\n",
       ":   1\n",
       "$Boston\n",
       ":   2\n",
       "$London\n",
       ":   3\n",
       "\n",
       "\n"
      ],
      "text/plain": [
       "$`Los Angeles`\n",
       "[1] 1\n",
       "\n",
       "$Boston\n",
       "[1] 2\n",
       "\n",
       "$London\n",
       "[1] 3\n"
      ]
     },
     "metadata": {},
     "output_type": "display_data"
    }
   ],
   "source": [
    "# Lists can also have names, which is often very useful.\n",
    "x <- list(\"Los Angeles\" = 1, Boston = 2, London = 3)\n",
    "x"
   ]
  },
  {
   "cell_type": "code",
   "execution_count": null,
   "id": "209264cd",
   "metadata": {
    "id": "209264cd",
    "outputId": "4025245c-3683-414f-a464-1c07c4c9291b"
   },
   "outputs": [
    {
     "data": {
      "text/html": [
       "<dl>\n",
       "\t<dt>$a</dt>\n",
       "\t\t<dd>1</dd>\n",
       "\t<dt>$b</dt>\n",
       "\t\t<dd>'abc'</dd>\n",
       "\t<dt>$c</dt>\n",
       "\t\t<dd><ol class=list-inline>\n",
       "\t<li>1</li>\n",
       "\t<li>2</li>\n",
       "\t<li>3</li>\n",
       "</ol>\n",
       "</dd>\n",
       "\t<dt>$d</dt>\n",
       "\t\t<dd><dl>\n",
       "\t<dt>$e</dt>\n",
       "\t\t<dd><table>\n",
       "<tbody>\n",
       "\t<tr><td>1</td><td>3</td></tr>\n",
       "\t<tr><td>2</td><td>4</td></tr>\n",
       "</tbody>\n",
       "</table>\n",
       "</dd>\n",
       "\t<dt>$f</dt>\n",
       "\t\t<dd><pre class=language-r><code>function (x) \n",
       "x^2</code></pre></dd>\n",
       "</dl>\n",
       "</dd>\n",
       "</dl>\n"
      ],
      "text/latex": [
       "\\begin{description}\n",
       "\\item[\\$a] 1\n",
       "\\item[\\$b] 'abc'\n",
       "\\item[\\$c] \\begin{enumerate*}\n",
       "\\item 1\n",
       "\\item 2\n",
       "\\item 3\n",
       "\\end{enumerate*}\n",
       "\n",
       "\\item[\\$d] \\begin{description}\n",
       "\\item[\\$e] \\begin{tabular}{ll}\n",
       "\t 1 & 3\\\\\n",
       "\t 2 & 4\\\\\n",
       "\\end{tabular}\n",
       "\n",
       "\\item[\\$f] \\begin{minted}{r}\n",
       "function (x) \n",
       "x\\textasciicircum{}2\n",
       "\\end{minted}\n",
       "\\end{description}\n",
       "\n",
       "\\end{description}\n"
      ],
      "text/markdown": [
       "$a\n",
       ":   1\n",
       "$b\n",
       ":   'abc'\n",
       "$c\n",
       ":   1. 1\n",
       "2. 2\n",
       "3. 3\n",
       "\n",
       "\n",
       "\n",
       "$d\n",
       ":   $e\n",
       ":   \n",
       "| 1 | 3 |\n",
       "| 2 | 4 |\n",
       "\n",
       "\n",
       "$f\n",
       ":   ```r\n",
       "function (x) \n",
       "x^2\n",
       "```\n",
       "\n",
       "\n",
       "\n",
       "\n",
       "\n"
      ],
      "text/plain": [
       "$a\n",
       "[1] 1\n",
       "\n",
       "$b\n",
       "[1] \"abc\"\n",
       "\n",
       "$c\n",
       "[1] 1 2 3\n",
       "\n",
       "$d\n",
       "$d$e\n",
       "     [,1] [,2]\n",
       "[1,]    1    3\n",
       "[2,]    2    4\n",
       "\n",
       "$d$f\n",
       "function(x)x^2\n",
       "\n"
      ]
     },
     "metadata": {},
     "output_type": "display_data"
    }
   ],
   "source": [
    "list(a=1,b=\"abc\",c=c(1,2,3),d=list(e=matrix(1:4,2), f=function(x)x^2))"
   ]
  },
  {
   "cell_type": "code",
   "execution_count": null,
   "id": "01a4116c",
   "metadata": {
    "id": "01a4116c"
   },
   "outputs": [],
   "source": [
    "lis <- list(a=1,b=\"abc\",ac=c(1,2,3),d=list(e=matrix(1:4,2), f=function(x)x^2))"
   ]
  },
  {
   "cell_type": "code",
   "execution_count": null,
   "id": "31eaf04d",
   "metadata": {
    "id": "31eaf04d",
    "outputId": "e57bf9c5-bad1-4efa-8c3c-d20257d6ebca"
   },
   "outputs": [
    {
     "data": {
      "text/html": [
       "1"
      ],
      "text/latex": [
       "1"
      ],
      "text/markdown": [
       "1"
      ],
      "text/plain": [
       "[1] 1"
      ]
     },
     "metadata": {},
     "output_type": "display_data"
    }
   ],
   "source": [
    "lis$a"
   ]
  },
  {
   "cell_type": "code",
   "execution_count": null,
   "id": "e0a2d59b",
   "metadata": {
    "id": "e0a2d59b",
    "outputId": "2d3ef4e6-0967-4566-9557-196d066bd43e"
   },
   "outputs": [
    {
     "data": {
      "text/html": [
       "<ol class=list-inline>\n",
       "\t<li>1</li>\n",
       "\t<li>2</li>\n",
       "\t<li>3</li>\n",
       "</ol>\n"
      ],
      "text/latex": [
       "\\begin{enumerate*}\n",
       "\\item 1\n",
       "\\item 2\n",
       "\\item 3\n",
       "\\end{enumerate*}\n"
      ],
      "text/markdown": [
       "1. 1\n",
       "2. 2\n",
       "3. 3\n",
       "\n",
       "\n"
      ],
      "text/plain": [
       "[1] 1 2 3"
      ]
     },
     "metadata": {},
     "output_type": "display_data"
    }
   ],
   "source": [
    "lis$ac"
   ]
  },
  {
   "cell_type": "code",
   "execution_count": null,
   "id": "e77088a1",
   "metadata": {
    "id": "e77088a1",
    "outputId": "38358135-a04e-4038-9836-c9eeefc15447"
   },
   "outputs": [
    {
     "data": {
      "text/html": [
       "1"
      ],
      "text/latex": [
       "1"
      ],
      "text/markdown": [
       "1"
      ],
      "text/plain": [
       "[1] 1"
      ]
     },
     "metadata": {},
     "output_type": "display_data"
    }
   ],
   "source": [
    "lis$ac[1]"
   ]
  },
  {
   "cell_type": "code",
   "execution_count": null,
   "id": "eabb1096",
   "metadata": {
    "id": "eabb1096",
    "outputId": "fe2cf3e6-e59c-45a7-9a47-a5e56edc891a"
   },
   "outputs": [
    {
     "data": {
      "text/html": [
       "<table>\n",
       "<tbody>\n",
       "\t<tr><td>1</td><td>3</td></tr>\n",
       "\t<tr><td>2</td><td>4</td></tr>\n",
       "</tbody>\n",
       "</table>\n"
      ],
      "text/latex": [
       "\\begin{tabular}{ll}\n",
       "\t 1 & 3\\\\\n",
       "\t 2 & 4\\\\\n",
       "\\end{tabular}\n"
      ],
      "text/markdown": [
       "\n",
       "| 1 | 3 |\n",
       "| 2 | 4 |\n",
       "\n"
      ],
      "text/plain": [
       "     [,1] [,2]\n",
       "[1,] 1    3   \n",
       "[2,] 2    4   "
      ]
     },
     "metadata": {},
     "output_type": "display_data"
    }
   ],
   "source": [
    "lis$d$e"
   ]
  },
  {
   "cell_type": "code",
   "execution_count": null,
   "id": "50b8909d",
   "metadata": {
    "id": "50b8909d",
    "outputId": "64717d40-e0ea-479f-ca10-026cc41ba0d7"
   },
   "outputs": [
    {
     "data": {
      "text/html": [
       "TRUE"
      ],
      "text/latex": [
       "TRUE"
      ],
      "text/markdown": [
       "TRUE"
      ],
      "text/plain": [
       "[1] TRUE"
      ]
     },
     "metadata": {},
     "output_type": "display_data"
    }
   ],
   "source": [
    "# compare element level\n",
    "all.equal(1:10,c(1:10))"
   ]
  },
  {
   "cell_type": "code",
   "execution_count": null,
   "id": "af6d34be",
   "metadata": {
    "id": "af6d34be",
    "outputId": "f10a9a6e-ee7b-4720-a163-73ed02a1b1e0"
   },
   "outputs": [
    {
     "data": {
      "text/html": [
       "'Mean relative difference: 0.40000000000000002'"
      ],
      "text/latex": [
       "'Mean relative difference: 0.40000000000000002'"
      ],
      "text/markdown": [
       "'Mean relative difference: 0.40000000000000002'"
      ],
      "text/plain": [
       "[1] \"Mean relative difference: 0.40000000000000002\""
      ]
     },
     "metadata": {},
     "output_type": "display_data"
    }
   ],
   "source": [
    "all.equal(c(1,2,3),c(1,3,4))"
   ]
  },
  {
   "cell_type": "code",
   "execution_count": null,
   "id": "d0cc8b07",
   "metadata": {
    "id": "d0cc8b07"
   },
   "outputs": [],
   "source": [
    "# Exercise:\n",
    "# there were five students with names holding their full names\n",
    "# subjects having the 3 subjects they took\n",
    "# marks having their marks in each course\n",
    "# try to use list variable to hold this data\n",
    "# retrieve the first name, the courses and the marks of this student"
   ]
  },
  {
   "cell_type": "markdown",
   "id": "eec81321",
   "metadata": {
    "id": "eec81321"
   },
   "source": [
    "### built-in datasets"
   ]
  },
  {
   "cell_type": "code",
   "execution_count": null,
   "id": "69538c25",
   "metadata": {
    "id": "69538c25",
    "outputId": "9a582ee3-af77-4256-870d-b8ff3179d624"
   },
   "outputs": [
    {
     "data": {
      "text/html": [
       "<table>\n",
       "<thead><tr><th></th><th scope=col>mpg</th><th scope=col>cyl</th><th scope=col>disp</th><th scope=col>hp</th><th scope=col>drat</th><th scope=col>wt</th><th scope=col>qsec</th><th scope=col>vs</th><th scope=col>am</th><th scope=col>gear</th><th scope=col>carb</th></tr></thead>\n",
       "<tbody>\n",
       "\t<tr><th scope=row>Mazda RX4</th><td>21.0 </td><td>6    </td><td>160  </td><td>110  </td><td>3.90 </td><td>2.620</td><td>16.46</td><td>0    </td><td>1    </td><td>4    </td><td>4    </td></tr>\n",
       "\t<tr><th scope=row>Mazda RX4 Wag</th><td>21.0 </td><td>6    </td><td>160  </td><td>110  </td><td>3.90 </td><td>2.875</td><td>17.02</td><td>0    </td><td>1    </td><td>4    </td><td>4    </td></tr>\n",
       "\t<tr><th scope=row>Datsun 710</th><td>22.8 </td><td>4    </td><td>108  </td><td> 93  </td><td>3.85 </td><td>2.320</td><td>18.61</td><td>1    </td><td>1    </td><td>4    </td><td>1    </td></tr>\n",
       "\t<tr><th scope=row>Hornet 4 Drive</th><td>21.4 </td><td>6    </td><td>258  </td><td>110  </td><td>3.08 </td><td>3.215</td><td>19.44</td><td>1    </td><td>0    </td><td>3    </td><td>1    </td></tr>\n",
       "\t<tr><th scope=row>Hornet Sportabout</th><td>18.7 </td><td>8    </td><td>360  </td><td>175  </td><td>3.15 </td><td>3.440</td><td>17.02</td><td>0    </td><td>0    </td><td>3    </td><td>2    </td></tr>\n",
       "\t<tr><th scope=row>Valiant</th><td>18.1 </td><td>6    </td><td>225  </td><td>105  </td><td>2.76 </td><td>3.460</td><td>20.22</td><td>1    </td><td>0    </td><td>3    </td><td>1    </td></tr>\n",
       "</tbody>\n",
       "</table>\n"
      ],
      "text/latex": [
       "\\begin{tabular}{r|lllllllllll}\n",
       "  & mpg & cyl & disp & hp & drat & wt & qsec & vs & am & gear & carb\\\\\n",
       "\\hline\n",
       "\tMazda RX4 & 21.0  & 6     & 160   & 110   & 3.90  & 2.620 & 16.46 & 0     & 1     & 4     & 4    \\\\\n",
       "\tMazda RX4 Wag & 21.0  & 6     & 160   & 110   & 3.90  & 2.875 & 17.02 & 0     & 1     & 4     & 4    \\\\\n",
       "\tDatsun 710 & 22.8  & 4     & 108   &  93   & 3.85  & 2.320 & 18.61 & 1     & 1     & 4     & 1    \\\\\n",
       "\tHornet 4 Drive & 21.4  & 6     & 258   & 110   & 3.08  & 3.215 & 19.44 & 1     & 0     & 3     & 1    \\\\\n",
       "\tHornet Sportabout & 18.7  & 8     & 360   & 175   & 3.15  & 3.440 & 17.02 & 0     & 0     & 3     & 2    \\\\\n",
       "\tValiant & 18.1  & 6     & 225   & 105   & 2.76  & 3.460 & 20.22 & 1     & 0     & 3     & 1    \\\\\n",
       "\\end{tabular}\n"
      ],
      "text/markdown": [
       "\n",
       "| <!--/--> | mpg | cyl | disp | hp | drat | wt | qsec | vs | am | gear | carb |\n",
       "|---|---|---|---|---|---|---|---|---|---|---|---|\n",
       "| Mazda RX4 | 21.0  | 6     | 160   | 110   | 3.90  | 2.620 | 16.46 | 0     | 1     | 4     | 4     |\n",
       "| Mazda RX4 Wag | 21.0  | 6     | 160   | 110   | 3.90  | 2.875 | 17.02 | 0     | 1     | 4     | 4     |\n",
       "| Datsun 710 | 22.8  | 4     | 108   |  93   | 3.85  | 2.320 | 18.61 | 1     | 1     | 4     | 1     |\n",
       "| Hornet 4 Drive | 21.4  | 6     | 258   | 110   | 3.08  | 3.215 | 19.44 | 1     | 0     | 3     | 1     |\n",
       "| Hornet Sportabout | 18.7  | 8     | 360   | 175   | 3.15  | 3.440 | 17.02 | 0     | 0     | 3     | 2     |\n",
       "| Valiant | 18.1  | 6     | 225   | 105   | 2.76  | 3.460 | 20.22 | 1     | 0     | 3     | 1     |\n",
       "\n"
      ],
      "text/plain": [
       "                  mpg  cyl disp hp  drat wt    qsec  vs am gear carb\n",
       "Mazda RX4         21.0 6   160  110 3.90 2.620 16.46 0  1  4    4   \n",
       "Mazda RX4 Wag     21.0 6   160  110 3.90 2.875 17.02 0  1  4    4   \n",
       "Datsun 710        22.8 4   108   93 3.85 2.320 18.61 1  1  4    1   \n",
       "Hornet 4 Drive    21.4 6   258  110 3.08 3.215 19.44 1  0  3    1   \n",
       "Hornet Sportabout 18.7 8   360  175 3.15 3.440 17.02 0  0  3    2   \n",
       "Valiant           18.1 6   225  105 2.76 3.460 20.22 1  0  3    1   "
      ]
     },
     "metadata": {},
     "output_type": "display_data"
    }
   ],
   "source": [
    "# Loading\n",
    "data(mtcars)\n",
    "# Print the first 6 rows\n",
    "head(mtcars, 6)"
   ]
  },
  {
   "cell_type": "code",
   "execution_count": null,
   "id": "becc8131",
   "metadata": {
    "id": "becc8131"
   },
   "outputs": [],
   "source": [
    "?mtcars"
   ]
  },
  {
   "cell_type": "code",
   "execution_count": null,
   "id": "8d23ef13",
   "metadata": {
    "id": "8d23ef13",
    "outputId": "1f2e9695-e3e1-4482-8876-0332e9d5434d"
   },
   "outputs": [
    {
     "data": {
      "text/html": [
       "32"
      ],
      "text/latex": [
       "32"
      ],
      "text/markdown": [
       "32"
      ],
      "text/plain": [
       "[1] 32"
      ]
     },
     "metadata": {},
     "output_type": "display_data"
    }
   ],
   "source": [
    "# Number of rows (observations)\n",
    "nrow(mtcars)"
   ]
  },
  {
   "cell_type": "code",
   "execution_count": null,
   "id": "7e232588",
   "metadata": {
    "id": "7e232588",
    "outputId": "b0764f08-333a-47cc-bb59-b842a27d9d29"
   },
   "outputs": [
    {
     "data": {
      "text/html": [
       "11"
      ],
      "text/latex": [
       "11"
      ],
      "text/markdown": [
       "11"
      ],
      "text/plain": [
       "[1] 11"
      ]
     },
     "metadata": {},
     "output_type": "display_data"
    }
   ],
   "source": [
    "# Number of columns (variables)\n",
    "ncol(mtcars)"
   ]
  },
  {
   "cell_type": "code",
   "execution_count": null,
   "id": "d2bb3f31",
   "metadata": {
    "id": "d2bb3f31",
    "outputId": "b3959aff-cf4a-402c-b045-acb592f6a772"
   },
   "outputs": [
    {
     "data": {
      "text/html": [
       "<ol class=list-inline>\n",
       "\t<li>21</li>\n",
       "\t<li>21</li>\n",
       "\t<li>22.8</li>\n",
       "\t<li>21.4</li>\n",
       "\t<li>18.7</li>\n",
       "\t<li>18.1</li>\n",
       "\t<li>14.3</li>\n",
       "\t<li>24.4</li>\n",
       "\t<li>22.8</li>\n",
       "\t<li>19.2</li>\n",
       "\t<li>17.8</li>\n",
       "\t<li>16.4</li>\n",
       "\t<li>17.3</li>\n",
       "\t<li>15.2</li>\n",
       "\t<li>10.4</li>\n",
       "\t<li>10.4</li>\n",
       "\t<li>14.7</li>\n",
       "\t<li>32.4</li>\n",
       "\t<li>30.4</li>\n",
       "\t<li>33.9</li>\n",
       "\t<li>21.5</li>\n",
       "\t<li>15.5</li>\n",
       "\t<li>15.2</li>\n",
       "\t<li>13.3</li>\n",
       "\t<li>19.2</li>\n",
       "\t<li>27.3</li>\n",
       "\t<li>26</li>\n",
       "\t<li>30.4</li>\n",
       "\t<li>15.8</li>\n",
       "\t<li>19.7</li>\n",
       "\t<li>15</li>\n",
       "\t<li>21.4</li>\n",
       "</ol>\n"
      ],
      "text/latex": [
       "\\begin{enumerate*}\n",
       "\\item 21\n",
       "\\item 21\n",
       "\\item 22.8\n",
       "\\item 21.4\n",
       "\\item 18.7\n",
       "\\item 18.1\n",
       "\\item 14.3\n",
       "\\item 24.4\n",
       "\\item 22.8\n",
       "\\item 19.2\n",
       "\\item 17.8\n",
       "\\item 16.4\n",
       "\\item 17.3\n",
       "\\item 15.2\n",
       "\\item 10.4\n",
       "\\item 10.4\n",
       "\\item 14.7\n",
       "\\item 32.4\n",
       "\\item 30.4\n",
       "\\item 33.9\n",
       "\\item 21.5\n",
       "\\item 15.5\n",
       "\\item 15.2\n",
       "\\item 13.3\n",
       "\\item 19.2\n",
       "\\item 27.3\n",
       "\\item 26\n",
       "\\item 30.4\n",
       "\\item 15.8\n",
       "\\item 19.7\n",
       "\\item 15\n",
       "\\item 21.4\n",
       "\\end{enumerate*}\n"
      ],
      "text/markdown": [
       "1. 21\n",
       "2. 21\n",
       "3. 22.8\n",
       "4. 21.4\n",
       "5. 18.7\n",
       "6. 18.1\n",
       "7. 14.3\n",
       "8. 24.4\n",
       "9. 22.8\n",
       "10. 19.2\n",
       "11. 17.8\n",
       "12. 16.4\n",
       "13. 17.3\n",
       "14. 15.2\n",
       "15. 10.4\n",
       "16. 10.4\n",
       "17. 14.7\n",
       "18. 32.4\n",
       "19. 30.4\n",
       "20. 33.9\n",
       "21. 21.5\n",
       "22. 15.5\n",
       "23. 15.2\n",
       "24. 13.3\n",
       "25. 19.2\n",
       "26. 27.3\n",
       "27. 26\n",
       "28. 30.4\n",
       "29. 15.8\n",
       "30. 19.7\n",
       "31. 15\n",
       "32. 21.4\n",
       "\n",
       "\n"
      ],
      "text/plain": [
       " [1] 21.0 21.0 22.8 21.4 18.7 18.1 14.3 24.4 22.8 19.2 17.8 16.4 17.3 15.2 10.4\n",
       "[16] 10.4 14.7 32.4 30.4 33.9 21.5 15.5 15.2 13.3 19.2 27.3 26.0 30.4 15.8 19.7\n",
       "[31] 15.0 21.4"
      ]
     },
     "metadata": {},
     "output_type": "display_data"
    }
   ],
   "source": [
    "mtcars$mpg"
   ]
  },
  {
   "cell_type": "code",
   "execution_count": null,
   "id": "73cb2734",
   "metadata": {
    "id": "73cb2734",
    "outputId": "0a192965-96dd-410e-9f47-458ee64b599c"
   },
   "outputs": [
    {
     "data": {
      "text/html": [
       "32"
      ],
      "text/latex": [
       "32"
      ],
      "text/markdown": [
       "32"
      ],
      "text/plain": [
       "[1] 32"
      ]
     },
     "metadata": {},
     "output_type": "display_data"
    }
   ],
   "source": [
    "length(mtcars$mpg)"
   ]
  },
  {
   "cell_type": "markdown",
   "id": "20f9fd07",
   "metadata": {
    "id": "20f9fd07"
   },
   "source": [
    "# Exercise\n",
    "Using The Cars dataset\n",
    "\n",
    "What is the highest value of the MPG?"
   ]
  },
  {
   "cell_type": "code",
   "execution_count": null,
   "id": "5831a631",
   "metadata": {
    "id": "5831a631"
   },
   "outputs": [],
   "source": []
  },
  {
   "cell_type": "markdown",
   "id": "08fd559b",
   "metadata": {
    "id": "08fd559b"
   },
   "source": [
    "What are the unique values in cylinder column? (use unique function)"
   ]
  },
  {
   "cell_type": "code",
   "execution_count": null,
   "id": "83066394",
   "metadata": {
    "id": "83066394"
   },
   "outputs": [],
   "source": []
  },
  {
   "cell_type": "markdown",
   "id": "6a85f5e2",
   "metadata": {
    "id": "6a85f5e2"
   },
   "source": [
    "What is the avg hp of the cars?"
   ]
  },
  {
   "cell_type": "code",
   "execution_count": null,
   "id": "fdf304e6",
   "metadata": {
    "id": "fdf304e6"
   },
   "outputs": [],
   "source": []
  },
  {
   "cell_type": "code",
   "execution_count": null,
   "id": "e913f929",
   "metadata": {
    "id": "e913f929",
    "outputId": "4823c706-565b-4462-e952-d0c67693257e"
   },
   "outputs": [
    {
     "data": {
      "text/html": [
       "<ol class=list-inline>\n",
       "\t<li>93</li>\n",
       "\t<li>62</li>\n",
       "\t<li>95</li>\n",
       "\t<li>66</li>\n",
       "\t<li>52</li>\n",
       "\t<li>65</li>\n",
       "\t<li>97</li>\n",
       "\t<li>66</li>\n",
       "\t<li>91</li>\n",
       "\t<li>113</li>\n",
       "\t<li>109</li>\n",
       "</ol>\n"
      ],
      "text/latex": [
       "\\begin{enumerate*}\n",
       "\\item 93\n",
       "\\item 62\n",
       "\\item 95\n",
       "\\item 66\n",
       "\\item 52\n",
       "\\item 65\n",
       "\\item 97\n",
       "\\item 66\n",
       "\\item 91\n",
       "\\item 113\n",
       "\\item 109\n",
       "\\end{enumerate*}\n"
      ],
      "text/markdown": [
       "1. 93\n",
       "2. 62\n",
       "3. 95\n",
       "4. 66\n",
       "5. 52\n",
       "6. 65\n",
       "7. 97\n",
       "8. 66\n",
       "9. 91\n",
       "10. 113\n",
       "11. 109\n",
       "\n",
       "\n"
      ],
      "text/plain": [
       " [1]  93  62  95  66  52  65  97  66  91 113 109"
      ]
     },
     "metadata": {},
     "output_type": "display_data"
    }
   ],
   "source": [
    "# modify this to get the standard deviation of wt of cars with 3 gears\n",
    "mtcars[mtcars$cyl==4,]$hp"
   ]
  },
  {
   "cell_type": "markdown",
   "id": "b14caa70",
   "metadata": {
    "id": "b14caa70"
   },
   "source": [
    "### Factors\n",
    "\n",
    "Factors are used to represent categorical data and can be unordered or ordered. One can think of\n",
    "a factor as an integer vector where each integer has a label."
   ]
  },
  {
   "cell_type": "code",
   "execution_count": null,
   "id": "ae291e96",
   "metadata": {
    "id": "ae291e96",
    "outputId": "c3f05e81-5741-4aad-cbdf-66df8d34b49d"
   },
   "outputs": [
    {
     "data": {
      "text/html": [
       "<ol class=list-inline>\n",
       "\t<li>yes</li>\n",
       "\t<li>yes</li>\n",
       "\t<li>no</li>\n",
       "\t<li>yes</li>\n",
       "\t<li>no</li>\n",
       "</ol>\n",
       "\n",
       "<details>\n",
       "\t<summary style=display:list-item;cursor:pointer>\n",
       "\t\t<strong>Levels</strong>:\n",
       "\t</summary>\n",
       "\t<ol class=list-inline>\n",
       "\t\t<li>'no'</li>\n",
       "\t\t<li>'yes'</li>\n",
       "\t</ol>\n",
       "</details>"
      ],
      "text/latex": [
       "\\begin{enumerate*}\n",
       "\\item yes\n",
       "\\item yes\n",
       "\\item no\n",
       "\\item yes\n",
       "\\item no\n",
       "\\end{enumerate*}\n",
       "\n",
       "\\emph{Levels}: \\begin{enumerate*}\n",
       "\\item 'no'\n",
       "\\item 'yes'\n",
       "\\end{enumerate*}\n"
      ],
      "text/markdown": [
       "1. yes\n",
       "2. yes\n",
       "3. no\n",
       "4. yes\n",
       "5. no\n",
       "\n",
       "\n",
       "\n",
       "**Levels**: 1. 'no'\n",
       "2. 'yes'\n",
       "\n",
       "\n"
      ],
      "text/plain": [
       "[1] yes yes no  yes no \n",
       "Levels: no yes"
      ]
     },
     "metadata": {},
     "output_type": "display_data"
    }
   ],
   "source": [
    "x <- factor(c(\"yes\", \"yes\", \"no\", \"yes\", \"no\"))\n",
    "x"
   ]
  },
  {
   "cell_type": "code",
   "execution_count": null,
   "id": "162185c2",
   "metadata": {
    "id": "162185c2",
    "outputId": "09e90b5b-0e0e-402f-e477-8ed77b6fa41e"
   },
   "outputs": [
    {
     "data": {
      "text/plain": [
       "x\n",
       " no yes \n",
       "  2   3 "
      ]
     },
     "metadata": {},
     "output_type": "display_data"
    }
   ],
   "source": [
    "table(x)"
   ]
  },
  {
   "cell_type": "code",
   "execution_count": null,
   "id": "37b69004",
   "metadata": {
    "id": "37b69004",
    "outputId": "85a16465-3e6a-4ac9-ff95-e7394b738a54"
   },
   "outputs": [
    {
     "data": {
      "text/html": [
       "<ol class=list-inline>\n",
       "\t<li>2</li>\n",
       "\t<li>2</li>\n",
       "\t<li>1</li>\n",
       "\t<li>2</li>\n",
       "\t<li>1</li>\n",
       "</ol>\n"
      ],
      "text/latex": [
       "\\begin{enumerate*}\n",
       "\\item 2\n",
       "\\item 2\n",
       "\\item 1\n",
       "\\item 2\n",
       "\\item 1\n",
       "\\end{enumerate*}\n"
      ],
      "text/markdown": [
       "1. 2\n",
       "2. 2\n",
       "3. 1\n",
       "4. 2\n",
       "5. 1\n",
       "\n",
       "\n"
      ],
      "text/plain": [
       "[1] 2 2 1 2 1\n",
       "attr(,\"levels\")\n",
       "[1] \"no\"  \"yes\""
      ]
     },
     "metadata": {},
     "output_type": "display_data"
    }
   ],
   "source": [
    "unclass(x)"
   ]
  },
  {
   "cell_type": "code",
   "execution_count": null,
   "id": "c97be953",
   "metadata": {
    "id": "c97be953",
    "outputId": "0272f28d-a448-4099-cf2f-183748313b4c"
   },
   "outputs": [
    {
     "data": {
      "text/html": [
       "<ol class=list-inline>\n",
       "\t<li>yes</li>\n",
       "\t<li>yes</li>\n",
       "\t<li>no</li>\n",
       "\t<li>yes</li>\n",
       "\t<li>no</li>\n",
       "</ol>\n",
       "\n",
       "<details>\n",
       "\t<summary style=display:list-item;cursor:pointer>\n",
       "\t\t<strong>Levels</strong>:\n",
       "\t</summary>\n",
       "\t<ol class=list-inline>\n",
       "\t\t<li>'yes'</li>\n",
       "\t\t<li>'no'</li>\n",
       "\t</ol>\n",
       "</details>"
      ],
      "text/latex": [
       "\\begin{enumerate*}\n",
       "\\item yes\n",
       "\\item yes\n",
       "\\item no\n",
       "\\item yes\n",
       "\\item no\n",
       "\\end{enumerate*}\n",
       "\n",
       "\\emph{Levels}: \\begin{enumerate*}\n",
       "\\item 'yes'\n",
       "\\item 'no'\n",
       "\\end{enumerate*}\n"
      ],
      "text/markdown": [
       "1. yes\n",
       "2. yes\n",
       "3. no\n",
       "4. yes\n",
       "5. no\n",
       "\n",
       "\n",
       "\n",
       "**Levels**: 1. 'yes'\n",
       "2. 'no'\n",
       "\n",
       "\n"
      ],
      "text/plain": [
       "[1] yes yes no  yes no \n",
       "Levels: yes no"
      ]
     },
     "metadata": {},
     "output_type": "display_data"
    }
   ],
   "source": [
    "x <- factor(c(\"yes\", \"yes\", \"no\", \"yes\", \"no\"),levels = c(\"yes\", \"no\"))\n",
    "x"
   ]
  },
  {
   "cell_type": "code",
   "execution_count": null,
   "id": "a9a26a54",
   "metadata": {
    "id": "a9a26a54"
   },
   "outputs": [],
   "source": [
    "dayofweek <- factor(c(\"sun\",\"mon\",\"tue\",\"wed\",\"thu\",\"fri\",\"sat\"),levels = c(\"sun\",\"mon\",\"tue\",\"wed\",\"thu\",\"fri\",\"sat\"))"
   ]
  },
  {
   "cell_type": "code",
   "execution_count": null,
   "id": "b2fa1a73",
   "metadata": {
    "id": "b2fa1a73",
    "outputId": "c573c24d-0b6b-4dba-c8de-4a53e74c84e7"
   },
   "outputs": [
    {
     "data": {
      "text/html": [
       "<ol class=list-inline>\n",
       "\t<li>sun</li>\n",
       "\t<li>mon</li>\n",
       "\t<li>tue</li>\n",
       "\t<li>wed</li>\n",
       "\t<li>thu</li>\n",
       "\t<li>fri</li>\n",
       "\t<li>sat</li>\n",
       "</ol>\n",
       "\n",
       "<details>\n",
       "\t<summary style=display:list-item;cursor:pointer>\n",
       "\t\t<strong>Levels</strong>:\n",
       "\t</summary>\n",
       "\t<ol class=list-inline>\n",
       "\t\t<li>'sun'</li>\n",
       "\t\t<li>'mon'</li>\n",
       "\t\t<li>'tue'</li>\n",
       "\t\t<li>'wed'</li>\n",
       "\t\t<li>'thu'</li>\n",
       "\t\t<li>'fri'</li>\n",
       "\t\t<li>'sat'</li>\n",
       "\t</ol>\n",
       "</details>"
      ],
      "text/latex": [
       "\\begin{enumerate*}\n",
       "\\item sun\n",
       "\\item mon\n",
       "\\item tue\n",
       "\\item wed\n",
       "\\item thu\n",
       "\\item fri\n",
       "\\item sat\n",
       "\\end{enumerate*}\n",
       "\n",
       "\\emph{Levels}: \\begin{enumerate*}\n",
       "\\item 'sun'\n",
       "\\item 'mon'\n",
       "\\item 'tue'\n",
       "\\item 'wed'\n",
       "\\item 'thu'\n",
       "\\item 'fri'\n",
       "\\item 'sat'\n",
       "\\end{enumerate*}\n"
      ],
      "text/markdown": [
       "1. sun\n",
       "2. mon\n",
       "3. tue\n",
       "4. wed\n",
       "5. thu\n",
       "6. fri\n",
       "7. sat\n",
       "\n",
       "\n",
       "\n",
       "**Levels**: 1. 'sun'\n",
       "2. 'mon'\n",
       "3. 'tue'\n",
       "4. 'wed'\n",
       "5. 'thu'\n",
       "6. 'fri'\n",
       "7. 'sat'\n",
       "\n",
       "\n"
      ],
      "text/plain": [
       "[1] sun mon tue wed thu fri sat\n",
       "Levels: sun mon tue wed thu fri sat"
      ]
     },
     "metadata": {},
     "output_type": "display_data"
    }
   ],
   "source": [
    "dayofweek"
   ]
  },
  {
   "cell_type": "code",
   "execution_count": null,
   "id": "213ee0bd",
   "metadata": {
    "id": "213ee0bd",
    "outputId": "206a2fd3-2372-4616-c341-b44692211a83"
   },
   "outputs": [
    {
     "data": {
      "text/html": [
       "<ol class=list-inline>\n",
       "\t<li>1</li>\n",
       "\t<li>2</li>\n",
       "\t<li>3</li>\n",
       "\t<li>4</li>\n",
       "\t<li>5</li>\n",
       "\t<li>6</li>\n",
       "\t<li>7</li>\n",
       "</ol>\n"
      ],
      "text/latex": [
       "\\begin{enumerate*}\n",
       "\\item 1\n",
       "\\item 2\n",
       "\\item 3\n",
       "\\item 4\n",
       "\\item 5\n",
       "\\item 6\n",
       "\\item 7\n",
       "\\end{enumerate*}\n"
      ],
      "text/markdown": [
       "1. 1\n",
       "2. 2\n",
       "3. 3\n",
       "4. 4\n",
       "5. 5\n",
       "6. 6\n",
       "7. 7\n",
       "\n",
       "\n"
      ],
      "text/plain": [
       "[1] 1 2 3 4 5 6 7\n",
       "attr(,\"levels\")\n",
       "[1] \"sun\" \"mon\" \"tue\" \"wed\" \"thu\" \"fri\" \"sat\""
      ]
     },
     "metadata": {},
     "output_type": "display_data"
    }
   ],
   "source": [
    "unclass(dayofweek)"
   ]
  },
  {
   "cell_type": "markdown",
   "id": "eb737a3e",
   "metadata": {
    "id": "eb737a3e"
   },
   "source": [
    "### Missing values"
   ]
  },
  {
   "cell_type": "raw",
   "id": "1964397a",
   "metadata": {
    "id": "1964397a"
   },
   "source": [
    "is.na() is used to test objects if they are NA\n",
    "is.nan() is used to test for NaN\n",
    "\n",
    "A NAN value in R represents “NOT A NUMBER”, It is basically any numeric calculations with an undefined result, such as ‘0/0’.This exists only in vectors with numeric datatype.\n",
    "\n",
    "A NA value in R represents \"NOT AVAILABLE\". This can exist in any sort of numeric or character vectors. It is generally interpreted as missing values."
   ]
  },
  {
   "cell_type": "code",
   "execution_count": null,
   "id": "d627af4a",
   "metadata": {
    "id": "d627af4a"
   },
   "outputs": [],
   "source": [
    "## Create a vector with NAs in it\n",
    "x <- c(1, 2, NA, 10, 3)"
   ]
  },
  {
   "cell_type": "code",
   "execution_count": null,
   "id": "e2e05c3d",
   "metadata": {
    "id": "e2e05c3d",
    "outputId": "efcf8c33-721f-40c5-9535-cb0495a59013"
   },
   "outputs": [
    {
     "data": {
      "text/html": [
       "<ol class=list-inline>\n",
       "\t<li>FALSE</li>\n",
       "\t<li>FALSE</li>\n",
       "\t<li>TRUE</li>\n",
       "\t<li>FALSE</li>\n",
       "\t<li>FALSE</li>\n",
       "</ol>\n"
      ],
      "text/latex": [
       "\\begin{enumerate*}\n",
       "\\item FALSE\n",
       "\\item FALSE\n",
       "\\item TRUE\n",
       "\\item FALSE\n",
       "\\item FALSE\n",
       "\\end{enumerate*}\n"
      ],
      "text/markdown": [
       "1. FALSE\n",
       "2. FALSE\n",
       "3. TRUE\n",
       "4. FALSE\n",
       "5. FALSE\n",
       "\n",
       "\n"
      ],
      "text/plain": [
       "[1] FALSE FALSE  TRUE FALSE FALSE"
      ]
     },
     "metadata": {},
     "output_type": "display_data"
    }
   ],
   "source": [
    "## Return a logical vector indicating which elements are NA\n",
    "is.na(x)"
   ]
  },
  {
   "cell_type": "code",
   "execution_count": null,
   "id": "47fe08dd",
   "metadata": {
    "id": "47fe08dd",
    "outputId": "b2fef452-c093-4d4a-e0ff-1d466134bd10"
   },
   "outputs": [
    {
     "data": {
      "text/html": [
       "<ol class=list-inline>\n",
       "\t<li>FALSE</li>\n",
       "\t<li>FALSE</li>\n",
       "\t<li>FALSE</li>\n",
       "\t<li>FALSE</li>\n",
       "\t<li>FALSE</li>\n",
       "</ol>\n"
      ],
      "text/latex": [
       "\\begin{enumerate*}\n",
       "\\item FALSE\n",
       "\\item FALSE\n",
       "\\item FALSE\n",
       "\\item FALSE\n",
       "\\item FALSE\n",
       "\\end{enumerate*}\n"
      ],
      "text/markdown": [
       "1. FALSE\n",
       "2. FALSE\n",
       "3. FALSE\n",
       "4. FALSE\n",
       "5. FALSE\n",
       "\n",
       "\n"
      ],
      "text/plain": [
       "[1] FALSE FALSE FALSE FALSE FALSE"
      ]
     },
     "metadata": {},
     "output_type": "display_data"
    }
   ],
   "source": [
    "## Return a logical vector indicating which elements are NaN\n",
    "is.nan(x)"
   ]
  },
  {
   "cell_type": "code",
   "execution_count": null,
   "id": "a59ac974",
   "metadata": {
    "id": "a59ac974",
    "outputId": "7950a690-9bd6-43c9-944f-18a087bc8782"
   },
   "outputs": [
    {
     "data": {
      "text/html": [
       "<ol class=list-inline>\n",
       "\t<li>FALSE</li>\n",
       "\t<li>FALSE</li>\n",
       "\t<li>TRUE</li>\n",
       "\t<li>TRUE</li>\n",
       "\t<li>FALSE</li>\n",
       "</ol>\n"
      ],
      "text/latex": [
       "\\begin{enumerate*}\n",
       "\\item FALSE\n",
       "\\item FALSE\n",
       "\\item TRUE\n",
       "\\item TRUE\n",
       "\\item FALSE\n",
       "\\end{enumerate*}\n"
      ],
      "text/markdown": [
       "1. FALSE\n",
       "2. FALSE\n",
       "3. TRUE\n",
       "4. TRUE\n",
       "5. FALSE\n",
       "\n",
       "\n"
      ],
      "text/plain": [
       "[1] FALSE FALSE  TRUE  TRUE FALSE"
      ]
     },
     "metadata": {},
     "output_type": "display_data"
    }
   ],
   "source": [
    "## Now create a vector with both NA and NaN values\n",
    "x <- c(1, 2, NaN, NA, 4)\n",
    "is.na(x)"
   ]
  },
  {
   "cell_type": "code",
   "execution_count": null,
   "id": "cd14e584",
   "metadata": {
    "id": "cd14e584",
    "outputId": "9ae14ca0-1533-4706-9fa2-2e75369dc375"
   },
   "outputs": [
    {
     "data": {
      "text/html": [
       "TRUE"
      ],
      "text/latex": [
       "TRUE"
      ],
      "text/markdown": [
       "TRUE"
      ],
      "text/plain": [
       "[1] TRUE"
      ]
     },
     "metadata": {},
     "output_type": "display_data"
    }
   ],
   "source": [
    "any(is.nan(x))"
   ]
  },
  {
   "cell_type": "code",
   "execution_count": null,
   "id": "9f58a12d",
   "metadata": {
    "id": "9f58a12d",
    "outputId": "435d79d3-0038-4830-d963-6914d166cd7a"
   },
   "outputs": [
    {
     "data": {
      "text/html": [
       "TRUE"
      ],
      "text/latex": [
       "TRUE"
      ],
      "text/markdown": [
       "TRUE"
      ],
      "text/plain": [
       "[1] TRUE"
      ]
     },
     "metadata": {},
     "output_type": "display_data"
    }
   ],
   "source": [
    "any(is.na(x))"
   ]
  },
  {
   "cell_type": "code",
   "execution_count": null,
   "id": "701815d4",
   "metadata": {
    "id": "701815d4",
    "outputId": "0c7f0389-17d4-4845-8dcc-11254b2f630f"
   },
   "outputs": [
    {
     "data": {
      "text/html": [
       "<ol class=list-inline>\n",
       "\t<li>FALSE</li>\n",
       "\t<li>FALSE</li>\n",
       "\t<li>TRUE</li>\n",
       "\t<li>FALSE</li>\n",
       "\t<li>FALSE</li>\n",
       "</ol>\n"
      ],
      "text/latex": [
       "\\begin{enumerate*}\n",
       "\\item FALSE\n",
       "\\item FALSE\n",
       "\\item TRUE\n",
       "\\item FALSE\n",
       "\\item FALSE\n",
       "\\end{enumerate*}\n"
      ],
      "text/markdown": [
       "1. FALSE\n",
       "2. FALSE\n",
       "3. TRUE\n",
       "4. FALSE\n",
       "5. FALSE\n",
       "\n",
       "\n"
      ],
      "text/plain": [
       "[1] FALSE FALSE  TRUE FALSE FALSE"
      ]
     },
     "metadata": {},
     "output_type": "display_data"
    }
   ],
   "source": [
    "is.nan(x)"
   ]
  },
  {
   "cell_type": "code",
   "execution_count": null,
   "id": "26395e36",
   "metadata": {
    "id": "26395e36",
    "outputId": "fb50024c-2de5-4741-9b71-f984b51cfb45"
   },
   "outputs": [
    {
     "data": {
      "text/html": [
       "<ol class=list-inline>\n",
       "\t<li>1</li>\n",
       "\t<li>2</li>\n",
       "\t<li>&lt;NA&gt;</li>\n",
       "\t<li>10</li>\n",
       "\t<li>3</li>\n",
       "</ol>\n"
      ],
      "text/latex": [
       "\\begin{enumerate*}\n",
       "\\item 1\n",
       "\\item 2\n",
       "\\item <NA>\n",
       "\\item 10\n",
       "\\item 3\n",
       "\\end{enumerate*}\n"
      ],
      "text/markdown": [
       "1. 1\n",
       "2. 2\n",
       "3. &lt;NA&gt;\n",
       "4. 10\n",
       "5. 3\n",
       "\n",
       "\n"
      ],
      "text/plain": [
       "[1]  1  2 NA 10  3"
      ]
     },
     "metadata": {},
     "output_type": "display_data"
    }
   ],
   "source": [
    "x <- c(1, 2, NA, 10, 3)\n",
    "x"
   ]
  },
  {
   "cell_type": "markdown",
   "id": "b2631b5b",
   "metadata": {
    "id": "b2631b5b"
   },
   "source": [
    "### conditional execution"
   ]
  },
  {
   "cell_type": "raw",
   "id": "abb47df1",
   "metadata": {
    "id": "abb47df1"
   },
   "source": [
    "if(<condition1>) {\n",
    "## do something\n",
    "} else if(<condition2>) {\n",
    "## do something different\n",
    "} else {\n",
    "## do something different\n",
    "}"
   ]
  },
  {
   "cell_type": "code",
   "execution_count": null,
   "id": "94d9242e",
   "metadata": {
    "id": "94d9242e"
   },
   "outputs": [],
   "source": [
    "for(i in 1:10) {\n",
    "   print(i*i)\n",
    "}"
   ]
  },
  {
   "cell_type": "code",
   "execution_count": null,
   "id": "46e5db42",
   "metadata": {
    "id": "46e5db42"
   },
   "outputs": [],
   "source": [
    "i=1\n",
    "while(i<=10) {\n",
    "   print(i*i)\n",
    "   i=i+sqrt(i)\n",
    "}"
   ]
  },
  {
   "cell_type": "code",
   "execution_count": null,
   "id": "082798a0",
   "metadata": {
    "id": "082798a0"
   },
   "outputs": [],
   "source": [
    "# next and break can be used to skip a portion of a loop or exit from the loop"
   ]
  },
  {
   "cell_type": "code",
   "execution_count": null,
   "id": "30f1eedd",
   "metadata": {
    "id": "30f1eedd"
   },
   "outputs": [],
   "source": [
    "# Exercise\n",
    "# print the list of numbers between 1 to 100 that are divisible by 3 using if and for loop"
   ]
  },
  {
   "cell_type": "code",
   "execution_count": null,
   "id": "169de791",
   "metadata": {
    "id": "169de791"
   },
   "outputs": [],
   "source": [
    "# Exercise\n",
    "# Write a R program to find the factors of a given number"
   ]
  },
  {
   "cell_type": "code",
   "execution_count": null,
   "id": "66eb1b25",
   "metadata": {
    "id": "66eb1b25"
   },
   "outputs": [],
   "source": [
    "# Exercise\n",
    "# Calculate factorial of a given number"
   ]
  },
  {
   "cell_type": "code",
   "execution_count": null,
   "id": "1837e98e",
   "metadata": {
    "id": "1837e98e"
   },
   "outputs": [],
   "source": [
    "# Exercise\n",
    "# Create a character vector and parse it to see if a given string is present in the vector or not"
   ]
  },
  {
   "cell_type": "markdown",
   "id": "e50d9133",
   "metadata": {
    "id": "e50d9133"
   },
   "source": [
    "### random numbers"
   ]
  },
  {
   "cell_type": "code",
   "execution_count": null,
   "id": "44958b50",
   "metadata": {
    "id": "44958b50"
   },
   "outputs": [],
   "source": [
    "# set seed\n",
    "set.seed(1)"
   ]
  },
  {
   "cell_type": "code",
   "execution_count": null,
   "id": "be8ea19b",
   "metadata": {
    "id": "be8ea19b",
    "outputId": "002eea95-9043-471e-9743-73014d735249"
   },
   "outputs": [
    {
     "data": {
      "text/html": [
       "<ol class=list-inline>\n",
       "\t<li>-0.626453810742332</li>\n",
       "\t<li>0.183643324222082</li>\n",
       "\t<li>-0.835628612410047</li>\n",
       "</ol>\n"
      ],
      "text/latex": [
       "\\begin{enumerate*}\n",
       "\\item -0.626453810742332\n",
       "\\item 0.183643324222082\n",
       "\\item -0.835628612410047\n",
       "\\end{enumerate*}\n"
      ],
      "text/markdown": [
       "1. -0.626453810742332\n",
       "2. 0.183643324222082\n",
       "3. -0.835628612410047\n",
       "\n",
       "\n"
      ],
      "text/plain": [
       "[1] -0.6264538  0.1836433 -0.8356286"
      ]
     },
     "metadata": {},
     "output_type": "display_data"
    }
   ],
   "source": [
    "# from normal distribution\n",
    "rnorm(3)"
   ]
  },
  {
   "cell_type": "code",
   "execution_count": null,
   "id": "d30b0ac7",
   "metadata": {
    "id": "d30b0ac7",
    "outputId": "0192e08a-9a48-4253-bca1-123e2a7c1e1d"
   },
   "outputs": [
    {
     "data": {
      "text/html": [
       "<ol class=list-inline>\n",
       "\t<li>0.944675268605351</li>\n",
       "\t<li>0.660797792486846</li>\n",
       "\t<li>0.62911404389888</li>\n",
       "\t<li>0.0617862704675645</li>\n",
       "\t<li>0.205974574899301</li>\n",
       "</ol>\n"
      ],
      "text/latex": [
       "\\begin{enumerate*}\n",
       "\\item 0.944675268605351\n",
       "\\item 0.660797792486846\n",
       "\\item 0.62911404389888\n",
       "\\item 0.0617862704675645\n",
       "\\item 0.205974574899301\n",
       "\\end{enumerate*}\n"
      ],
      "text/markdown": [
       "1. 0.944675268605351\n",
       "2. 0.660797792486846\n",
       "3. 0.62911404389888\n",
       "4. 0.0617862704675645\n",
       "5. 0.205974574899301\n",
       "\n",
       "\n"
      ],
      "text/plain": [
       "[1] 0.94467527 0.66079779 0.62911404 0.06178627 0.20597457"
      ]
     },
     "metadata": {},
     "output_type": "display_data"
    }
   ],
   "source": [
    "# from uniform distribution\n",
    "runif(5)"
   ]
  },
  {
   "cell_type": "code",
   "execution_count": null,
   "id": "8a7fce48",
   "metadata": {
    "id": "8a7fce48",
    "outputId": "c952db29-1907-4315-92c3-a2c224b4a32e"
   },
   "outputs": [
    {
     "data": {
      "text/html": [
       "<ol class=list-inline>\n",
       "\t<li>50</li>\n",
       "\t<li>96</li>\n",
       "\t<li>84</li>\n",
       "\t<li>20</li>\n",
       "\t<li>53</li>\n",
       "</ol>\n"
      ],
      "text/latex": [
       "\\begin{enumerate*}\n",
       "\\item 50\n",
       "\\item 96\n",
       "\\item 84\n",
       "\\item 20\n",
       "\\item 53\n",
       "\\end{enumerate*}\n"
      ],
      "text/markdown": [
       "1. 50\n",
       "2. 96\n",
       "3. 84\n",
       "4. 20\n",
       "5. 53\n",
       "\n",
       "\n"
      ],
      "text/plain": [
       "[1] 50 96 84 20 53"
      ]
     },
     "metadata": {},
     "output_type": "display_data"
    }
   ],
   "source": [
    "# integers from a range\n",
    "sample(0:100, 5)"
   ]
  },
  {
   "cell_type": "code",
   "execution_count": null,
   "id": "f957fe5a",
   "metadata": {
    "id": "f957fe5a",
    "outputId": "ef650cda-3a13-41ae-e066-beb2c92ac6a0"
   },
   "outputs": [
    {
     "data": {
      "text/html": [
       "<ol class=list-inline>\n",
       "\t<li>36</li>\n",
       "\t<li>88</li>\n",
       "\t<li>100</li>\n",
       "\t<li>36</li>\n",
       "\t<li>33</li>\n",
       "\t<li>88</li>\n",
       "\t<li>43</li>\n",
       "\t<li>78</li>\n",
       "\t<li>32</li>\n",
       "\t<li>83</li>\n",
       "\t<li>34</li>\n",
       "\t<li>69</li>\n",
       "\t<li>73</li>\n",
       "\t<li>41</li>\n",
       "\t<li>37</li>\n",
       "</ol>\n"
      ],
      "text/latex": [
       "\\begin{enumerate*}\n",
       "\\item 36\n",
       "\\item 88\n",
       "\\item 100\n",
       "\\item 36\n",
       "\\item 33\n",
       "\\item 88\n",
       "\\item 43\n",
       "\\item 78\n",
       "\\item 32\n",
       "\\item 83\n",
       "\\item 34\n",
       "\\item 69\n",
       "\\item 73\n",
       "\\item 41\n",
       "\\item 37\n",
       "\\end{enumerate*}\n"
      ],
      "text/markdown": [
       "1. 36\n",
       "2. 88\n",
       "3. 100\n",
       "4. 36\n",
       "5. 33\n",
       "6. 88\n",
       "7. 43\n",
       "8. 78\n",
       "9. 32\n",
       "10. 83\n",
       "11. 34\n",
       "12. 69\n",
       "13. 73\n",
       "14. 41\n",
       "15. 37\n",
       "\n",
       "\n"
      ],
      "text/plain": [
       " [1]  36  88 100  36  33  88  43  78  32  83  34  69  73  41  37"
      ]
     },
     "metadata": {},
     "output_type": "display_data"
    }
   ],
   "source": [
    "sample(0:100,15,replace=TRUE)"
   ]
  },
  {
   "cell_type": "markdown",
   "id": "20172125",
   "metadata": {
    "id": "20172125"
   },
   "source": [
    "### install packages and invoke"
   ]
  },
  {
   "cell_type": "raw",
   "id": "32485fd7",
   "metadata": {
    "id": "32485fd7"
   },
   "source": [
    "this is a two step process as in Python - pip install and import\n",
    "\n",
    "install.packages(“PkgName\") # Can use Rstudio Packages Menu also\n",
    "library(PkgName)\n",
    "\n",
    "For example we wish to use dplyr package:\n",
    "install.packages(\"dplyr\")\n",
    "library(dplyr"
   ]
  }
 ],
 "metadata": {
  "colab": {
   "provenance": []
  },
  "kernelspec": {
   "display_name": "Python 3 (ipykernel)",
   "language": "python",
   "name": "python3"
  },
  "language_info": {
   "codemirror_mode": {
    "name": "ipython",
    "version": 3
   },
   "file_extension": ".py",
   "mimetype": "text/x-python",
   "name": "python",
   "nbconvert_exporter": "python",
   "pygments_lexer": "ipython3",
   "version": "3.9.13"
  }
 },
 "nbformat": 4,
 "nbformat_minor": 5
}
