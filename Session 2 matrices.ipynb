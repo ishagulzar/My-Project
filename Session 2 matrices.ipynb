{
 "cells": [
  {
   "cell_type": "raw",
   "id": "6a141c10",
   "metadata": {},
   "source": [
    "In this module, we will focus on data structures that contain rows and columns, particularly the matrix and the data frame. We will discuss the similarities and differences between the two. We will talk about how to perform matrix operations and how to extract information from a matrix or a data frame. As you progress through the course you will see how to the understandings of these two very important data structure can help you to search through the data."
   ]
  },
  {
   "cell_type": "raw",
   "id": "6a4f059c",
   "metadata": {},
   "source": [
    "matrix operations\n",
    "\n",
    "create, subset, addition, subtraction, determinant, inverse"
   ]
  },
  {
   "cell_type": "code",
   "execution_count": 1,
   "id": "0ff5139e",
   "metadata": {},
   "outputs": [],
   "source": [
    "# create matrix"
   ]
  },
  {
   "cell_type": "code",
   "execution_count": 2,
   "id": "7832b2b4",
   "metadata": {},
   "outputs": [
    {
     "data": {
      "text/html": [
       "<table>\n",
       "<tbody>\n",
       "\t<tr><th scope=row>x1</th><td> 1</td><td>2 </td><td>3 </td></tr>\n",
       "\t<tr><th scope=row>x2</th><td> 5</td><td>3 </td><td>0 </td></tr>\n",
       "\t<tr><th scope=row>x3</th><td>-1</td><td>7 </td><td>3 </td></tr>\n",
       "</tbody>\n",
       "</table>\n"
      ],
      "text/latex": [
       "\\begin{tabular}{r|lll}\n",
       "\tx1 &  1 & 2  & 3 \\\\\n",
       "\tx2 &  5 & 3  & 0 \\\\\n",
       "\tx3 & -1 & 7  & 3 \\\\\n",
       "\\end{tabular}\n"
      ],
      "text/markdown": [
       "\n",
       "| x1 |  1 | 2  | 3  |\n",
       "| x2 |  5 | 3  | 0  |\n",
       "| x3 | -1 | 7  | 3  |\n",
       "\n"
      ],
      "text/plain": [
       "   [,1] [,2] [,3]\n",
       "x1  1   2    3   \n",
       "x2  5   3    0   \n",
       "x3 -1   7    3   "
      ]
     },
     "metadata": {},
     "output_type": "display_data"
    }
   ],
   "source": [
    "x1 <- c(1,2,3)\n",
    "x2 <- c(5,3,0)\n",
    "x3 <- c(-1,7,3)\n",
    "rbind(x1,x2,x3)"
   ]
  },
  {
   "cell_type": "code",
   "execution_count": 3,
   "id": "c1ff6398",
   "metadata": {},
   "outputs": [
    {
     "data": {
      "text/html": [
       "<table>\n",
       "<tbody>\n",
       "\t<tr><td>1</td><td>2</td><td>3</td></tr>\n",
       "\t<tr><td>4</td><td>5</td><td>6</td></tr>\n",
       "\t<tr><td>7</td><td>8</td><td>9</td></tr>\n",
       "</tbody>\n",
       "</table>\n"
      ],
      "text/latex": [
       "\\begin{tabular}{lll}\n",
       "\t 1 & 2 & 3\\\\\n",
       "\t 4 & 5 & 6\\\\\n",
       "\t 7 & 8 & 9\\\\\n",
       "\\end{tabular}\n"
      ],
      "text/markdown": [
       "\n",
       "| 1 | 2 | 3 |\n",
       "| 4 | 5 | 6 |\n",
       "| 7 | 8 | 9 |\n",
       "\n"
      ],
      "text/plain": [
       "     [,1] [,2] [,3]\n",
       "[1,] 1    2    3   \n",
       "[2,] 4    5    6   \n",
       "[3,] 7    8    9   "
      ]
     },
     "metadata": {},
     "output_type": "display_data"
    }
   ],
   "source": [
    "# rowsum\n",
    "\n",
    "mat <- matrix(1:9, nrow=3, byrow=T)\n",
    "mat"
   ]
  },
  {
   "cell_type": "code",
   "execution_count": 4,
   "id": "b529b8aa",
   "metadata": {},
   "outputs": [
    {
     "data": {
      "text/html": [
       "<ol class=list-inline>\n",
       "\t<li>6</li>\n",
       "\t<li>15</li>\n",
       "\t<li>24</li>\n",
       "</ol>\n"
      ],
      "text/latex": [
       "\\begin{enumerate*}\n",
       "\\item 6\n",
       "\\item 15\n",
       "\\item 24\n",
       "\\end{enumerate*}\n"
      ],
      "text/markdown": [
       "1. 6\n",
       "2. 15\n",
       "3. 24\n",
       "\n",
       "\n"
      ],
      "text/plain": [
       "[1]  6 15 24"
      ]
     },
     "metadata": {},
     "output_type": "display_data"
    }
   ],
   "source": [
    "rowSums(mat)"
   ]
  },
  {
   "cell_type": "code",
   "execution_count": 5,
   "id": "9616fea9",
   "metadata": {},
   "outputs": [
    {
     "data": {
      "text/html": [
       "<ol class=list-inline>\n",
       "\t<li>12</li>\n",
       "\t<li>15</li>\n",
       "\t<li>18</li>\n",
       "</ol>\n"
      ],
      "text/latex": [
       "\\begin{enumerate*}\n",
       "\\item 12\n",
       "\\item 15\n",
       "\\item 18\n",
       "\\end{enumerate*}\n"
      ],
      "text/markdown": [
       "1. 12\n",
       "2. 15\n",
       "3. 18\n",
       "\n",
       "\n"
      ],
      "text/plain": [
       "[1] 12 15 18"
      ]
     },
     "metadata": {},
     "output_type": "display_data"
    }
   ],
   "source": [
    "colSums(mat)"
   ]
  },
  {
   "cell_type": "code",
   "execution_count": 6,
   "id": "a0eeee45",
   "metadata": {},
   "outputs": [
    {
     "data": {
      "text/html": [
       "<ol class=list-inline>\n",
       "\t<li>2</li>\n",
       "\t<li>5</li>\n",
       "\t<li>8</li>\n",
       "</ol>\n"
      ],
      "text/latex": [
       "\\begin{enumerate*}\n",
       "\\item 2\n",
       "\\item 5\n",
       "\\item 8\n",
       "\\end{enumerate*}\n"
      ],
      "text/markdown": [
       "1. 2\n",
       "2. 5\n",
       "3. 8\n",
       "\n",
       "\n"
      ],
      "text/plain": [
       "[1] 2 5 8"
      ]
     },
     "metadata": {},
     "output_type": "display_data"
    }
   ],
   "source": [
    "# rowmeans, col means\n",
    "rowMeans(mat)"
   ]
  },
  {
   "cell_type": "code",
   "execution_count": 7,
   "id": "bd476118",
   "metadata": {},
   "outputs": [
    {
     "data": {
      "text/html": [
       "<ol class=list-inline>\n",
       "\t<li>4</li>\n",
       "\t<li>5</li>\n",
       "\t<li>6</li>\n",
       "</ol>\n"
      ],
      "text/latex": [
       "\\begin{enumerate*}\n",
       "\\item 4\n",
       "\\item 5\n",
       "\\item 6\n",
       "\\end{enumerate*}\n"
      ],
      "text/markdown": [
       "1. 4\n",
       "2. 5\n",
       "3. 6\n",
       "\n",
       "\n"
      ],
      "text/plain": [
       "[1] 4 5 6"
      ]
     },
     "metadata": {},
     "output_type": "display_data"
    }
   ],
   "source": [
    "colMeans(mat)"
   ]
  },
  {
   "cell_type": "code",
   "execution_count": 8,
   "id": "1edf63c8",
   "metadata": {},
   "outputs": [
    {
     "data": {
      "text/html": [
       "<table>\n",
       "<thead><tr><th></th><th scope=col>D</th><th scope=col>E</th><th scope=col>F</th></tr></thead>\n",
       "<tbody>\n",
       "\t<tr><th scope=row>A</th><td>1</td><td>2</td><td>3</td></tr>\n",
       "\t<tr><th scope=row>B</th><td>4</td><td>5</td><td>6</td></tr>\n",
       "\t<tr><th scope=row>C</th><td>7</td><td>8</td><td>9</td></tr>\n",
       "</tbody>\n",
       "</table>\n"
      ],
      "text/latex": [
       "\\begin{tabular}{r|lll}\n",
       "  & D & E & F\\\\\n",
       "\\hline\n",
       "\tA & 1 & 2 & 3\\\\\n",
       "\tB & 4 & 5 & 6\\\\\n",
       "\tC & 7 & 8 & 9\\\\\n",
       "\\end{tabular}\n"
      ],
      "text/markdown": [
       "\n",
       "| <!--/--> | D | E | F |\n",
       "|---|---|---|---|\n",
       "| A | 1 | 2 | 3 |\n",
       "| B | 4 | 5 | 6 |\n",
       "| C | 7 | 8 | 9 |\n",
       "\n"
      ],
      "text/plain": [
       "  D E F\n",
       "A 1 2 3\n",
       "B 4 5 6\n",
       "C 7 8 9"
      ]
     },
     "metadata": {},
     "output_type": "display_data"
    }
   ],
   "source": [
    "# giving names to a matrix after creating\n",
    "\n",
    "rownames(mat)<-c(\"A\",\"B\",\"C\")\n",
    "colnames(mat)<-c(\"D\",\"E\",\"F\")\n",
    "mat"
   ]
  },
  {
   "cell_type": "code",
   "execution_count": 9,
   "id": "558c83c4",
   "metadata": {},
   "outputs": [
    {
     "data": {
      "text/html": [
       "<table>\n",
       "<tbody>\n",
       "\t<tr><td>10</td><td> 8</td></tr>\n",
       "\t<tr><td> 5</td><td>12</td></tr>\n",
       "</tbody>\n",
       "</table>\n"
      ],
      "text/latex": [
       "\\begin{tabular}{ll}\n",
       "\t 10 &  8\\\\\n",
       "\t  5 & 12\\\\\n",
       "\\end{tabular}\n"
      ],
      "text/markdown": [
       "\n",
       "| 10 |  8 |\n",
       "|  5 | 12 |\n",
       "\n"
      ],
      "text/plain": [
       "     [,1] [,2]\n",
       "[1,] 10    8  \n",
       "[2,]  5   12  "
      ]
     },
     "metadata": {},
     "output_type": "display_data"
    }
   ],
   "source": [
    "# addition, subtraction\n",
    "A <- matrix(c(10, 8,5, 12), ncol = 2, byrow = TRUE)\n",
    "A"
   ]
  },
  {
   "cell_type": "code",
   "execution_count": 10,
   "id": "cd515f4f",
   "metadata": {},
   "outputs": [
    {
     "data": {
      "text/html": [
       "<table>\n",
       "<tbody>\n",
       "\t<tr><td> 5</td><td>3 </td></tr>\n",
       "\t<tr><td>15</td><td>6 </td></tr>\n",
       "</tbody>\n",
       "</table>\n"
      ],
      "text/latex": [
       "\\begin{tabular}{ll}\n",
       "\t  5 & 3 \\\\\n",
       "\t 15 & 6 \\\\\n",
       "\\end{tabular}\n"
      ],
      "text/markdown": [
       "\n",
       "|  5 | 3  |\n",
       "| 15 | 6  |\n",
       "\n"
      ],
      "text/plain": [
       "     [,1] [,2]\n",
       "[1,]  5   3   \n",
       "[2,] 15   6   "
      ]
     },
     "metadata": {},
     "output_type": "display_data"
    }
   ],
   "source": [
    "B <- matrix(c(5, 3,15, 6), ncol = 2, byrow = TRUE)\n",
    "B"
   ]
  },
  {
   "cell_type": "code",
   "execution_count": 11,
   "id": "0fdcc0a6",
   "metadata": {},
   "outputs": [
    {
     "data": {
      "text/html": [
       "<table>\n",
       "<tbody>\n",
       "\t<tr><td>15</td><td>11</td></tr>\n",
       "\t<tr><td>20</td><td>18</td></tr>\n",
       "</tbody>\n",
       "</table>\n"
      ],
      "text/latex": [
       "\\begin{tabular}{ll}\n",
       "\t 15 & 11\\\\\n",
       "\t 20 & 18\\\\\n",
       "\\end{tabular}\n"
      ],
      "text/markdown": [
       "\n",
       "| 15 | 11 |\n",
       "| 20 | 18 |\n",
       "\n"
      ],
      "text/plain": [
       "     [,1] [,2]\n",
       "[1,] 15   11  \n",
       "[2,] 20   18  "
      ]
     },
     "metadata": {},
     "output_type": "display_data"
    }
   ],
   "source": [
    "A + B"
   ]
  },
  {
   "cell_type": "code",
   "execution_count": 12,
   "id": "f611213d",
   "metadata": {},
   "outputs": [
    {
     "data": {
      "text/html": [
       "<table>\n",
       "<tbody>\n",
       "\t<tr><td>  5</td><td>5  </td></tr>\n",
       "\t<tr><td>-10</td><td>6  </td></tr>\n",
       "</tbody>\n",
       "</table>\n"
      ],
      "text/latex": [
       "\\begin{tabular}{ll}\n",
       "\t   5 & 5  \\\\\n",
       "\t -10 & 6  \\\\\n",
       "\\end{tabular}\n"
      ],
      "text/markdown": [
       "\n",
       "|   5 | 5   |\n",
       "| -10 | 6   |\n",
       "\n"
      ],
      "text/plain": [
       "     [,1] [,2]\n",
       "[1,]   5  5   \n",
       "[2,] -10  6   "
      ]
     },
     "metadata": {},
     "output_type": "display_data"
    }
   ],
   "source": [
    "A - B"
   ]
  },
  {
   "cell_type": "code",
   "execution_count": 13,
   "id": "47b39211",
   "metadata": {},
   "outputs": [],
   "source": [
    "# transpose"
   ]
  },
  {
   "cell_type": "code",
   "execution_count": 14,
   "id": "3318b9d0",
   "metadata": {},
   "outputs": [
    {
     "data": {
      "text/html": [
       "<table>\n",
       "<tbody>\n",
       "\t<tr><td>10</td><td> 5</td></tr>\n",
       "\t<tr><td> 8</td><td>12</td></tr>\n",
       "</tbody>\n",
       "</table>\n"
      ],
      "text/latex": [
       "\\begin{tabular}{ll}\n",
       "\t 10 &  5\\\\\n",
       "\t  8 & 12\\\\\n",
       "\\end{tabular}\n"
      ],
      "text/markdown": [
       "\n",
       "| 10 |  5 |\n",
       "|  8 | 12 |\n",
       "\n"
      ],
      "text/plain": [
       "     [,1] [,2]\n",
       "[1,] 10    5  \n",
       "[2,]  8   12  "
      ]
     },
     "metadata": {},
     "output_type": "display_data"
    }
   ],
   "source": [
    "t(A)"
   ]
  },
  {
   "cell_type": "code",
   "execution_count": 15,
   "id": "3025c0f1",
   "metadata": {},
   "outputs": [],
   "source": [
    "# scalar multiplication"
   ]
  },
  {
   "cell_type": "code",
   "execution_count": 16,
   "id": "a8bb8b68",
   "metadata": {},
   "outputs": [
    {
     "data": {
      "text/html": [
       "<table>\n",
       "<tbody>\n",
       "\t<tr><td>20</td><td>16</td></tr>\n",
       "\t<tr><td>10</td><td>24</td></tr>\n",
       "</tbody>\n",
       "</table>\n"
      ],
      "text/latex": [
       "\\begin{tabular}{ll}\n",
       "\t 20 & 16\\\\\n",
       "\t 10 & 24\\\\\n",
       "\\end{tabular}\n"
      ],
      "text/markdown": [
       "\n",
       "| 20 | 16 |\n",
       "| 10 | 24 |\n",
       "\n"
      ],
      "text/plain": [
       "     [,1] [,2]\n",
       "[1,] 20   16  \n",
       "[2,] 10   24  "
      ]
     },
     "metadata": {},
     "output_type": "display_data"
    }
   ],
   "source": [
    "2 * A"
   ]
  },
  {
   "cell_type": "code",
   "execution_count": 17,
   "id": "7ce3f6d0",
   "metadata": {},
   "outputs": [],
   "source": [
    "# elementwise multiplication (note: this is not matrix multiplication)"
   ]
  },
  {
   "cell_type": "code",
   "execution_count": 18,
   "id": "e492f634",
   "metadata": {},
   "outputs": [
    {
     "data": {
      "text/html": [
       "<table>\n",
       "<tbody>\n",
       "\t<tr><td>50</td><td>24</td></tr>\n",
       "\t<tr><td>75</td><td>72</td></tr>\n",
       "</tbody>\n",
       "</table>\n"
      ],
      "text/latex": [
       "\\begin{tabular}{ll}\n",
       "\t 50 & 24\\\\\n",
       "\t 75 & 72\\\\\n",
       "\\end{tabular}\n"
      ],
      "text/markdown": [
       "\n",
       "| 50 | 24 |\n",
       "| 75 | 72 |\n",
       "\n"
      ],
      "text/plain": [
       "     [,1] [,2]\n",
       "[1,] 50   24  \n",
       "[2,] 75   72  "
      ]
     },
     "metadata": {},
     "output_type": "display_data"
    }
   ],
   "source": [
    "A * B"
   ]
  },
  {
   "cell_type": "code",
   "execution_count": 19,
   "id": "b1bf95de",
   "metadata": {},
   "outputs": [
    {
     "name": "stdout",
     "output_type": "stream",
     "text": [
      "     [,1] [,2]\n",
      "[1,]   10    8\n",
      "[2,]    5   12\n",
      "     [,1] [,2]\n",
      "[1,]    5    3\n",
      "[2,]   15    6\n"
     ]
    }
   ],
   "source": [
    "print(A)\n",
    "print(B)"
   ]
  },
  {
   "cell_type": "code",
   "execution_count": 20,
   "id": "d9da3e7a",
   "metadata": {},
   "outputs": [
    {
     "data": {
      "text/html": [
       "<table>\n",
       "<tbody>\n",
       "\t<tr><td>170</td><td>78 </td></tr>\n",
       "\t<tr><td>205</td><td>87 </td></tr>\n",
       "</tbody>\n",
       "</table>\n"
      ],
      "text/latex": [
       "\\begin{tabular}{ll}\n",
       "\t 170 & 78 \\\\\n",
       "\t 205 & 87 \\\\\n",
       "\\end{tabular}\n"
      ],
      "text/markdown": [
       "\n",
       "| 170 | 78  |\n",
       "| 205 | 87  |\n",
       "\n"
      ],
      "text/plain": [
       "     [,1] [,2]\n",
       "[1,] 170  78  \n",
       "[2,] 205  87  "
      ]
     },
     "metadata": {},
     "output_type": "display_data"
    }
   ],
   "source": [
    "A %*% B"
   ]
  },
  {
   "cell_type": "code",
   "execution_count": 21,
   "id": "9085535d",
   "metadata": {},
   "outputs": [],
   "source": [
    "# determinant"
   ]
  },
  {
   "cell_type": "code",
   "execution_count": 22,
   "id": "f5395ef8",
   "metadata": {},
   "outputs": [
    {
     "data": {
      "text/html": [
       "-15"
      ],
      "text/latex": [
       "-15"
      ],
      "text/markdown": [
       "-15"
      ],
      "text/plain": [
       "[1] -15"
      ]
     },
     "metadata": {},
     "output_type": "display_data"
    }
   ],
   "source": [
    "det(B)"
   ]
  },
  {
   "cell_type": "code",
   "execution_count": 23,
   "id": "cba9a6ae",
   "metadata": {},
   "outputs": [
    {
     "data": {
      "text/html": [
       "80"
      ],
      "text/latex": [
       "80"
      ],
      "text/markdown": [
       "80"
      ],
      "text/plain": [
       "[1] 80"
      ]
     },
     "metadata": {},
     "output_type": "display_data"
    }
   ],
   "source": [
    "det(A)"
   ]
  },
  {
   "cell_type": "code",
   "execution_count": 24,
   "id": "8837e5b8",
   "metadata": {},
   "outputs": [],
   "source": [
    "# inverse of matrix"
   ]
  },
  {
   "cell_type": "code",
   "execution_count": 25,
   "id": "7cd6b470",
   "metadata": {},
   "outputs": [
    {
     "data": {
      "text/html": [
       "<table>\n",
       "<tbody>\n",
       "\t<tr><td> 0.1500</td><td>-0.100 </td></tr>\n",
       "\t<tr><td>-0.0625</td><td> 0.125 </td></tr>\n",
       "</tbody>\n",
       "</table>\n"
      ],
      "text/latex": [
       "\\begin{tabular}{ll}\n",
       "\t  0.1500 & -0.100 \\\\\n",
       "\t -0.0625 &  0.125 \\\\\n",
       "\\end{tabular}\n"
      ],
      "text/markdown": [
       "\n",
       "|  0.1500 | -0.100  |\n",
       "| -0.0625 |  0.125  |\n",
       "\n"
      ],
      "text/plain": [
       "     [,1]    [,2]  \n",
       "[1,]  0.1500 -0.100\n",
       "[2,] -0.0625  0.125"
      ]
     },
     "metadata": {},
     "output_type": "display_data"
    }
   ],
   "source": [
    "solve(A)"
   ]
  },
  {
   "cell_type": "code",
   "execution_count": 26,
   "id": "e206cb4a",
   "metadata": {},
   "outputs": [
    {
     "data": {
      "text/html": [
       "<table>\n",
       "<tbody>\n",
       "\t<tr><td>1.000000e+00</td><td>0           </td></tr>\n",
       "\t<tr><td>1.110223e-16</td><td>1           </td></tr>\n",
       "</tbody>\n",
       "</table>\n"
      ],
      "text/latex": [
       "\\begin{tabular}{ll}\n",
       "\t 1.000000e+00 & 0           \\\\\n",
       "\t 1.110223e-16 & 1           \\\\\n",
       "\\end{tabular}\n"
      ],
      "text/markdown": [
       "\n",
       "| 1.000000e+00 | 0            |\n",
       "| 1.110223e-16 | 1            |\n",
       "\n"
      ],
      "text/plain": [
       "     [,1]         [,2]\n",
       "[1,] 1.000000e+00 0   \n",
       "[2,] 1.110223e-16 1   "
      ]
     },
     "metadata": {},
     "output_type": "display_data"
    }
   ],
   "source": [
    "A %*% solve(A)"
   ]
  },
  {
   "cell_type": "code",
   "execution_count": 27,
   "id": "a54d3475",
   "metadata": {},
   "outputs": [],
   "source": [
    "# get the diagonal"
   ]
  },
  {
   "cell_type": "code",
   "execution_count": 28,
   "id": "3279766d",
   "metadata": {},
   "outputs": [
    {
     "data": {
      "text/html": [
       "<table>\n",
       "<thead><tr><th scope=col>x1</th><th scope=col>x2</th><th scope=col>x3</th></tr></thead>\n",
       "<tbody>\n",
       "\t<tr><td>1 </td><td>5 </td><td>-1</td></tr>\n",
       "\t<tr><td>2 </td><td>3 </td><td> 7</td></tr>\n",
       "\t<tr><td>3 </td><td>0 </td><td> 3</td></tr>\n",
       "</tbody>\n",
       "</table>\n"
      ],
      "text/latex": [
       "\\begin{tabular}{lll}\n",
       " x1 & x2 & x3\\\\\n",
       "\\hline\n",
       "\t 1  & 5  & -1\\\\\n",
       "\t 2  & 3  &  7\\\\\n",
       "\t 3  & 0  &  3\\\\\n",
       "\\end{tabular}\n"
      ],
      "text/markdown": [
       "\n",
       "| x1 | x2 | x3 |\n",
       "|---|---|---|\n",
       "| 1  | 5  | -1 |\n",
       "| 2  | 3  |  7 |\n",
       "| 3  | 0  |  3 |\n",
       "\n"
      ],
      "text/plain": [
       "     x1 x2 x3\n",
       "[1,] 1  5  -1\n",
       "[2,] 2  3   7\n",
       "[3,] 3  0   3"
      ]
     },
     "metadata": {},
     "output_type": "display_data"
    }
   ],
   "source": [
    "mat <- cbind(x1,x2,x3)\n",
    "mat"
   ]
  },
  {
   "cell_type": "code",
   "execution_count": 29,
   "id": "36d3b907",
   "metadata": {},
   "outputs": [
    {
     "data": {
      "text/html": [
       "<ol class=list-inline>\n",
       "\t<li>1</li>\n",
       "\t<li>3</li>\n",
       "\t<li>3</li>\n",
       "</ol>\n"
      ],
      "text/latex": [
       "\\begin{enumerate*}\n",
       "\\item 1\n",
       "\\item 3\n",
       "\\item 3\n",
       "\\end{enumerate*}\n"
      ],
      "text/markdown": [
       "1. 1\n",
       "2. 3\n",
       "3. 3\n",
       "\n",
       "\n"
      ],
      "text/plain": [
       "[1] 1 3 3"
      ]
     },
     "metadata": {},
     "output_type": "display_data"
    }
   ],
   "source": [
    "diag(mat)"
   ]
  },
  {
   "cell_type": "code",
   "execution_count": 30,
   "id": "acdd8136",
   "metadata": {},
   "outputs": [],
   "source": [
    "# create a matrix with a given diagonal"
   ]
  },
  {
   "cell_type": "code",
   "execution_count": 31,
   "id": "dc759c19",
   "metadata": {},
   "outputs": [
    {
     "data": {
      "text/html": [
       "<table>\n",
       "<tbody>\n",
       "\t<tr><td>7</td><td>0</td><td>0</td></tr>\n",
       "\t<tr><td>0</td><td>9</td><td>0</td></tr>\n",
       "\t<tr><td>0</td><td>0</td><td>2</td></tr>\n",
       "</tbody>\n",
       "</table>\n"
      ],
      "text/latex": [
       "\\begin{tabular}{lll}\n",
       "\t 7 & 0 & 0\\\\\n",
       "\t 0 & 9 & 0\\\\\n",
       "\t 0 & 0 & 2\\\\\n",
       "\\end{tabular}\n"
      ],
      "text/markdown": [
       "\n",
       "| 7 | 0 | 0 |\n",
       "| 0 | 9 | 0 |\n",
       "| 0 | 0 | 2 |\n",
       "\n"
      ],
      "text/plain": [
       "     [,1] [,2] [,3]\n",
       "[1,] 7    0    0   \n",
       "[2,] 0    9    0   \n",
       "[3,] 0    0    2   "
      ]
     },
     "metadata": {},
     "output_type": "display_data"
    }
   ],
   "source": [
    "diag(c(7, 9, 2))"
   ]
  },
  {
   "cell_type": "code",
   "execution_count": 32,
   "id": "190547d0",
   "metadata": {},
   "outputs": [],
   "source": [
    "# create identity matrix of a given order"
   ]
  },
  {
   "cell_type": "code",
   "execution_count": 33,
   "id": "b2e9f548",
   "metadata": {},
   "outputs": [
    {
     "data": {
      "text/html": [
       "<table>\n",
       "<tbody>\n",
       "\t<tr><td>1</td><td>0</td><td>0</td></tr>\n",
       "\t<tr><td>0</td><td>1</td><td>0</td></tr>\n",
       "\t<tr><td>0</td><td>0</td><td>1</td></tr>\n",
       "</tbody>\n",
       "</table>\n"
      ],
      "text/latex": [
       "\\begin{tabular}{lll}\n",
       "\t 1 & 0 & 0\\\\\n",
       "\t 0 & 1 & 0\\\\\n",
       "\t 0 & 0 & 1\\\\\n",
       "\\end{tabular}\n"
      ],
      "text/markdown": [
       "\n",
       "| 1 | 0 | 0 |\n",
       "| 0 | 1 | 0 |\n",
       "| 0 | 0 | 1 |\n",
       "\n"
      ],
      "text/plain": [
       "     [,1] [,2] [,3]\n",
       "[1,] 1    0    0   \n",
       "[2,] 0    1    0   \n",
       "[3,] 0    0    1   "
      ]
     },
     "metadata": {},
     "output_type": "display_data"
    }
   ],
   "source": [
    "diag(3)"
   ]
  },
  {
   "cell_type": "code",
   "execution_count": 34,
   "id": "38abd265",
   "metadata": {},
   "outputs": [],
   "source": [
    "# get eigen values and vectors"
   ]
  },
  {
   "cell_type": "code",
   "execution_count": 35,
   "id": "a28a4349",
   "metadata": {},
   "outputs": [
    {
     "data": {
      "text/html": [
       "<table>\n",
       "<tbody>\n",
       "\t<tr><td>7 </td><td> 3</td></tr>\n",
       "\t<tr><td>3 </td><td>-1</td></tr>\n",
       "</tbody>\n",
       "</table>\n"
      ],
      "text/latex": [
       "\\begin{tabular}{ll}\n",
       "\t 7  &  3\\\\\n",
       "\t 3  & -1\\\\\n",
       "\\end{tabular}\n"
      ],
      "text/markdown": [
       "\n",
       "| 7  |  3 |\n",
       "| 3  | -1 |\n",
       "\n"
      ],
      "text/plain": [
       "     [,1] [,2]\n",
       "[1,] 7     3  \n",
       "[2,] 3    -1  "
      ]
     },
     "metadata": {},
     "output_type": "display_data"
    }
   ],
   "source": [
    "A = matrix(c(7,3,3,-1), nrow=2)\n",
    "A"
   ]
  },
  {
   "cell_type": "code",
   "execution_count": 36,
   "id": "a57b823c",
   "metadata": {},
   "outputs": [
    {
     "data": {
      "text/plain": [
       "eigen() decomposition\n",
       "$values\n",
       "[1]  8 -2\n",
       "\n",
       "$vectors\n",
       "           [,1]       [,2]\n",
       "[1,] -0.9486833  0.3162278\n",
       "[2,] -0.3162278 -0.9486833\n"
      ]
     },
     "metadata": {},
     "output_type": "display_data"
    }
   ],
   "source": [
    "eigen(A)"
   ]
  },
  {
   "cell_type": "code",
   "execution_count": 37,
   "id": "6ae27cfb",
   "metadata": {},
   "outputs": [
    {
     "data": {
      "text/html": [
       "<ol class=list-inline>\n",
       "\t<li>8</li>\n",
       "\t<li>-2</li>\n",
       "</ol>\n"
      ],
      "text/latex": [
       "\\begin{enumerate*}\n",
       "\\item 8\n",
       "\\item -2\n",
       "\\end{enumerate*}\n"
      ],
      "text/markdown": [
       "1. 8\n",
       "2. -2\n",
       "\n",
       "\n"
      ],
      "text/plain": [
       "[1]  8 -2"
      ]
     },
     "metadata": {},
     "output_type": "display_data"
    }
   ],
   "source": [
    "eigen(A)$values"
   ]
  },
  {
   "cell_type": "code",
   "execution_count": 38,
   "id": "4728a4cc",
   "metadata": {},
   "outputs": [
    {
     "data": {
      "text/html": [
       "<table>\n",
       "<tbody>\n",
       "\t<tr><td>-0.9486833</td><td> 0.3162278</td></tr>\n",
       "\t<tr><td>-0.3162278</td><td>-0.9486833</td></tr>\n",
       "</tbody>\n",
       "</table>\n"
      ],
      "text/latex": [
       "\\begin{tabular}{ll}\n",
       "\t -0.9486833 &  0.3162278\\\\\n",
       "\t -0.3162278 & -0.9486833\\\\\n",
       "\\end{tabular}\n"
      ],
      "text/markdown": [
       "\n",
       "| -0.9486833 |  0.3162278 |\n",
       "| -0.3162278 | -0.9486833 |\n",
       "\n"
      ],
      "text/plain": [
       "     [,1]       [,2]      \n",
       "[1,] -0.9486833  0.3162278\n",
       "[2,] -0.3162278 -0.9486833"
      ]
     },
     "metadata": {},
     "output_type": "display_data"
    }
   ],
   "source": [
    "eigen(A)$vectors"
   ]
  },
  {
   "cell_type": "code",
   "execution_count": 39,
   "id": "f37d7181",
   "metadata": {},
   "outputs": [
    {
     "name": "stdout",
     "output_type": "stream",
     "text": [
      "\n",
      "  There is a binary version available but the source version is later:\n",
      "       binary source needs_compilation\n",
      "Matrix  1.3-3  1.5-4              TRUE\n",
      "\n",
      "  Binaries will be installed\n",
      "package 'Matrix' successfully unpacked and MD5 sums checked\n",
      "\n",
      "The downloaded binary packages are in\n",
      "\tC:\\Users\\ssridhar\\AppData\\Local\\Temp\\Rtmpwv3VIe\\downloaded_packages\n"
     ]
    }
   ],
   "source": [
    "install.packages(\"Matrix\")"
   ]
  },
  {
   "cell_type": "code",
   "execution_count": 40,
   "id": "60103b32",
   "metadata": {},
   "outputs": [
    {
     "name": "stderr",
     "output_type": "stream",
     "text": [
      "Warning message:\n",
      "\"package 'Matrix' was built under R version 3.6.3\""
     ]
    }
   ],
   "source": [
    "library(Matrix)"
   ]
  },
  {
   "cell_type": "code",
   "execution_count": 65,
   "id": "04e488e1",
   "metadata": {},
   "outputs": [
    {
     "data": {
      "text/html": [
       "<table>\n",
       "<tbody>\n",
       "\t<tr><td>1</td><td>4</td><td>7</td></tr>\n",
       "\t<tr><td>2</td><td>5</td><td>8</td></tr>\n",
       "\t<tr><td>3</td><td>6</td><td>9</td></tr>\n",
       "</tbody>\n",
       "</table>\n"
      ],
      "text/latex": [
       "\\begin{tabular}{lll}\n",
       "\t 1 & 4 & 7\\\\\n",
       "\t 2 & 5 & 8\\\\\n",
       "\t 3 & 6 & 9\\\\\n",
       "\\end{tabular}\n"
      ],
      "text/markdown": [
       "\n",
       "| 1 | 4 | 7 |\n",
       "| 2 | 5 | 8 |\n",
       "| 3 | 6 | 9 |\n",
       "\n"
      ],
      "text/plain": [
       "     [,1] [,2] [,3]\n",
       "[1,] 1    4    7   \n",
       "[2,] 2    5    8   \n",
       "[3,] 3    6    9   "
      ]
     },
     "metadata": {},
     "output_type": "display_data"
    }
   ],
   "source": [
    "matrix(1:9, nrow=3, byrow=F)"
   ]
  },
  {
   "cell_type": "code",
   "execution_count": 41,
   "id": "06360834",
   "metadata": {},
   "outputs": [],
   "source": [
    "A = matrix(1:9, nrow=3, byrow=T)\n",
    "l <- lu(A)"
   ]
  },
  {
   "cell_type": "code",
   "execution_count": 42,
   "id": "dfa8f9ad",
   "metadata": {},
   "outputs": [
    {
     "data": {
      "text/plain": [
       "3 x 3 Matrix of class \"dgeMatrix\"\n",
       "     [,1] [,2] [,3]\n",
       "[1,]    1    2    3\n",
       "[2,]    4    5    6\n",
       "[3,]    7    8    9"
      ]
     },
     "metadata": {},
     "output_type": "display_data"
    }
   ],
   "source": [
    "expand(l)$P %*% expand(l)$L %*% expand(l)$U"
   ]
  },
  {
   "cell_type": "code",
   "execution_count": 43,
   "id": "a9aee92e",
   "metadata": {},
   "outputs": [
    {
     "name": "stdout",
     "output_type": "stream",
     "text": [
      "\n",
      "lu> ##--- Dense  -------------------------\n",
      "lu> x <- Matrix(rnorm(9), 3, 3)\n",
      "\n",
      "lu> lu(x)\n",
      "'MatrixFactorization' of Formal class 'denseLU' [package \"Matrix\"] with 4 slots\n",
      "  ..@ x       : num [1:9] -0.285 0.517 -0.751 1.308 -2.165 ...\n",
      "  ..@ perm    : int [1:3] 1 3 3\n",
      "  ..@ Dimnames:List of 2\n",
      "  .. ..$ : NULL\n",
      "  .. ..$ : NULL\n",
      "  ..@ Dim     : int [1:2] 3 3\n",
      "\n",
      "lu> dim(x2 <- round(10 * x[,-3]))# non-square\n",
      "[1] 3 2\n",
      "\n",
      "lu> expand(lu2 <- lu(x2))\n",
      "$L\n",
      "3 x 2 Matrix of class \"dgeMatrix\"\n",
      "           [,1]        [,2]\n",
      "[1,]  1.0000000  0.00000000\n",
      "[2,]  0.3333333  1.00000000\n",
      "[3,] -0.6666667 -0.03448276\n",
      "\n",
      "$U\n",
      "2 x 2 Matrix of class \"dtrMatrix\"\n",
      "     [,1]      [,2]     \n",
      "[1,]  -3.00000  13.00000\n",
      "[2,]         . -19.33333\n",
      "\n",
      "$P\n",
      "3 x 3 sparse Matrix of class \"pMatrix\"\n",
      "          \n",
      "[1,] | . .\n",
      "[2,] . . |\n",
      "[3,] . | .\n",
      "\n",
      "\n",
      "lu> ##--- Sparse (see more in ?\"sparseLU-class\")----- % ./sparseLU-class.Rd\n",
      "lu> \n",
      "lu> pm <- as(readMM(system.file(\"external/pores_1.mtx\",\n",
      "lu+                             package = \"Matrix\")),\n",
      "lu+          \"CsparseMatrix\")\n",
      "\n",
      "lu> str(pmLU <- lu(pm))\t\t# p is a 0-based permutation of the rows\n",
      "Formal class 'sparseLU' [package \"Matrix\"] with 5 slots\n",
      "  ..@ L  :Formal class 'dtCMatrix' [package \"Matrix\"] with 7 slots\n",
      "  .. .. ..@ i       : int [1:141] 0 1 18 22 25 26 1 18 22 25 ...\n",
      "  .. .. ..@ p       : int [1:31] 0 6 11 13 16 19 22 26 31 35 ...\n",
      "  .. .. ..@ Dim     : int [1:2] 30 30\n",
      "  .. .. ..@ Dimnames:List of 2\n",
      "  .. .. .. ..$ : NULL\n",
      "  .. .. .. ..$ : NULL\n",
      "  .. .. ..@ x       : num [1:141] 1 -0.993819 -0.004979 -0.000132 0.000132 ...\n",
      "  .. .. ..@ uplo    : chr \"L\"\n",
      "  .. .. ..@ diag    : chr \"N\"\n",
      "  ..@ U  :Formal class 'dtCMatrix' [package \"Matrix\"] with 7 slots\n",
      "  .. .. ..@ i       : int [1:206] 0 0 1 2 2 3 2 4 2 3 ...\n",
      "  .. .. ..@ p       : int [1:31] 0 1 3 4 6 8 12 15 20 25 ...\n",
      "  .. .. ..@ Dim     : int [1:2] 30 30\n",
      "  .. .. ..@ Dimnames:List of 2\n",
      "  .. .. .. ..$ : NULL\n",
      "  .. .. .. ..$ : NULL\n",
      "  .. .. ..@ x       : num [1:206] -7178502 -24613411 -18311731 -6399179 715 ...\n",
      "  .. .. ..@ uplo    : chr \"U\"\n",
      "  .. .. ..@ diag    : chr \"N\"\n",
      "  ..@ p  : int [1:30] 1 11 29 27 19 28 9 18 17 7 ...\n",
      "  ..@ q  : int [1:30] 0 1 29 27 19 28 9 18 17 8 ...\n",
      "  ..@ Dim: int [1:2] 30 30\n",
      "\n",
      "lu>                                 # q is a 0-based permutation of the columns\n",
      "lu> ## permute rows and columns of original matrix\n",
      "lu> ppm <- pm[pmLU@p + 1L, pmLU@q + 1L]\n",
      "\n",
      "lu> pLU <- drop0(pmLU@L %*% pmLU@U) # L %*% U -- dropping extra zeros\n",
      "\n",
      "lu> ## equal up to \"rounding\"\n",
      "lu> ppm[1:14, 1:5]\n",
      "14 x 5 sparse Matrix of class \"dgCMatrix\"\n",
      "                                                               \n",
      " [1,] -7178502 -24613411        .         .              .     \n",
      " [2,]  7134131   6149543        .         .              .     \n",
      " [3,]        .         . -6399179.02    714.93042   -60465.5137\n",
      " [4,]        .         .        .    -14268.95676        .     \n",
      " [5,]        .         .        .         .       -3786246.2010\n",
      " [6,]        .         .    44912.53      .           -272.6859\n",
      " [7,]        .         .        .         .              .     \n",
      " [8,]        .         .        .         .          27213.6868\n",
      " [9,]        .         .        .         .              .     \n",
      "[10,]        .         .        .         .              .     \n",
      "[11,]        .         .        .         .              .     \n",
      "[12,]        .         .        .         .              .     \n",
      "[13,]        .         .        .        30.18415        .     \n",
      "[14,]        .         .        .         .              .     \n",
      "\n",
      "lu> pLU[1:14, 1:5]\n",
      "14 x 5 sparse Matrix of class \"dgCMatrix\"\n",
      "                                                               \n",
      " [1,] -7178502 -24613411        .         .              .     \n",
      " [2,]  7134131   6149543        .         .              .     \n",
      " [3,]        .         . -6399179.02    714.93042   -60465.5137\n",
      " [4,]        .         .        .    -14268.95676        .     \n",
      " [5,]        .         .        .         .       -3786246.2010\n",
      " [6,]        .         .    44912.53      .           -272.6859\n",
      " [7,]        .         .        .         .              .     \n",
      " [8,]        .         .        .         .          27213.6868\n",
      " [9,]        .         .        .         .              .     \n",
      "[10,]        .         .        .         .              .     \n",
      "[11,]        .         .        .         .              .     \n",
      "[12,]        .         .        .         .              .     \n",
      "[13,]        .         .        .        30.18415        .     \n",
      "[14,]        .         .        .         .              .     \n"
     ]
    }
   ],
   "source": [
    "example(lu)"
   ]
  },
  {
   "cell_type": "code",
   "execution_count": 44,
   "id": "ee919bfb",
   "metadata": {},
   "outputs": [
    {
     "name": "stdout",
     "output_type": "stream",
     "text": [
      "\n",
      "  There is a binary version available but the source version is later:\n",
      "           binary source needs_compilation\n",
      "matrixcalc  1.0-3  1.0-6             FALSE\n",
      "\n"
     ]
    },
    {
     "name": "stderr",
     "output_type": "stream",
     "text": [
      "installing the source package 'matrixcalc'\n",
      "\n"
     ]
    }
   ],
   "source": [
    "install.packages(\"matrixcalc\")"
   ]
  },
  {
   "cell_type": "code",
   "execution_count": 45,
   "id": "fd1fc628",
   "metadata": {},
   "outputs": [],
   "source": [
    "library(matrixcalc)"
   ]
  },
  {
   "cell_type": "code",
   "execution_count": 46,
   "id": "d11101d3",
   "metadata": {},
   "outputs": [
    {
     "data": {
      "text/html": [
       "<dl>\n",
       "\t<dt>$L</dt>\n",
       "\t\t<dd><table>\n",
       "<tbody>\n",
       "\t<tr><td>1</td><td>0</td><td>0</td></tr>\n",
       "\t<tr><td>4</td><td>1</td><td>0</td></tr>\n",
       "\t<tr><td>7</td><td>2</td><td>1</td></tr>\n",
       "</tbody>\n",
       "</table>\n",
       "</dd>\n",
       "\t<dt>$U</dt>\n",
       "\t\t<dd><table>\n",
       "<tbody>\n",
       "\t<tr><td>1 </td><td> 2</td><td> 3</td></tr>\n",
       "\t<tr><td>0 </td><td>-3</td><td>-6</td></tr>\n",
       "\t<tr><td>0 </td><td> 0</td><td> 0</td></tr>\n",
       "</tbody>\n",
       "</table>\n",
       "</dd>\n",
       "</dl>\n"
      ],
      "text/latex": [
       "\\begin{description}\n",
       "\\item[\\$L] \\begin{tabular}{lll}\n",
       "\t 1 & 0 & 0\\\\\n",
       "\t 4 & 1 & 0\\\\\n",
       "\t 7 & 2 & 1\\\\\n",
       "\\end{tabular}\n",
       "\n",
       "\\item[\\$U] \\begin{tabular}{lll}\n",
       "\t 1  &  2 &  3\\\\\n",
       "\t 0  & -3 & -6\\\\\n",
       "\t 0  &  0 &  0\\\\\n",
       "\\end{tabular}\n",
       "\n",
       "\\end{description}\n"
      ],
      "text/markdown": [
       "$L\n",
       ":   \n",
       "| 1 | 0 | 0 |\n",
       "| 4 | 1 | 0 |\n",
       "| 7 | 2 | 1 |\n",
       "\n",
       "\n",
       "$U\n",
       ":   \n",
       "| 1  |  2 |  3 |\n",
       "| 0  | -3 | -6 |\n",
       "| 0  |  0 |  0 |\n",
       "\n",
       "\n",
       "\n",
       "\n"
      ],
      "text/plain": [
       "$L\n",
       "     [,1] [,2] [,3]\n",
       "[1,]    1    0    0\n",
       "[2,]    4    1    0\n",
       "[3,]    7    2    1\n",
       "\n",
       "$U\n",
       "     [,1] [,2] [,3]\n",
       "[1,]    1    2    3\n",
       "[2,]    0   -3   -6\n",
       "[3,]    0    0    0\n"
      ]
     },
     "metadata": {},
     "output_type": "display_data"
    }
   ],
   "source": [
    "lu.decomposition(A)"
   ]
  },
  {
   "cell_type": "code",
   "execution_count": 47,
   "id": "4909a61b",
   "metadata": {},
   "outputs": [],
   "source": [
    "luA <- lu.decomposition(A)\n",
    "L <- luA$L\n",
    "U <- luA$U"
   ]
  },
  {
   "cell_type": "code",
   "execution_count": 48,
   "id": "c71c7b30",
   "metadata": {},
   "outputs": [
    {
     "data": {
      "text/html": [
       "<table>\n",
       "<tbody>\n",
       "\t<tr><td>1</td><td>2</td><td>3</td></tr>\n",
       "\t<tr><td>4</td><td>5</td><td>6</td></tr>\n",
       "\t<tr><td>7</td><td>8</td><td>9</td></tr>\n",
       "</tbody>\n",
       "</table>\n"
      ],
      "text/latex": [
       "\\begin{tabular}{lll}\n",
       "\t 1 & 2 & 3\\\\\n",
       "\t 4 & 5 & 6\\\\\n",
       "\t 7 & 8 & 9\\\\\n",
       "\\end{tabular}\n"
      ],
      "text/markdown": [
       "\n",
       "| 1 | 2 | 3 |\n",
       "| 4 | 5 | 6 |\n",
       "| 7 | 8 | 9 |\n",
       "\n"
      ],
      "text/plain": [
       "     [,1] [,2] [,3]\n",
       "[1,] 1    2    3   \n",
       "[2,] 4    5    6   \n",
       "[3,] 7    8    9   "
      ]
     },
     "metadata": {},
     "output_type": "display_data"
    }
   ],
   "source": [
    "L %*% U"
   ]
  },
  {
   "cell_type": "code",
   "execution_count": 49,
   "id": "ceb15ca8",
   "metadata": {},
   "outputs": [
    {
     "data": {
      "text/html": [
       "<table>\n",
       "<tbody>\n",
       "\t<tr><td>1</td><td>2</td><td>3</td></tr>\n",
       "\t<tr><td>4</td><td>5</td><td>6</td></tr>\n",
       "\t<tr><td>7</td><td>8</td><td>9</td></tr>\n",
       "</tbody>\n",
       "</table>\n"
      ],
      "text/latex": [
       "\\begin{tabular}{lll}\n",
       "\t 1 & 2 & 3\\\\\n",
       "\t 4 & 5 & 6\\\\\n",
       "\t 7 & 8 & 9\\\\\n",
       "\\end{tabular}\n"
      ],
      "text/markdown": [
       "\n",
       "| 1 | 2 | 3 |\n",
       "| 4 | 5 | 6 |\n",
       "| 7 | 8 | 9 |\n",
       "\n"
      ],
      "text/plain": [
       "     [,1] [,2] [,3]\n",
       "[1,] 1    2    3   \n",
       "[2,] 4    5    6   \n",
       "[3,] 7    8    9   "
      ]
     },
     "metadata": {},
     "output_type": "display_data"
    }
   ],
   "source": [
    "mat <- matrix(1:9, nrow=3,byrow=T)\n",
    "mat"
   ]
  },
  {
   "cell_type": "code",
   "execution_count": 50,
   "id": "0011bd92",
   "metadata": {},
   "outputs": [],
   "source": [
    "# Exercises"
   ]
  },
  {
   "cell_type": "code",
   "execution_count": 51,
   "id": "58905420",
   "metadata": {},
   "outputs": [],
   "source": [
    "# create a 5x5 matrix"
   ]
  },
  {
   "cell_type": "code",
   "execution_count": 52,
   "id": "2f6a34d0",
   "metadata": {},
   "outputs": [],
   "source": [
    "# subset a row"
   ]
  },
  {
   "cell_type": "code",
   "execution_count": 53,
   "id": "db8da83b",
   "metadata": {},
   "outputs": [],
   "source": [
    "# subset a column"
   ]
  },
  {
   "cell_type": "code",
   "execution_count": 54,
   "id": "1d706837",
   "metadata": {},
   "outputs": [],
   "source": [
    "# subset some rows and cols"
   ]
  },
  {
   "cell_type": "code",
   "execution_count": 55,
   "id": "4e3671fa",
   "metadata": {},
   "outputs": [],
   "source": [
    "# calculate the sum of rows"
   ]
  },
  {
   "cell_type": "code",
   "execution_count": 56,
   "id": "d4011149",
   "metadata": {},
   "outputs": [],
   "source": [
    "# calculate the sum of cols"
   ]
  },
  {
   "cell_type": "code",
   "execution_count": 57,
   "id": "af6deb46",
   "metadata": {},
   "outputs": [],
   "source": [
    "# check the dimensions of the matrix"
   ]
  },
  {
   "cell_type": "code",
   "execution_count": 58,
   "id": "371eaed2",
   "metadata": {},
   "outputs": [],
   "source": [
    "# is this matrix invertible?"
   ]
  },
  {
   "cell_type": "code",
   "execution_count": 59,
   "id": "895de046",
   "metadata": {},
   "outputs": [],
   "source": [
    "# invert the matrix"
   ]
  },
  {
   "cell_type": "code",
   "execution_count": 60,
   "id": "bf5b36e7",
   "metadata": {},
   "outputs": [],
   "source": [
    "# get the eigen value and vectors"
   ]
  },
  {
   "cell_type": "code",
   "execution_count": 61,
   "id": "ce976db8",
   "metadata": {},
   "outputs": [],
   "source": [
    "# verify fo all eigen vectors v is if Av = <lambda> v"
   ]
  },
  {
   "cell_type": "raw",
   "id": "41cf60f5",
   "metadata": {},
   "source": [
    "solve these using matrix inversion method\n",
    "\n",
    "2x – y + 3z = 10\n",
    "x + 3y – 2z = 5\n",
    "3x – 2y + 4z = 12"
   ]
  },
  {
   "cell_type": "raw",
   "id": "20d5d148",
   "metadata": {},
   "source": [
    "solve these using lu decomposition\n",
    "\n",
    "2x – y + 3z = 10\n",
    "x + 3y – 2z = 5\n",
    "3x – 2y + 4z = 12"
   ]
  },
  {
   "cell_type": "code",
   "execution_count": null,
   "id": "303bf88a",
   "metadata": {},
   "outputs": [],
   "source": [
    "# learn about Singular Value Decomposition and try that using a library\n",
    "# try to achieve the same using eigen() function and compare reaults"
   ]
  },
  {
   "cell_type": "code",
   "execution_count": null,
   "id": "f3dfd3f7",
   "metadata": {},
   "outputs": [],
   "source": []
  }
 ],
 "metadata": {
  "kernelspec": {
   "display_name": "Python 3 (ipykernel)",
   "language": "python",
   "name": "python3"
  },
  "language_info": {
   "codemirror_mode": {
    "name": "ipython",
    "version": 3
   },
   "file_extension": ".py",
   "mimetype": "text/x-python",
   "name": "python",
   "nbconvert_exporter": "python",
   "pygments_lexer": "ipython3",
   "version": "3.9.13"
  }
 },
 "nbformat": 4,
 "nbformat_minor": 5
}
